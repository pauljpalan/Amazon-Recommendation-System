{
  "cells": [
    {
      "cell_type": "markdown",
      "metadata": {
        "id": "pXQzH0nC5JtP"
      },
      "source": [
        "# **Project: Amazon Product Recommendation System**\n",
        "\n",
        "# **Marks: 40**\n",
        "\n",
        "\n",
        "Welcome to the project on Recommendation Systems. We will work with the Amazon product reviews dataset for this project. The dataset contains ratings of different electronic products. It does not include information about the products or reviews to avoid bias while building the model.\n",
        "\n",
        "--------------\n",
        "## **Context:**\n",
        "--------------\n",
        "\n",
        "Today, information is growing exponentially with volume, velocity and variety throughout the globe. This has lead to information overload, and too many choices for the consumer of any business. It represents a real dilemma for these consumers and they often turn to denial. Recommender Systems are one of the best tools that help recommending products to consumers while they are browsing online. Providing personalized recommendations which is most relevant for the user is what's most likely to keep them engaged and help business.\n",
        "\n",
        "E-commerce websites like Amazon, Walmart, Target and Etsy use different recommendation models to provide personalized suggestions to different users. These companies spend millions of dollars to come up with algorithmic techniques that can provide personalized recommendations to their users.\n",
        "\n",
        "Amazon, for example, is well-known for its accurate selection of recommendations in its online site. Amazon's recommendation system is capable of intelligently analyzing and predicting customers' shopping preferences in order to offer them a list of recommended products. Amazon's recommendation algorithm is therefore a key element in using AI to improve the personalization of its website. For example, one of the baseline recommendation models that Amazon uses is item-to-item collaborative filtering, which scales to massive data sets and produces high-quality recommendations in real-time.\n",
        "\n",
        "----------------\n",
        "## **Objective:**\n",
        "----------------\n",
        "\n",
        "You are a Data Science Manager at Amazon, and have been given the task of building a recommendation system to recommend products to customers based on their previous ratings for other products. You have a collection of labeled data of Amazon reviews of products. The goal is to extract meaningful insights from the data and build a recommendation system that helps in recommending products to online consumers.\n",
        "\n",
        "-----------------------------\n",
        "## **Dataset:**\n",
        "-----------------------------\n",
        "\n",
        "The Amazon dataset contains the following attributes:\n",
        "\n",
        "- **userId:** Every user identified with a unique id\n",
        "- **productId:** Every product identified with a unique id\n",
        "- **Rating:** The rating of the corresponding product by the corresponding user\n",
        "- **timestamp:** Time of the rating. We **will not use this column** to solve the current problem"
      ]
    },
    {
      "cell_type": "markdown",
      "metadata": {
        "id": "nmdPxJ2Q7W7p"
      },
      "source": [
        "**Note:** The code has some user defined functions that will be usefull while making recommendations and measure model performance, you can use these functions or can create your own functions."
      ]
    },
    {
      "cell_type": "markdown",
      "metadata": {
        "id": "UoRfgjS2yekq"
      },
      "source": [
        "Sometimes, the installation of the surprise library, which is used to build recommendation systems, faces issues in Jupyter. To avoid any issues, it is advised to use **Google Colab** for this project.\n",
        "\n",
        "Let's start by mounting the Google drive on Colab."
      ]
    },
    {
      "cell_type": "code",
      "execution_count": null,
      "metadata": {
        "id": "GZ0YAszcT4zK",
        "colab": {
          "base_uri": "https://localhost:8080/"
        },
        "outputId": "97a1c0b9-36af-4746-86d6-50df4d6084cb"
      },
      "outputs": [
        {
          "output_type": "stream",
          "name": "stdout",
          "text": [
            "Mounted at /content/drive\n"
          ]
        }
      ],
      "source": [
        "from google.colab import drive\n",
        "drive.mount('/content/drive')"
      ]
    },
    {
      "cell_type": "markdown",
      "metadata": {
        "id": "0Ibk07-Cyekt"
      },
      "source": [
        "**Installing surprise library**"
      ]
    },
    {
      "cell_type": "code",
      "execution_count": null,
      "metadata": {
        "id": "05HQoiZYlsbB",
        "colab": {
          "base_uri": "https://localhost:8080/"
        },
        "outputId": "ee676eae-824e-46f6-e192-4d8e5d5ba8ed"
      },
      "outputs": [
        {
          "output_type": "stream",
          "name": "stdout",
          "text": [
            "Collecting surprise\n",
            "  Downloading surprise-0.1-py2.py3-none-any.whl (1.8 kB)\n",
            "Collecting scikit-surprise (from surprise)\n",
            "  Downloading scikit-surprise-1.1.3.tar.gz (771 kB)\n",
            "\u001b[2K     \u001b[90m━━━━━━━━━━━━━━━━━━━━━━━━━━━━━━━━━━━━━━━━\u001b[0m \u001b[32m772.0/772.0 kB\u001b[0m \u001b[31m5.6 MB/s\u001b[0m eta \u001b[36m0:00:00\u001b[0m\n",
            "\u001b[?25h  Preparing metadata (setup.py) ... \u001b[?25l\u001b[?25hdone\n",
            "Requirement already satisfied: joblib>=1.0.0 in /usr/local/lib/python3.10/dist-packages (from scikit-surprise->surprise) (1.3.2)\n",
            "Requirement already satisfied: numpy>=1.17.3 in /usr/local/lib/python3.10/dist-packages (from scikit-surprise->surprise) (1.25.2)\n",
            "Requirement already satisfied: scipy>=1.3.2 in /usr/local/lib/python3.10/dist-packages (from scikit-surprise->surprise) (1.11.4)\n",
            "Building wheels for collected packages: scikit-surprise\n",
            "  Building wheel for scikit-surprise (setup.py) ... \u001b[?25l\u001b[?25hdone\n",
            "  Created wheel for scikit-surprise: filename=scikit_surprise-1.1.3-cp310-cp310-linux_x86_64.whl size=3163010 sha256=a29afe41a252a254a1292981a9939626775282c868a91b863481431daa887444\n",
            "  Stored in directory: /root/.cache/pip/wheels/a5/ca/a8/4e28def53797fdc4363ca4af740db15a9c2f1595ebc51fb445\n",
            "Successfully built scikit-surprise\n",
            "Installing collected packages: scikit-surprise, surprise\n",
            "Successfully installed scikit-surprise-1.1.3 surprise-0.1\n"
          ]
        }
      ],
      "source": [
        "!pip install surprise"
      ]
    },
    {
      "cell_type": "markdown",
      "metadata": {
        "id": "7fIt4jcFIm76"
      },
      "source": [
        "## **Importing the necessary libraries and overview of the dataset**"
      ]
    },
    {
      "cell_type": "code",
      "execution_count": null,
      "metadata": {
        "id": "jzu2P-TT5JtP"
      },
      "outputs": [],
      "source": [
        "# ignore warnings\n",
        "import warnings\n",
        "warnings.filterwarnings('ignore')\n",
        "\n",
        "# basic libraries for numeric and dataframe calculations\n",
        "import numpy as np\n",
        "import pandas as pd\n",
        "\n",
        "# basic library for data visualization\n",
        "import matplotlib.pyplot as plt\n",
        "\n",
        "# seaborn for data visualization\n",
        "import seaborn as sns\n",
        "\n",
        "# a dictionary output that does not raise a key error\n",
        "from collections import defaultdict\n",
        "\n",
        "# a performance metrics in sklearn\n",
        "from sklearn.metrics import mean_squared_error\n",
        "\n",
        "# performance metric from surprise\n",
        "from surprise import accuracy\n",
        "\n",
        "# class to parse a file containing ratings\n",
        "from surprise.reader import Reader\n",
        "\n",
        "# class for loading datasets\n",
        "from surprise.dataset import Dataset\n",
        "\n",
        "# for tuning model hyper-parameters\n",
        "from surprise.model_selection import GridSearchCV\n",
        "\n",
        "# for splitting hte rating data in train and test dataset\n",
        "from surprise.model_selection import train_test_split\n",
        "\n",
        "# for implementing similarity based recommendation system\n",
        "from surprise.prediction_algorithms.knns import KNNBasic\n",
        "\n",
        "# for implementing matrix factorization based recommendation system\n",
        "from surprise.prediction_algorithms.matrix_factorization import SVD\n",
        "\n",
        "# for implementing cross validation\n",
        "from surprise.model_selection import KFold"
      ]
    },
    {
      "cell_type": "markdown",
      "metadata": {
        "id": "NrXYJAv95JtP"
      },
      "source": [
        "### **Loading the data**\n",
        "- Import the Dataset\n",
        "- Add column names ['user_id', 'prod_id', 'rating', 'timestamp']\n",
        "- Drop the column timestamp\n",
        "- Copy the data to another DataFrame called **df**"
      ]
    },
    {
      "cell_type": "code",
      "execution_count": null,
      "metadata": {
        "id": "JGb-Hk1B5JtP"
      },
      "outputs": [],
      "source": [
        "# reading the dataset\n",
        "electronics = pd.read_csv('/content/drive/MyDrive/DSML/Week 11/Project 3/ratings_Electronics.csv')"
      ]
    },
    {
      "cell_type": "code",
      "source": [
        "# adding column names to dataset\n",
        "electronics.columns = ['user_id', 'prod_id', 'rating', 'timestamp']"
      ],
      "metadata": {
        "id": "bEiENwLUOdvn"
      },
      "execution_count": null,
      "outputs": []
    },
    {
      "cell_type": "code",
      "source": [
        "#inspecting first 5 rows of dataframe\n",
        "electronics.head()"
      ],
      "metadata": {
        "colab": {
          "base_uri": "https://localhost:8080/",
          "height": 206
        },
        "id": "L-AKbpryOu5-",
        "outputId": "3e03b813-2068-4630-fa9e-e55b8b2de000"
      },
      "execution_count": null,
      "outputs": [
        {
          "output_type": "execute_result",
          "data": {
            "text/plain": [
              "          user_id     prod_id  rating   timestamp\n",
              "0  A2CX7LUOHB2NDG  0321732944     5.0  1341100800\n",
              "1  A2NWSAGRHCP8N5  0439886341     1.0  1367193600\n",
              "2  A2WNBOD3WNDNKT  0439886341     3.0  1374451200\n",
              "3  A1GI0U4ZRJA8WN  0439886341     1.0  1334707200\n",
              "4  A1QGNMC6O1VW39  0511189877     5.0  1397433600"
            ],
            "text/html": [
              "\n",
              "  <div id=\"df-6f8a7f4a-495f-41d8-8648-7eaea8dc74ac\" class=\"colab-df-container\">\n",
              "    <div>\n",
              "<style scoped>\n",
              "    .dataframe tbody tr th:only-of-type {\n",
              "        vertical-align: middle;\n",
              "    }\n",
              "\n",
              "    .dataframe tbody tr th {\n",
              "        vertical-align: top;\n",
              "    }\n",
              "\n",
              "    .dataframe thead th {\n",
              "        text-align: right;\n",
              "    }\n",
              "</style>\n",
              "<table border=\"1\" class=\"dataframe\">\n",
              "  <thead>\n",
              "    <tr style=\"text-align: right;\">\n",
              "      <th></th>\n",
              "      <th>user_id</th>\n",
              "      <th>prod_id</th>\n",
              "      <th>rating</th>\n",
              "      <th>timestamp</th>\n",
              "    </tr>\n",
              "  </thead>\n",
              "  <tbody>\n",
              "    <tr>\n",
              "      <th>0</th>\n",
              "      <td>A2CX7LUOHB2NDG</td>\n",
              "      <td>0321732944</td>\n",
              "      <td>5.0</td>\n",
              "      <td>1341100800</td>\n",
              "    </tr>\n",
              "    <tr>\n",
              "      <th>1</th>\n",
              "      <td>A2NWSAGRHCP8N5</td>\n",
              "      <td>0439886341</td>\n",
              "      <td>1.0</td>\n",
              "      <td>1367193600</td>\n",
              "    </tr>\n",
              "    <tr>\n",
              "      <th>2</th>\n",
              "      <td>A2WNBOD3WNDNKT</td>\n",
              "      <td>0439886341</td>\n",
              "      <td>3.0</td>\n",
              "      <td>1374451200</td>\n",
              "    </tr>\n",
              "    <tr>\n",
              "      <th>3</th>\n",
              "      <td>A1GI0U4ZRJA8WN</td>\n",
              "      <td>0439886341</td>\n",
              "      <td>1.0</td>\n",
              "      <td>1334707200</td>\n",
              "    </tr>\n",
              "    <tr>\n",
              "      <th>4</th>\n",
              "      <td>A1QGNMC6O1VW39</td>\n",
              "      <td>0511189877</td>\n",
              "      <td>5.0</td>\n",
              "      <td>1397433600</td>\n",
              "    </tr>\n",
              "  </tbody>\n",
              "</table>\n",
              "</div>\n",
              "    <div class=\"colab-df-buttons\">\n",
              "\n",
              "  <div class=\"colab-df-container\">\n",
              "    <button class=\"colab-df-convert\" onclick=\"convertToInteractive('df-6f8a7f4a-495f-41d8-8648-7eaea8dc74ac')\"\n",
              "            title=\"Convert this dataframe to an interactive table.\"\n",
              "            style=\"display:none;\">\n",
              "\n",
              "  <svg xmlns=\"http://www.w3.org/2000/svg\" height=\"24px\" viewBox=\"0 -960 960 960\">\n",
              "    <path d=\"M120-120v-720h720v720H120Zm60-500h600v-160H180v160Zm220 220h160v-160H400v160Zm0 220h160v-160H400v160ZM180-400h160v-160H180v160Zm440 0h160v-160H620v160ZM180-180h160v-160H180v160Zm440 0h160v-160H620v160Z\"/>\n",
              "  </svg>\n",
              "    </button>\n",
              "\n",
              "  <style>\n",
              "    .colab-df-container {\n",
              "      display:flex;\n",
              "      gap: 12px;\n",
              "    }\n",
              "\n",
              "    .colab-df-convert {\n",
              "      background-color: #E8F0FE;\n",
              "      border: none;\n",
              "      border-radius: 50%;\n",
              "      cursor: pointer;\n",
              "      display: none;\n",
              "      fill: #1967D2;\n",
              "      height: 32px;\n",
              "      padding: 0 0 0 0;\n",
              "      width: 32px;\n",
              "    }\n",
              "\n",
              "    .colab-df-convert:hover {\n",
              "      background-color: #E2EBFA;\n",
              "      box-shadow: 0px 1px 2px rgba(60, 64, 67, 0.3), 0px 1px 3px 1px rgba(60, 64, 67, 0.15);\n",
              "      fill: #174EA6;\n",
              "    }\n",
              "\n",
              "    .colab-df-buttons div {\n",
              "      margin-bottom: 4px;\n",
              "    }\n",
              "\n",
              "    [theme=dark] .colab-df-convert {\n",
              "      background-color: #3B4455;\n",
              "      fill: #D2E3FC;\n",
              "    }\n",
              "\n",
              "    [theme=dark] .colab-df-convert:hover {\n",
              "      background-color: #434B5C;\n",
              "      box-shadow: 0px 1px 3px 1px rgba(0, 0, 0, 0.15);\n",
              "      filter: drop-shadow(0px 1px 2px rgba(0, 0, 0, 0.3));\n",
              "      fill: #FFFFFF;\n",
              "    }\n",
              "  </style>\n",
              "\n",
              "    <script>\n",
              "      const buttonEl =\n",
              "        document.querySelector('#df-6f8a7f4a-495f-41d8-8648-7eaea8dc74ac button.colab-df-convert');\n",
              "      buttonEl.style.display =\n",
              "        google.colab.kernel.accessAllowed ? 'block' : 'none';\n",
              "\n",
              "      async function convertToInteractive(key) {\n",
              "        const element = document.querySelector('#df-6f8a7f4a-495f-41d8-8648-7eaea8dc74ac');\n",
              "        const dataTable =\n",
              "          await google.colab.kernel.invokeFunction('convertToInteractive',\n",
              "                                                    [key], {});\n",
              "        if (!dataTable) return;\n",
              "\n",
              "        const docLinkHtml = 'Like what you see? Visit the ' +\n",
              "          '<a target=\"_blank\" href=https://colab.research.google.com/notebooks/data_table.ipynb>data table notebook</a>'\n",
              "          + ' to learn more about interactive tables.';\n",
              "        element.innerHTML = '';\n",
              "        dataTable['output_type'] = 'display_data';\n",
              "        await google.colab.output.renderOutput(dataTable, element);\n",
              "        const docLink = document.createElement('div');\n",
              "        docLink.innerHTML = docLinkHtml;\n",
              "        element.appendChild(docLink);\n",
              "      }\n",
              "    </script>\n",
              "  </div>\n",
              "\n",
              "\n",
              "<div id=\"df-a59ca19a-83b5-4865-90f0-bde50467d866\">\n",
              "  <button class=\"colab-df-quickchart\" onclick=\"quickchart('df-a59ca19a-83b5-4865-90f0-bde50467d866')\"\n",
              "            title=\"Suggest charts\"\n",
              "            style=\"display:none;\">\n",
              "\n",
              "<svg xmlns=\"http://www.w3.org/2000/svg\" height=\"24px\"viewBox=\"0 0 24 24\"\n",
              "     width=\"24px\">\n",
              "    <g>\n",
              "        <path d=\"M19 3H5c-1.1 0-2 .9-2 2v14c0 1.1.9 2 2 2h14c1.1 0 2-.9 2-2V5c0-1.1-.9-2-2-2zM9 17H7v-7h2v7zm4 0h-2V7h2v10zm4 0h-2v-4h2v4z\"/>\n",
              "    </g>\n",
              "</svg>\n",
              "  </button>\n",
              "\n",
              "<style>\n",
              "  .colab-df-quickchart {\n",
              "      --bg-color: #E8F0FE;\n",
              "      --fill-color: #1967D2;\n",
              "      --hover-bg-color: #E2EBFA;\n",
              "      --hover-fill-color: #174EA6;\n",
              "      --disabled-fill-color: #AAA;\n",
              "      --disabled-bg-color: #DDD;\n",
              "  }\n",
              "\n",
              "  [theme=dark] .colab-df-quickchart {\n",
              "      --bg-color: #3B4455;\n",
              "      --fill-color: #D2E3FC;\n",
              "      --hover-bg-color: #434B5C;\n",
              "      --hover-fill-color: #FFFFFF;\n",
              "      --disabled-bg-color: #3B4455;\n",
              "      --disabled-fill-color: #666;\n",
              "  }\n",
              "\n",
              "  .colab-df-quickchart {\n",
              "    background-color: var(--bg-color);\n",
              "    border: none;\n",
              "    border-radius: 50%;\n",
              "    cursor: pointer;\n",
              "    display: none;\n",
              "    fill: var(--fill-color);\n",
              "    height: 32px;\n",
              "    padding: 0;\n",
              "    width: 32px;\n",
              "  }\n",
              "\n",
              "  .colab-df-quickchart:hover {\n",
              "    background-color: var(--hover-bg-color);\n",
              "    box-shadow: 0 1px 2px rgba(60, 64, 67, 0.3), 0 1px 3px 1px rgba(60, 64, 67, 0.15);\n",
              "    fill: var(--button-hover-fill-color);\n",
              "  }\n",
              "\n",
              "  .colab-df-quickchart-complete:disabled,\n",
              "  .colab-df-quickchart-complete:disabled:hover {\n",
              "    background-color: var(--disabled-bg-color);\n",
              "    fill: var(--disabled-fill-color);\n",
              "    box-shadow: none;\n",
              "  }\n",
              "\n",
              "  .colab-df-spinner {\n",
              "    border: 2px solid var(--fill-color);\n",
              "    border-color: transparent;\n",
              "    border-bottom-color: var(--fill-color);\n",
              "    animation:\n",
              "      spin 1s steps(1) infinite;\n",
              "  }\n",
              "\n",
              "  @keyframes spin {\n",
              "    0% {\n",
              "      border-color: transparent;\n",
              "      border-bottom-color: var(--fill-color);\n",
              "      border-left-color: var(--fill-color);\n",
              "    }\n",
              "    20% {\n",
              "      border-color: transparent;\n",
              "      border-left-color: var(--fill-color);\n",
              "      border-top-color: var(--fill-color);\n",
              "    }\n",
              "    30% {\n",
              "      border-color: transparent;\n",
              "      border-left-color: var(--fill-color);\n",
              "      border-top-color: var(--fill-color);\n",
              "      border-right-color: var(--fill-color);\n",
              "    }\n",
              "    40% {\n",
              "      border-color: transparent;\n",
              "      border-right-color: var(--fill-color);\n",
              "      border-top-color: var(--fill-color);\n",
              "    }\n",
              "    60% {\n",
              "      border-color: transparent;\n",
              "      border-right-color: var(--fill-color);\n",
              "    }\n",
              "    80% {\n",
              "      border-color: transparent;\n",
              "      border-right-color: var(--fill-color);\n",
              "      border-bottom-color: var(--fill-color);\n",
              "    }\n",
              "    90% {\n",
              "      border-color: transparent;\n",
              "      border-bottom-color: var(--fill-color);\n",
              "    }\n",
              "  }\n",
              "</style>\n",
              "\n",
              "  <script>\n",
              "    async function quickchart(key) {\n",
              "      const quickchartButtonEl =\n",
              "        document.querySelector('#' + key + ' button');\n",
              "      quickchartButtonEl.disabled = true;  // To prevent multiple clicks.\n",
              "      quickchartButtonEl.classList.add('colab-df-spinner');\n",
              "      try {\n",
              "        const charts = await google.colab.kernel.invokeFunction(\n",
              "            'suggestCharts', [key], {});\n",
              "      } catch (error) {\n",
              "        console.error('Error during call to suggestCharts:', error);\n",
              "      }\n",
              "      quickchartButtonEl.classList.remove('colab-df-spinner');\n",
              "      quickchartButtonEl.classList.add('colab-df-quickchart-complete');\n",
              "    }\n",
              "    (() => {\n",
              "      let quickchartButtonEl =\n",
              "        document.querySelector('#df-a59ca19a-83b5-4865-90f0-bde50467d866 button');\n",
              "      quickchartButtonEl.style.display =\n",
              "        google.colab.kernel.accessAllowed ? 'block' : 'none';\n",
              "    })();\n",
              "  </script>\n",
              "</div>\n",
              "\n",
              "    </div>\n",
              "  </div>\n"
            ],
            "application/vnd.google.colaboratory.intrinsic+json": {
              "type": "dataframe",
              "variable_name": "electronics"
            }
          },
          "metadata": {},
          "execution_count": 6
        }
      ]
    },
    {
      "cell_type": "code",
      "source": [
        "# creating a copy of the dataframe into new variable df\n",
        "df = electronics"
      ],
      "metadata": {
        "id": "zaYEbg3JO2GN"
      },
      "execution_count": null,
      "outputs": []
    },
    {
      "cell_type": "code",
      "source": [
        "#dropping timestamp from df\n",
        "df.drop('timestamp', axis=1, inplace=True)"
      ],
      "metadata": {
        "id": "4CoeybMDQojA"
      },
      "execution_count": null,
      "outputs": []
    },
    {
      "cell_type": "markdown",
      "metadata": {
        "id": "OVQnSG5g_9uX"
      },
      "source": [
        "**As this dataset is very large and has 7,824,482 observations, it is not computationally possible to build a model using this. Moreover, many users have only rated a few products and also some products are rated by very few users. Hence, we can reduce the dataset by considering certain logical assumptions.**\n",
        "\n",
        "Here, we will be taking users who have given at least 50 ratings, and the products that have at least 5 ratings, as when we shop online we prefer to have some number of ratings of a product."
      ]
    },
    {
      "cell_type": "code",
      "execution_count": null,
      "metadata": {
        "id": "4yt9W7Q32EQQ"
      },
      "outputs": [],
      "source": [
        "# Get the column containing the users\n",
        "users = df.user_id\n",
        "\n",
        "# Create a dictionary from users to their number of ratings\n",
        "ratings_count = dict()\n",
        "\n",
        "for user in users:\n",
        "\n",
        "    # If we already have the user, just add 1 to their rating count\n",
        "    if user in ratings_count:\n",
        "        ratings_count[user] += 1\n",
        "\n",
        "    # Otherwise, set their rating count to 1\n",
        "    else:\n",
        "        ratings_count[user] = 1"
      ]
    },
    {
      "cell_type": "code",
      "execution_count": null,
      "metadata": {
        "id": "19XB60dq2EQR"
      },
      "outputs": [],
      "source": [
        "# We want our users to have at least 50 ratings to be considered\n",
        "RATINGS_CUTOFF = 50\n",
        "\n",
        "remove_users = []\n",
        "\n",
        "for user, num_ratings in ratings_count.items():\n",
        "    if num_ratings < RATINGS_CUTOFF:\n",
        "        remove_users.append(user)\n",
        "\n",
        "df = df.loc[ ~ df.user_id.isin(remove_users)]"
      ]
    },
    {
      "cell_type": "code",
      "execution_count": null,
      "metadata": {
        "id": "33UzK1D82EQS"
      },
      "outputs": [],
      "source": [
        "# Get the column containing the products\n",
        "prods = df.prod_id\n",
        "\n",
        "# Create a dictionary from products to their number of ratings\n",
        "ratings_count = dict()\n",
        "\n",
        "for prod in prods:\n",
        "\n",
        "    # If we already have the product, just add 1 to its rating count\n",
        "    if prod in ratings_count:\n",
        "        ratings_count[prod] += 1\n",
        "\n",
        "    # Otherwise, set their rating count to 1\n",
        "    else:\n",
        "        ratings_count[prod] = 1"
      ]
    },
    {
      "cell_type": "code",
      "execution_count": null,
      "metadata": {
        "id": "u6YE-lUp2EQT"
      },
      "outputs": [],
      "source": [
        "# We want our item to have at least 5 ratings to be considered\n",
        "RATINGS_CUTOFF = 5\n",
        "\n",
        "remove_users = []\n",
        "\n",
        "for user, num_ratings in ratings_count.items():\n",
        "    if num_ratings < RATINGS_CUTOFF:\n",
        "        remove_users.append(user)\n",
        "\n",
        "df_final = df.loc[~ df.prod_id.isin(remove_users)]"
      ]
    },
    {
      "cell_type": "code",
      "execution_count": null,
      "metadata": {
        "id": "aL1JZ00o5JtQ",
        "colab": {
          "base_uri": "https://localhost:8080/",
          "height": 206
        },
        "outputId": "83cc24e4-521d-4ab2-d2d1-78df5197e25e"
      },
      "outputs": [
        {
          "output_type": "execute_result",
          "data": {
            "text/plain": [
              "             user_id     prod_id  rating\n",
              "1309  A3LDPF5FMB782Z  1400501466     5.0\n",
              "1321  A1A5KUIIIHFF4U  1400501466     1.0\n",
              "1334  A2XIOXRRYX0KZY  1400501466     3.0\n",
              "1450   AW3LX47IHPFRL  1400501466     5.0\n",
              "1455  A1E3OB6QMBKRYZ  1400501466     1.0"
            ],
            "text/html": [
              "\n",
              "  <div id=\"df-6a88a8fc-d2f4-44cd-82d7-7e93dd22897e\" class=\"colab-df-container\">\n",
              "    <div>\n",
              "<style scoped>\n",
              "    .dataframe tbody tr th:only-of-type {\n",
              "        vertical-align: middle;\n",
              "    }\n",
              "\n",
              "    .dataframe tbody tr th {\n",
              "        vertical-align: top;\n",
              "    }\n",
              "\n",
              "    .dataframe thead th {\n",
              "        text-align: right;\n",
              "    }\n",
              "</style>\n",
              "<table border=\"1\" class=\"dataframe\">\n",
              "  <thead>\n",
              "    <tr style=\"text-align: right;\">\n",
              "      <th></th>\n",
              "      <th>user_id</th>\n",
              "      <th>prod_id</th>\n",
              "      <th>rating</th>\n",
              "    </tr>\n",
              "  </thead>\n",
              "  <tbody>\n",
              "    <tr>\n",
              "      <th>1309</th>\n",
              "      <td>A3LDPF5FMB782Z</td>\n",
              "      <td>1400501466</td>\n",
              "      <td>5.0</td>\n",
              "    </tr>\n",
              "    <tr>\n",
              "      <th>1321</th>\n",
              "      <td>A1A5KUIIIHFF4U</td>\n",
              "      <td>1400501466</td>\n",
              "      <td>1.0</td>\n",
              "    </tr>\n",
              "    <tr>\n",
              "      <th>1334</th>\n",
              "      <td>A2XIOXRRYX0KZY</td>\n",
              "      <td>1400501466</td>\n",
              "      <td>3.0</td>\n",
              "    </tr>\n",
              "    <tr>\n",
              "      <th>1450</th>\n",
              "      <td>AW3LX47IHPFRL</td>\n",
              "      <td>1400501466</td>\n",
              "      <td>5.0</td>\n",
              "    </tr>\n",
              "    <tr>\n",
              "      <th>1455</th>\n",
              "      <td>A1E3OB6QMBKRYZ</td>\n",
              "      <td>1400501466</td>\n",
              "      <td>1.0</td>\n",
              "    </tr>\n",
              "  </tbody>\n",
              "</table>\n",
              "</div>\n",
              "    <div class=\"colab-df-buttons\">\n",
              "\n",
              "  <div class=\"colab-df-container\">\n",
              "    <button class=\"colab-df-convert\" onclick=\"convertToInteractive('df-6a88a8fc-d2f4-44cd-82d7-7e93dd22897e')\"\n",
              "            title=\"Convert this dataframe to an interactive table.\"\n",
              "            style=\"display:none;\">\n",
              "\n",
              "  <svg xmlns=\"http://www.w3.org/2000/svg\" height=\"24px\" viewBox=\"0 -960 960 960\">\n",
              "    <path d=\"M120-120v-720h720v720H120Zm60-500h600v-160H180v160Zm220 220h160v-160H400v160Zm0 220h160v-160H400v160ZM180-400h160v-160H180v160Zm440 0h160v-160H620v160ZM180-180h160v-160H180v160Zm440 0h160v-160H620v160Z\"/>\n",
              "  </svg>\n",
              "    </button>\n",
              "\n",
              "  <style>\n",
              "    .colab-df-container {\n",
              "      display:flex;\n",
              "      gap: 12px;\n",
              "    }\n",
              "\n",
              "    .colab-df-convert {\n",
              "      background-color: #E8F0FE;\n",
              "      border: none;\n",
              "      border-radius: 50%;\n",
              "      cursor: pointer;\n",
              "      display: none;\n",
              "      fill: #1967D2;\n",
              "      height: 32px;\n",
              "      padding: 0 0 0 0;\n",
              "      width: 32px;\n",
              "    }\n",
              "\n",
              "    .colab-df-convert:hover {\n",
              "      background-color: #E2EBFA;\n",
              "      box-shadow: 0px 1px 2px rgba(60, 64, 67, 0.3), 0px 1px 3px 1px rgba(60, 64, 67, 0.15);\n",
              "      fill: #174EA6;\n",
              "    }\n",
              "\n",
              "    .colab-df-buttons div {\n",
              "      margin-bottom: 4px;\n",
              "    }\n",
              "\n",
              "    [theme=dark] .colab-df-convert {\n",
              "      background-color: #3B4455;\n",
              "      fill: #D2E3FC;\n",
              "    }\n",
              "\n",
              "    [theme=dark] .colab-df-convert:hover {\n",
              "      background-color: #434B5C;\n",
              "      box-shadow: 0px 1px 3px 1px rgba(0, 0, 0, 0.15);\n",
              "      filter: drop-shadow(0px 1px 2px rgba(0, 0, 0, 0.3));\n",
              "      fill: #FFFFFF;\n",
              "    }\n",
              "  </style>\n",
              "\n",
              "    <script>\n",
              "      const buttonEl =\n",
              "        document.querySelector('#df-6a88a8fc-d2f4-44cd-82d7-7e93dd22897e button.colab-df-convert');\n",
              "      buttonEl.style.display =\n",
              "        google.colab.kernel.accessAllowed ? 'block' : 'none';\n",
              "\n",
              "      async function convertToInteractive(key) {\n",
              "        const element = document.querySelector('#df-6a88a8fc-d2f4-44cd-82d7-7e93dd22897e');\n",
              "        const dataTable =\n",
              "          await google.colab.kernel.invokeFunction('convertToInteractive',\n",
              "                                                    [key], {});\n",
              "        if (!dataTable) return;\n",
              "\n",
              "        const docLinkHtml = 'Like what you see? Visit the ' +\n",
              "          '<a target=\"_blank\" href=https://colab.research.google.com/notebooks/data_table.ipynb>data table notebook</a>'\n",
              "          + ' to learn more about interactive tables.';\n",
              "        element.innerHTML = '';\n",
              "        dataTable['output_type'] = 'display_data';\n",
              "        await google.colab.output.renderOutput(dataTable, element);\n",
              "        const docLink = document.createElement('div');\n",
              "        docLink.innerHTML = docLinkHtml;\n",
              "        element.appendChild(docLink);\n",
              "      }\n",
              "    </script>\n",
              "  </div>\n",
              "\n",
              "\n",
              "<div id=\"df-02bfac7e-9a2e-4377-8bc7-fb926642eeb1\">\n",
              "  <button class=\"colab-df-quickchart\" onclick=\"quickchart('df-02bfac7e-9a2e-4377-8bc7-fb926642eeb1')\"\n",
              "            title=\"Suggest charts\"\n",
              "            style=\"display:none;\">\n",
              "\n",
              "<svg xmlns=\"http://www.w3.org/2000/svg\" height=\"24px\"viewBox=\"0 0 24 24\"\n",
              "     width=\"24px\">\n",
              "    <g>\n",
              "        <path d=\"M19 3H5c-1.1 0-2 .9-2 2v14c0 1.1.9 2 2 2h14c1.1 0 2-.9 2-2V5c0-1.1-.9-2-2-2zM9 17H7v-7h2v7zm4 0h-2V7h2v10zm4 0h-2v-4h2v4z\"/>\n",
              "    </g>\n",
              "</svg>\n",
              "  </button>\n",
              "\n",
              "<style>\n",
              "  .colab-df-quickchart {\n",
              "      --bg-color: #E8F0FE;\n",
              "      --fill-color: #1967D2;\n",
              "      --hover-bg-color: #E2EBFA;\n",
              "      --hover-fill-color: #174EA6;\n",
              "      --disabled-fill-color: #AAA;\n",
              "      --disabled-bg-color: #DDD;\n",
              "  }\n",
              "\n",
              "  [theme=dark] .colab-df-quickchart {\n",
              "      --bg-color: #3B4455;\n",
              "      --fill-color: #D2E3FC;\n",
              "      --hover-bg-color: #434B5C;\n",
              "      --hover-fill-color: #FFFFFF;\n",
              "      --disabled-bg-color: #3B4455;\n",
              "      --disabled-fill-color: #666;\n",
              "  }\n",
              "\n",
              "  .colab-df-quickchart {\n",
              "    background-color: var(--bg-color);\n",
              "    border: none;\n",
              "    border-radius: 50%;\n",
              "    cursor: pointer;\n",
              "    display: none;\n",
              "    fill: var(--fill-color);\n",
              "    height: 32px;\n",
              "    padding: 0;\n",
              "    width: 32px;\n",
              "  }\n",
              "\n",
              "  .colab-df-quickchart:hover {\n",
              "    background-color: var(--hover-bg-color);\n",
              "    box-shadow: 0 1px 2px rgba(60, 64, 67, 0.3), 0 1px 3px 1px rgba(60, 64, 67, 0.15);\n",
              "    fill: var(--button-hover-fill-color);\n",
              "  }\n",
              "\n",
              "  .colab-df-quickchart-complete:disabled,\n",
              "  .colab-df-quickchart-complete:disabled:hover {\n",
              "    background-color: var(--disabled-bg-color);\n",
              "    fill: var(--disabled-fill-color);\n",
              "    box-shadow: none;\n",
              "  }\n",
              "\n",
              "  .colab-df-spinner {\n",
              "    border: 2px solid var(--fill-color);\n",
              "    border-color: transparent;\n",
              "    border-bottom-color: var(--fill-color);\n",
              "    animation:\n",
              "      spin 1s steps(1) infinite;\n",
              "  }\n",
              "\n",
              "  @keyframes spin {\n",
              "    0% {\n",
              "      border-color: transparent;\n",
              "      border-bottom-color: var(--fill-color);\n",
              "      border-left-color: var(--fill-color);\n",
              "    }\n",
              "    20% {\n",
              "      border-color: transparent;\n",
              "      border-left-color: var(--fill-color);\n",
              "      border-top-color: var(--fill-color);\n",
              "    }\n",
              "    30% {\n",
              "      border-color: transparent;\n",
              "      border-left-color: var(--fill-color);\n",
              "      border-top-color: var(--fill-color);\n",
              "      border-right-color: var(--fill-color);\n",
              "    }\n",
              "    40% {\n",
              "      border-color: transparent;\n",
              "      border-right-color: var(--fill-color);\n",
              "      border-top-color: var(--fill-color);\n",
              "    }\n",
              "    60% {\n",
              "      border-color: transparent;\n",
              "      border-right-color: var(--fill-color);\n",
              "    }\n",
              "    80% {\n",
              "      border-color: transparent;\n",
              "      border-right-color: var(--fill-color);\n",
              "      border-bottom-color: var(--fill-color);\n",
              "    }\n",
              "    90% {\n",
              "      border-color: transparent;\n",
              "      border-bottom-color: var(--fill-color);\n",
              "    }\n",
              "  }\n",
              "</style>\n",
              "\n",
              "  <script>\n",
              "    async function quickchart(key) {\n",
              "      const quickchartButtonEl =\n",
              "        document.querySelector('#' + key + ' button');\n",
              "      quickchartButtonEl.disabled = true;  // To prevent multiple clicks.\n",
              "      quickchartButtonEl.classList.add('colab-df-spinner');\n",
              "      try {\n",
              "        const charts = await google.colab.kernel.invokeFunction(\n",
              "            'suggestCharts', [key], {});\n",
              "      } catch (error) {\n",
              "        console.error('Error during call to suggestCharts:', error);\n",
              "      }\n",
              "      quickchartButtonEl.classList.remove('colab-df-spinner');\n",
              "      quickchartButtonEl.classList.add('colab-df-quickchart-complete');\n",
              "    }\n",
              "    (() => {\n",
              "      let quickchartButtonEl =\n",
              "        document.querySelector('#df-02bfac7e-9a2e-4377-8bc7-fb926642eeb1 button');\n",
              "      quickchartButtonEl.style.display =\n",
              "        google.colab.kernel.accessAllowed ? 'block' : 'none';\n",
              "    })();\n",
              "  </script>\n",
              "</div>\n",
              "\n",
              "    </div>\n",
              "  </div>\n"
            ],
            "application/vnd.google.colaboratory.intrinsic+json": {
              "type": "dataframe",
              "variable_name": "df_final",
              "summary": "{\n  \"name\": \"df_final\",\n  \"rows\": 65290,\n  \"fields\": [\n    {\n      \"column\": \"user_id\",\n      \"properties\": {\n        \"dtype\": \"category\",\n        \"num_unique_values\": 1540,\n        \"samples\": [\n          \"A1VJ0V58N0698J\",\n          \"A14X244VGHWPSX\",\n          \"A14JBDSWKPKTZA\"\n        ],\n        \"semantic_type\": \"\",\n        \"description\": \"\"\n      }\n    },\n    {\n      \"column\": \"prod_id\",\n      \"properties\": {\n        \"dtype\": \"category\",\n        \"num_unique_values\": 5689,\n        \"samples\": [\n          \"B005EOWBHC\",\n          \"B00BB72WX4\",\n          \"B00B9AB26G\"\n        ],\n        \"semantic_type\": \"\",\n        \"description\": \"\"\n      }\n    },\n    {\n      \"column\": \"rating\",\n      \"properties\": {\n        \"dtype\": \"number\",\n        \"std\": 0.9889148020336815,\n        \"min\": 1.0,\n        \"max\": 5.0,\n        \"num_unique_values\": 5,\n        \"samples\": [\n          1.0,\n          2.0,\n          3.0\n        ],\n        \"semantic_type\": \"\",\n        \"description\": \"\"\n      }\n    }\n  ]\n}"
            }
          },
          "metadata": {},
          "execution_count": 13
        }
      ],
      "source": [
        "# Print a few rows of the imported dataset\n",
        "df_final.head()"
      ]
    },
    {
      "cell_type": "markdown",
      "metadata": {
        "id": "GuPoy_XfxhXZ"
      },
      "source": [
        "## **Exploratory Data Analysis**"
      ]
    },
    {
      "cell_type": "markdown",
      "metadata": {
        "id": "s0d0bWeG-sVB"
      },
      "source": [
        "### **Shape of the data**"
      ]
    },
    {
      "cell_type": "markdown",
      "metadata": {
        "id": "qyBVTRDTyek0"
      },
      "source": [
        "### **Check the number of rows and columns and provide observations.**"
      ]
    },
    {
      "cell_type": "code",
      "source": [
        "# checking shape of df_final\n",
        "df_final.shape"
      ],
      "metadata": {
        "colab": {
          "base_uri": "https://localhost:8080/"
        },
        "id": "wVdezvB1UVWH",
        "outputId": "642a880c-3762-44c3-e164-00b579092ce8"
      },
      "execution_count": null,
      "outputs": [
        {
          "output_type": "execute_result",
          "data": {
            "text/plain": [
              "(65290, 3)"
            ]
          },
          "metadata": {},
          "execution_count": 14
        }
      ]
    },
    {
      "cell_type": "markdown",
      "metadata": {
        "id": "Slp-fgWQ-sVD"
      },
      "source": [
        "**Observations:**\n",
        "\n",
        "We have reduced the size of the dataset to a much more manageable size, consisting of 65,290 data points."
      ]
    },
    {
      "cell_type": "markdown",
      "metadata": {
        "id": "lAMWm0nC-sVF"
      },
      "source": [
        "### **Data types**"
      ]
    },
    {
      "cell_type": "code",
      "execution_count": null,
      "metadata": {
        "id": "SVrgMkye5JtQ",
        "colab": {
          "base_uri": "https://localhost:8080/"
        },
        "outputId": "37d8edc5-ed0f-450e-e5a3-5e0e84a5f2e7"
      },
      "outputs": [
        {
          "output_type": "stream",
          "name": "stdout",
          "text": [
            "<class 'pandas.core.frame.DataFrame'>\n",
            "Int64Index: 65290 entries, 1309 to 7824426\n",
            "Data columns (total 3 columns):\n",
            " #   Column   Non-Null Count  Dtype  \n",
            "---  ------   --------------  -----  \n",
            " 0   user_id  65290 non-null  object \n",
            " 1   prod_id  65290 non-null  object \n",
            " 2   rating   65290 non-null  float64\n",
            "dtypes: float64(1), object(2)\n",
            "memory usage: 2.0+ MB\n"
          ]
        }
      ],
      "source": [
        "# Check Data types and provide observations\n",
        "df_final.info()"
      ]
    },
    {
      "cell_type": "markdown",
      "metadata": {
        "id": "z4fOE02D-sVF"
      },
      "source": [
        "**Observations:**\n",
        "\n",
        "User and Product ID columns are of type object. The rating column is of type float64, which is appropriate and will allow us to perform calculations."
      ]
    },
    {
      "cell_type": "markdown",
      "metadata": {
        "id": "lTMpOROT-sVG"
      },
      "source": [
        "### **Checking for missing values**"
      ]
    },
    {
      "cell_type": "code",
      "execution_count": null,
      "metadata": {
        "id": "vt-VEjMA5JtQ",
        "colab": {
          "base_uri": "https://localhost:8080/"
        },
        "outputId": "5b31609d-c490-436c-cb63-c757c28640a5"
      },
      "outputs": [
        {
          "output_type": "execute_result",
          "data": {
            "text/plain": [
              "user_id    0\n",
              "prod_id    0\n",
              "rating     0\n",
              "dtype: int64"
            ]
          },
          "metadata": {},
          "execution_count": 16
        }
      ],
      "source": [
        "# Check for missing values present and provide observations\n",
        "df_final.isnull().sum()"
      ]
    },
    {
      "cell_type": "markdown",
      "metadata": {
        "id": "qMWuBNhI5JtR"
      },
      "source": [
        "**Observations:**\n",
        "\n",
        "df_final does not contain any null values. We can proceed with our EDA without any additional processing."
      ]
    },
    {
      "cell_type": "markdown",
      "metadata": {
        "id": "wETrCg48-sVG"
      },
      "source": [
        "### **Summary Statistics**"
      ]
    },
    {
      "cell_type": "code",
      "execution_count": null,
      "metadata": {
        "id": "tYm30MXR5JtR",
        "colab": {
          "base_uri": "https://localhost:8080/"
        },
        "outputId": "36239add-984b-4c57-a106-31639bf971c5"
      },
      "outputs": [
        {
          "output_type": "execute_result",
          "data": {
            "text/plain": [
              "count    65290.000000\n",
              "mean         4.294808\n",
              "std          0.988915\n",
              "min          1.000000\n",
              "25%          4.000000\n",
              "50%          5.000000\n",
              "75%          5.000000\n",
              "max          5.000000\n",
              "Name: rating, dtype: float64"
            ]
          },
          "metadata": {},
          "execution_count": 17
        }
      ],
      "source": [
        "# Summary statistics of 'rating' variable and provide observations\n",
        "df_final['rating'].describe()"
      ]
    },
    {
      "cell_type": "markdown",
      "metadata": {
        "id": "VqW50EIJxhXc"
      },
      "source": [
        "**Observations:**\n",
        "\n",
        "The rating column is heavily skewed left. The mean rating is 4.295, which is less than the median of 5.0. The lowest rating is 1 and highest is 5, as expected. Overall, a very large percentage of ratings are 5.0 stars."
      ]
    },
    {
      "cell_type": "markdown",
      "metadata": {
        "id": "ywyFrZIf5JtR"
      },
      "source": [
        "### **Checking the rating distribution**"
      ]
    },
    {
      "cell_type": "code",
      "execution_count": null,
      "metadata": {
        "id": "QbqhbEVe-sVH",
        "colab": {
          "base_uri": "https://localhost:8080/",
          "height": 407
        },
        "outputId": "69a3b74b-85ee-4204-c591-4629adf4fed5"
      },
      "outputs": [
        {
          "output_type": "display_data",
          "data": {
            "text/plain": [
              "<Figure size 1200x400 with 1 Axes>"
            ],
            "image/png": "[encoded data removed]"
          },
          "metadata": {}
        }
      ],
      "source": [
        "# Create the bar plot and provide observations\n",
        "plt.figure(figsize= (12,4))\n",
        "sns.countplot(x='rating', data=df_final, palette='viridis')\n",
        "\n",
        "plt.tick_params(labelsize = 10)\n",
        "plt.title('Distribution of Ratings', fontsize = 10)\n",
        "plt.xlabel('Ratings', fontsize = 10)\n",
        "plt.ylabel('Number of Ratings', fontsize = 10);"
      ]
    },
    {
      "cell_type": "markdown",
      "metadata": {
        "id": "t0jONrQv-sVH"
      },
      "source": [
        "**Observations:**\n",
        "\n",
        "As noted from our statistical summary, the data is heavily left skewed. The 5.0 ratings column has neary twice as many ratings as the next closest category, 4.0. Ratings of 3.0 and below are total only about 12,000 out of the approximately 65,000 total ratings."
      ]
    },
    {
      "cell_type": "markdown",
      "metadata": {
        "id": "HefpLdLJxhXd"
      },
      "source": [
        "### **Checking the number of unique users and items in the dataset**"
      ]
    },
    {
      "cell_type": "code",
      "execution_count": null,
      "metadata": {
        "id": "NbSom7195JtR",
        "colab": {
          "base_uri": "https://localhost:8080/"
        },
        "outputId": "79eda257-7196-468d-bcd9-2b2136ca1dbd"
      },
      "outputs": [
        {
          "output_type": "execute_result",
          "data": {
            "text/plain": [
              "1540"
            ]
          },
          "metadata": {},
          "execution_count": 19
        }
      ],
      "source": [
        "# Number of total rows in the data and number of unique user id and product id in the data\n",
        "unique_users = df_final['user_id'].nunique()\n",
        "unique_users"
      ]
    },
    {
      "cell_type": "code",
      "source": [
        "df_final.shape[0]/unique_users"
      ],
      "metadata": {
        "colab": {
          "base_uri": "https://localhost:8080/"
        },
        "id": "z159FhOVeByJ",
        "outputId": "99f3acc7-36eb-4a1b-b51a-b952cae316fa"
      },
      "execution_count": null,
      "outputs": [
        {
          "output_type": "execute_result",
          "data": {
            "text/plain": [
              "42.396103896103895"
            ]
          },
          "metadata": {},
          "execution_count": 20
        }
      ]
    },
    {
      "cell_type": "code",
      "source": [
        "unique_prods = df_final['prod_id'].nunique()\n",
        "unique_prods"
      ],
      "metadata": {
        "colab": {
          "base_uri": "https://localhost:8080/"
        },
        "id": "y7_nH5zOe2vy",
        "outputId": "10d7a464-0ba8-4252-d100-ece8aefc9f2c"
      },
      "execution_count": null,
      "outputs": [
        {
          "output_type": "execute_result",
          "data": {
            "text/plain": [
              "5689"
            ]
          },
          "metadata": {},
          "execution_count": 21
        }
      ]
    },
    {
      "cell_type": "code",
      "source": [
        "df_final.shape[0]/unique_prods"
      ],
      "metadata": {
        "colab": {
          "base_uri": "https://localhost:8080/"
        },
        "id": "9Egda9mcfJIx",
        "outputId": "b43b4598-66e9-4199-d8aa-98b70c3a4bfd"
      },
      "execution_count": null,
      "outputs": [
        {
          "output_type": "execute_result",
          "data": {
            "text/plain": [
              "11.476533661451924"
            ]
          },
          "metadata": {},
          "execution_count": 22
        }
      ]
    },
    {
      "cell_type": "markdown",
      "metadata": {
        "id": "Qwgz6CUt-sVI"
      },
      "source": [
        "**Observations:**\n",
        "\n",
        "There are 1540 unique users in the dataset. This means the average user has left 42 reviews. Interestingly, our cutoff for users was a minimum of 50 reviews, but presumably that number was lowered after we removed products with less than 5 ratings.\n",
        "\n",
        "Regarding products, there are 5,689 unique products that have been rated. Given the total number of ratings, this means that each product has about 11.5 reviews on average."
      ]
    },
    {
      "cell_type": "markdown",
      "metadata": {
        "id": "RfDnhSS4-sVI"
      },
      "source": [
        "### **Users with the most number of ratings**"
      ]
    },
    {
      "cell_type": "code",
      "execution_count": null,
      "metadata": {
        "id": "n7MX452q5JtR",
        "colab": {
          "base_uri": "https://localhost:8080/"
        },
        "outputId": "dc7fb079-f515-490d-f44c-9e76b151685f"
      },
      "outputs": [
        {
          "output_type": "execute_result",
          "data": {
            "text/plain": [
              "ADLVFFE4VBT8      295\n",
              "A3OXHLG6DIBRW8    230\n",
              "A1ODOGXEYECQQ8    217\n",
              "A36K2N527TXXJN    212\n",
              "A25C2M3QF9G7OQ    203\n",
              "A680RUE1FDO8B     196\n",
              "A1UQBFCERIP7VJ    193\n",
              "A22CW0ZHY3NJH8    193\n",
              "AWPODHOB4GFWL     184\n",
              "AGVWTYW0ULXHT     179\n",
              "Name: user_id, dtype: int64"
            ]
          },
          "metadata": {},
          "execution_count": 23
        }
      ],
      "source": [
        "# Top 10 users based on the number of ratings\n",
        "df_final['user_id'].value_counts().head(10)"
      ]
    },
    {
      "cell_type": "markdown",
      "metadata": {
        "id": "1X2w_jt9-sVI"
      },
      "source": [
        "**Observations:**\n",
        "\n",
        "The top 10 users ranked by number of ratings are listed above, with their user_id's and the corresponding number of reviews. The top reviewer has left 295 reviews, and the user in 10th place has left 179 reviews."
      ]
    },
    {
      "cell_type": "markdown",
      "metadata": {
        "id": "EnYTx-Ol-sVg"
      },
      "source": [
        "**Now that we have explored and prepared the data, let's build the first recommendation system.**"
      ]
    },
    {
      "cell_type": "markdown",
      "metadata": {
        "id": "6xYGrGVy5JtS"
      },
      "source": [
        "## **Model 1: Rank Based Recommendation System**"
      ]
    },
    {
      "cell_type": "code",
      "execution_count": null,
      "metadata": {
        "id": "yxZTj1UPxhXh",
        "scrolled": true,
        "colab": {
          "base_uri": "https://localhost:8080/",
          "height": 238
        },
        "outputId": "608a14ba-e8c4-4c21-9f5b-86a9a0195e31"
      },
      "outputs": [
        {
          "output_type": "execute_result",
          "data": {
            "text/plain": [
              "            avg_rating  rating_count\n",
              "prod_id                             \n",
              "B00LGQ6HL8         5.0             5\n",
              "B003DZJQQI         5.0            14\n",
              "B005FDXF2C         5.0             7\n",
              "B00I6CVPVC         5.0             7\n",
              "B00B9KOCYA         5.0             8"
            ],
            "text/html": [
              "\n",
              "  <div id=\"df-25cc9d43-8e2a-47b6-9853-1a71d5690340\" class=\"colab-df-container\">\n",
              "    <div>\n",
              "<style scoped>\n",
              "    .dataframe tbody tr th:only-of-type {\n",
              "        vertical-align: middle;\n",
              "    }\n",
              "\n",
              "    .dataframe tbody tr th {\n",
              "        vertical-align: top;\n",
              "    }\n",
              "\n",
              "    .dataframe thead th {\n",
              "        text-align: right;\n",
              "    }\n",
              "</style>\n",
              "<table border=\"1\" class=\"dataframe\">\n",
              "  <thead>\n",
              "    <tr style=\"text-align: right;\">\n",
              "      <th></th>\n",
              "      <th>avg_rating</th>\n",
              "      <th>rating_count</th>\n",
              "    </tr>\n",
              "    <tr>\n",
              "      <th>prod_id</th>\n",
              "      <th></th>\n",
              "      <th></th>\n",
              "    </tr>\n",
              "  </thead>\n",
              "  <tbody>\n",
              "    <tr>\n",
              "      <th>B00LGQ6HL8</th>\n",
              "      <td>5.0</td>\n",
              "      <td>5</td>\n",
              "    </tr>\n",
              "    <tr>\n",
              "      <th>B003DZJQQI</th>\n",
              "      <td>5.0</td>\n",
              "      <td>14</td>\n",
              "    </tr>\n",
              "    <tr>\n",
              "      <th>B005FDXF2C</th>\n",
              "      <td>5.0</td>\n",
              "      <td>7</td>\n",
              "    </tr>\n",
              "    <tr>\n",
              "      <th>B00I6CVPVC</th>\n",
              "      <td>5.0</td>\n",
              "      <td>7</td>\n",
              "    </tr>\n",
              "    <tr>\n",
              "      <th>B00B9KOCYA</th>\n",
              "      <td>5.0</td>\n",
              "      <td>8</td>\n",
              "    </tr>\n",
              "  </tbody>\n",
              "</table>\n",
              "</div>\n",
              "    <div class=\"colab-df-buttons\">\n",
              "\n",
              "  <div class=\"colab-df-container\">\n",
              "    <button class=\"colab-df-convert\" onclick=\"convertToInteractive('df-25cc9d43-8e2a-47b6-9853-1a71d5690340')\"\n",
              "            title=\"Convert this dataframe to an interactive table.\"\n",
              "            style=\"display:none;\">\n",
              "\n",
              "  <svg xmlns=\"http://www.w3.org/2000/svg\" height=\"24px\" viewBox=\"0 -960 960 960\">\n",
              "    <path d=\"M120-120v-720h720v720H120Zm60-500h600v-160H180v160Zm220 220h160v-160H400v160Zm0 220h160v-160H400v160ZM180-400h160v-160H180v160Zm440 0h160v-160H620v160ZM180-180h160v-160H180v160Zm440 0h160v-160H620v160Z\"/>\n",
              "  </svg>\n",
              "    </button>\n",
              "\n",
              "  <style>\n",
              "    .colab-df-container {\n",
              "      display:flex;\n",
              "      gap: 12px;\n",
              "    }\n",
              "\n",
              "    .colab-df-convert {\n",
              "      background-color: #E8F0FE;\n",
              "      border: none;\n",
              "      border-radius: 50%;\n",
              "      cursor: pointer;\n",
              "      display: none;\n",
              "      fill: #1967D2;\n",
              "      height: 32px;\n",
              "      padding: 0 0 0 0;\n",
              "      width: 32px;\n",
              "    }\n",
              "\n",
              "    .colab-df-convert:hover {\n",
              "      background-color: #E2EBFA;\n",
              "      box-shadow: 0px 1px 2px rgba(60, 64, 67, 0.3), 0px 1px 3px 1px rgba(60, 64, 67, 0.15);\n",
              "      fill: #174EA6;\n",
              "    }\n",
              "\n",
              "    .colab-df-buttons div {\n",
              "      margin-bottom: 4px;\n",
              "    }\n",
              "\n",
              "    [theme=dark] .colab-df-convert {\n",
              "      background-color: #3B4455;\n",
              "      fill: #D2E3FC;\n",
              "    }\n",
              "\n",
              "    [theme=dark] .colab-df-convert:hover {\n",
              "      background-color: #434B5C;\n",
              "      box-shadow: 0px 1px 3px 1px rgba(0, 0, 0, 0.15);\n",
              "      filter: drop-shadow(0px 1px 2px rgba(0, 0, 0, 0.3));\n",
              "      fill: #FFFFFF;\n",
              "    }\n",
              "  </style>\n",
              "\n",
              "    <script>\n",
              "      const buttonEl =\n",
              "        document.querySelector('#df-25cc9d43-8e2a-47b6-9853-1a71d5690340 button.colab-df-convert');\n",
              "      buttonEl.style.display =\n",
              "        google.colab.kernel.accessAllowed ? 'block' : 'none';\n",
              "\n",
              "      async function convertToInteractive(key) {\n",
              "        const element = document.querySelector('#df-25cc9d43-8e2a-47b6-9853-1a71d5690340');\n",
              "        const dataTable =\n",
              "          await google.colab.kernel.invokeFunction('convertToInteractive',\n",
              "                                                    [key], {});\n",
              "        if (!dataTable) return;\n",
              "\n",
              "        const docLinkHtml = 'Like what you see? Visit the ' +\n",
              "          '<a target=\"_blank\" href=https://colab.research.google.com/notebooks/data_table.ipynb>data table notebook</a>'\n",
              "          + ' to learn more about interactive tables.';\n",
              "        element.innerHTML = '';\n",
              "        dataTable['output_type'] = 'display_data';\n",
              "        await google.colab.output.renderOutput(dataTable, element);\n",
              "        const docLink = document.createElement('div');\n",
              "        docLink.innerHTML = docLinkHtml;\n",
              "        element.appendChild(docLink);\n",
              "      }\n",
              "    </script>\n",
              "  </div>\n",
              "\n",
              "\n",
              "<div id=\"df-e39d3cbb-2cd4-4c88-b9de-c0ed85c3ecea\">\n",
              "  <button class=\"colab-df-quickchart\" onclick=\"quickchart('df-e39d3cbb-2cd4-4c88-b9de-c0ed85c3ecea')\"\n",
              "            title=\"Suggest charts\"\n",
              "            style=\"display:none;\">\n",
              "\n",
              "<svg xmlns=\"http://www.w3.org/2000/svg\" height=\"24px\"viewBox=\"0 0 24 24\"\n",
              "     width=\"24px\">\n",
              "    <g>\n",
              "        <path d=\"M19 3H5c-1.1 0-2 .9-2 2v14c0 1.1.9 2 2 2h14c1.1 0 2-.9 2-2V5c0-1.1-.9-2-2-2zM9 17H7v-7h2v7zm4 0h-2V7h2v10zm4 0h-2v-4h2v4z\"/>\n",
              "    </g>\n",
              "</svg>\n",
              "  </button>\n",
              "\n",
              "<style>\n",
              "  .colab-df-quickchart {\n",
              "      --bg-color: #E8F0FE;\n",
              "      --fill-color: #1967D2;\n",
              "      --hover-bg-color: #E2EBFA;\n",
              "      --hover-fill-color: #174EA6;\n",
              "      --disabled-fill-color: #AAA;\n",
              "      --disabled-bg-color: #DDD;\n",
              "  }\n",
              "\n",
              "  [theme=dark] .colab-df-quickchart {\n",
              "      --bg-color: #3B4455;\n",
              "      --fill-color: #D2E3FC;\n",
              "      --hover-bg-color: #434B5C;\n",
              "      --hover-fill-color: #FFFFFF;\n",
              "      --disabled-bg-color: #3B4455;\n",
              "      --disabled-fill-color: #666;\n",
              "  }\n",
              "\n",
              "  .colab-df-quickchart {\n",
              "    background-color: var(--bg-color);\n",
              "    border: none;\n",
              "    border-radius: 50%;\n",
              "    cursor: pointer;\n",
              "    display: none;\n",
              "    fill: var(--fill-color);\n",
              "    height: 32px;\n",
              "    padding: 0;\n",
              "    width: 32px;\n",
              "  }\n",
              "\n",
              "  .colab-df-quickchart:hover {\n",
              "    background-color: var(--hover-bg-color);\n",
              "    box-shadow: 0 1px 2px rgba(60, 64, 67, 0.3), 0 1px 3px 1px rgba(60, 64, 67, 0.15);\n",
              "    fill: var(--button-hover-fill-color);\n",
              "  }\n",
              "\n",
              "  .colab-df-quickchart-complete:disabled,\n",
              "  .colab-df-quickchart-complete:disabled:hover {\n",
              "    background-color: var(--disabled-bg-color);\n",
              "    fill: var(--disabled-fill-color);\n",
              "    box-shadow: none;\n",
              "  }\n",
              "\n",
              "  .colab-df-spinner {\n",
              "    border: 2px solid var(--fill-color);\n",
              "    border-color: transparent;\n",
              "    border-bottom-color: var(--fill-color);\n",
              "    animation:\n",
              "      spin 1s steps(1) infinite;\n",
              "  }\n",
              "\n",
              "  @keyframes spin {\n",
              "    0% {\n",
              "      border-color: transparent;\n",
              "      border-bottom-color: var(--fill-color);\n",
              "      border-left-color: var(--fill-color);\n",
              "    }\n",
              "    20% {\n",
              "      border-color: transparent;\n",
              "      border-left-color: var(--fill-color);\n",
              "      border-top-color: var(--fill-color);\n",
              "    }\n",
              "    30% {\n",
              "      border-color: transparent;\n",
              "      border-left-color: var(--fill-color);\n",
              "      border-top-color: var(--fill-color);\n",
              "      border-right-color: var(--fill-color);\n",
              "    }\n",
              "    40% {\n",
              "      border-color: transparent;\n",
              "      border-right-color: var(--fill-color);\n",
              "      border-top-color: var(--fill-color);\n",
              "    }\n",
              "    60% {\n",
              "      border-color: transparent;\n",
              "      border-right-color: var(--fill-color);\n",
              "    }\n",
              "    80% {\n",
              "      border-color: transparent;\n",
              "      border-right-color: var(--fill-color);\n",
              "      border-bottom-color: var(--fill-color);\n",
              "    }\n",
              "    90% {\n",
              "      border-color: transparent;\n",
              "      border-bottom-color: var(--fill-color);\n",
              "    }\n",
              "  }\n",
              "</style>\n",
              "\n",
              "  <script>\n",
              "    async function quickchart(key) {\n",
              "      const quickchartButtonEl =\n",
              "        document.querySelector('#' + key + ' button');\n",
              "      quickchartButtonEl.disabled = true;  // To prevent multiple clicks.\n",
              "      quickchartButtonEl.classList.add('colab-df-spinner');\n",
              "      try {\n",
              "        const charts = await google.colab.kernel.invokeFunction(\n",
              "            'suggestCharts', [key], {});\n",
              "      } catch (error) {\n",
              "        console.error('Error during call to suggestCharts:', error);\n",
              "      }\n",
              "      quickchartButtonEl.classList.remove('colab-df-spinner');\n",
              "      quickchartButtonEl.classList.add('colab-df-quickchart-complete');\n",
              "    }\n",
              "    (() => {\n",
              "      let quickchartButtonEl =\n",
              "        document.querySelector('#df-e39d3cbb-2cd4-4c88-b9de-c0ed85c3ecea button');\n",
              "      quickchartButtonEl.style.display =\n",
              "        google.colab.kernel.accessAllowed ? 'block' : 'none';\n",
              "    })();\n",
              "  </script>\n",
              "</div>\n",
              "\n",
              "    </div>\n",
              "  </div>\n"
            ],
            "application/vnd.google.colaboratory.intrinsic+json": {
              "type": "dataframe",
              "variable_name": "final_rating",
              "summary": "{\n  \"name\": \"final_rating\",\n  \"rows\": 5689,\n  \"fields\": [\n    {\n      \"column\": \"avg_rating\",\n      \"properties\": {\n        \"dtype\": \"number\",\n        \"std\": 0.5244418871974894,\n        \"min\": 1.375,\n        \"max\": 5.0,\n        \"num_unique_values\": 509,\n        \"samples\": [\n          4.709677419354839,\n          4.052631578947368,\n          2.6666666666666665\n        ],\n        \"semantic_type\": \"\",\n        \"description\": \"\"\n      }\n    },\n    {\n      \"column\": \"rating_count\",\n      \"properties\": {\n        \"dtype\": \"number\",\n        \"std\": 11,\n        \"min\": 5,\n        \"max\": 206,\n        \"num_unique_values\": 93,\n        \"samples\": [\n          41,\n          25,\n          63\n        ],\n        \"semantic_type\": \"\",\n        \"description\": \"\"\n      }\n    }\n  ]\n}"
            }
          },
          "metadata": {},
          "execution_count": 24
        }
      ],
      "source": [
        "# Calculate the average rating for each product\n",
        "average_rating = df_final.groupby('prod_id').mean()['rating']\n",
        "\n",
        "# Calculate the count of ratings for each product\n",
        "count_rating = df_final.groupby('prod_id').count()['rating']\n",
        "\n",
        "# Create a dataframe with calculated average and count of ratings\n",
        "final_rating = pd.DataFrame({'avg_rating':average_rating, 'rating_count':count_rating})\n",
        "\n",
        "# Sort the dataframe by average of ratings in the descending order\n",
        "final_rating.sort_values(by = ['avg_rating'], ascending=False, inplace=True)\n",
        "\n",
        "# See the first five records of the \"final_rating\" dataset\n",
        "final_rating.head()"
      ]
    },
    {
      "cell_type": "code",
      "execution_count": null,
      "metadata": {
        "id": "zKU__5s1xhXi"
      },
      "outputs": [],
      "source": [
        "# Defining a function to get the top n products based on the highest average rating and minimum interactions\n",
        "def top_n_prod(data, n, min_interaction=30):\n",
        "\n",
        "  # Finding products with minimum number of interactions\n",
        "  recommendations = data[data['rating_count'] >= min_interaction]\n",
        "\n",
        "  # Sorting values with respect to average rating\n",
        "  recommendations = recommendations.sort_values(by = 'avg_rating', ascending=False)\n",
        "\n",
        "  return recommendations.index[:n]\n"
      ]
    },
    {
      "cell_type": "markdown",
      "metadata": {
        "id": "F8l6373PxhXi"
      },
      "source": [
        "### **Recommending top 5 products with 50 minimum interactions based on popularity**"
      ]
    },
    {
      "cell_type": "code",
      "execution_count": null,
      "metadata": {
        "id": "dBxdLiM_xhXi",
        "colab": {
          "base_uri": "https://localhost:8080/"
        },
        "outputId": "8c5f696b-76da-410b-9ace-a4e48ba9f193"
      },
      "outputs": [
        {
          "output_type": "execute_result",
          "data": {
            "text/plain": [
              "['B001TH7GUU', 'B003ES5ZUU', 'B0019EHU8G', 'B006W8U2MU', 'B000QUUFRW']"
            ]
          },
          "metadata": {},
          "execution_count": 26
        }
      ],
      "source": [
        "list(top_n_prod(final_rating, 5, 50))"
      ]
    },
    {
      "cell_type": "markdown",
      "metadata": {
        "id": "l9_xW_UMxhXj"
      },
      "source": [
        "### **Recommending top 5 products with 100 minimum interactions based on popularity**"
      ]
    },
    {
      "cell_type": "code",
      "execution_count": null,
      "metadata": {
        "id": "dZgGZCUoxhXj",
        "colab": {
          "base_uri": "https://localhost:8080/"
        },
        "outputId": "2e276ec8-d74d-4a57-931b-69fbe4804d46"
      },
      "outputs": [
        {
          "output_type": "execute_result",
          "data": {
            "text/plain": [
              "['B003ES5ZUU', 'B000N99BBC', 'B002WE6D44', 'B007WTAJTO', 'B002V88HFE']"
            ]
          },
          "metadata": {},
          "execution_count": 27
        }
      ],
      "source": [
        "list(top_n_prod(final_rating, 5, 100))"
      ]
    },
    {
      "cell_type": "markdown",
      "metadata": {
        "id": "BL-m68a15JtT",
        "outputId": "69132b0f-8d3f-4798-f6a0-249e17a3c822"
      },
      "source": [
        "We have recommended the **top 5** products by using the popularity recommendation system. Now, let's build a recommendation system using **collaborative filtering.**"
      ]
    },
    {
      "cell_type": "markdown",
      "metadata": {
        "id": "sJI5kiiGvOOK"
      },
      "source": [
        "## **Model 2: Collaborative Filtering Recommendation System**"
      ]
    },
    {
      "cell_type": "markdown",
      "metadata": {
        "id": "skzc0N1_nVNB"
      },
      "source": [
        "### **Building a baseline user-user similarity based recommendation system**"
      ]
    },
    {
      "cell_type": "markdown",
      "metadata": {
        "id": "d4Uo_MYMnVNB"
      },
      "source": [
        "- Below, we are building **similarity-based recommendation systems** using `cosine` similarity and using **KNN to find similar users** which are the nearest neighbor to the given user.  \n",
        "- We will be using a new library, called `surprise`, to build the remaining models. Let's first import the necessary classes and functions from this library."
      ]
    },
    {
      "cell_type": "code",
      "execution_count": null,
      "metadata": {
        "id": "UJ1wEylUpexj"
      },
      "outputs": [],
      "source": [
        "# To compute the accuracy of models\n",
        "from surprise import accuracy\n",
        "\n",
        "# Class is used to parse a file containing ratings, data should be in structure - user ; item ; rating\n",
        "from surprise.reader import Reader\n",
        "\n",
        "# Class for loading datasets\n",
        "from surprise.dataset import Dataset\n",
        "\n",
        "# For tuning model hyperparameters\n",
        "from surprise.model_selection import GridSearchCV\n",
        "\n",
        "# For splitting the rating data in train and test datasets\n",
        "from surprise.model_selection import train_test_split\n",
        "\n",
        "# For implementing similarity-based recommendation system\n",
        "from surprise.prediction_algorithms.knns import KNNBasic\n",
        "\n",
        "# For implementing matrix factorization based recommendation system\n",
        "from surprise.prediction_algorithms.matrix_factorization import SVD\n",
        "\n",
        "# for implementing K-Fold cross-validation\n",
        "from surprise.model_selection import KFold\n",
        "\n",
        "# For implementing clustering-based recommendation system\n",
        "from surprise import CoClustering"
      ]
    },
    {
      "cell_type": "markdown",
      "metadata": {
        "id": "54MqVAtDTsnl"
      },
      "source": [
        "**Before building the recommendation systems, let's  go over some basic terminologies we are going to use:**"
      ]
    },
    {
      "cell_type": "markdown",
      "metadata": {
        "id": "Qsxb3xhnTsnl"
      },
      "source": [
        "**Relevant item:** An item (product in this case) that is actually **rated higher than the threshold rating** is relevant, if the **actual rating is below the threshold then it is a non-relevant item**.  \n",
        "\n",
        "**Recommended item:** An item that's **predicted rating is higher than the threshold is a recommended item**, if the **predicted rating is below the threshold then that product will not be recommended to the user**.  \n"
      ]
    },
    {
      "cell_type": "markdown",
      "metadata": {
        "id": "moyLUHCuTsnl"
      },
      "source": [
        "**False Negative (FN):** It is the **frequency of relevant items that are not recommended to the user**. If the relevant items are not recommended to the user, then the user might not buy the product/item. This would result in the **loss of opportunity for the service provider**, which they would like to minimize.\n",
        "\n",
        "**False Positive (FP):** It is the **frequency of recommended items that are actually not relevant**. In this case, the recommendation system is not doing a good job of finding and recommending the relevant items to the user. This would result in **loss of resources for the service provider**, which they would also like to minimize."
      ]
    },
    {
      "cell_type": "markdown",
      "metadata": {
        "id": "Yuvc2VaZTsnl"
      },
      "source": [
        "**Recall:** It is the **fraction of actually relevant items that are recommended to the user**, i.e., if out of 10 relevant products, 6 are recommended to the user then recall is 0.60. Higher the value of recall better is the model. It is one of the metrics to do the performance assessment of classification models.\n",
        "\n",
        "**Precision:** It is the **fraction of recommended items that are relevant actually**, i.e., if out of 10 recommended items, 6 are found relevant by the user then precision is 0.60. The higher the value of precision better is the model. It is one of the metrics to do the performance assessment of classification models."
      ]
    },
    {
      "cell_type": "markdown",
      "metadata": {
        "id": "8NLc36Y8Tsnm"
      },
      "source": [
        "**While making a recommendation system, it becomes customary to look at the performance of the model. In terms of how many recommendations are relevant and vice-versa, below are some most used performance metrics used in the assessment of recommendation systems.**"
      ]
    },
    {
      "cell_type": "markdown",
      "metadata": {
        "id": "cqF8fRBqTsnm"
      },
      "source": [
        "### **Precision@k, Recall@ k, and F1-score@k**"
      ]
    },
    {
      "cell_type": "markdown",
      "metadata": {
        "id": "imMJNF0HTsnm"
      },
      "source": [
        "**Precision@k** - It is the **fraction of recommended items that are relevant in `top k` predictions**. The value of k is the number of recommendations to be provided to the user. One can choose a variable number of recommendations to be given to a unique user.  \n",
        "\n",
        "\n",
        "**Recall@k** - It is the **fraction of relevant items that are recommended to the user in `top k` predictions**.\n",
        "\n",
        "**F1-score@k** - It is the **harmonic mean of Precision@k and Recall@k**. When **precision@k and recall@k both seem to be important** then it is useful to use this metric because it is representative of both of them."
      ]
    },
    {
      "cell_type": "markdown",
      "metadata": {
        "id": "jBW4BUhWTsnm"
      },
      "source": [
        "### **Some useful functions**"
      ]
    },
    {
      "cell_type": "markdown",
      "metadata": {
        "id": "QOBHKh0eTsnm"
      },
      "source": [
        "- Below function takes the **recommendation model** as input and gives the **precision@k, recall@k, and F1-score@k** for that model.  \n",
        "- To compute **precision and recall**, **top k** predictions are taken under consideration for each user.\n",
        "- We will use the precision and recall to compute the F1-score."
      ]
    },
    {
      "cell_type": "code",
      "execution_count": null,
      "metadata": {
        "id": "Rxn-GahOTsnm"
      },
      "outputs": [],
      "source": [
        "def precision_recall_at_k(model, k = 10, threshold = 3.5):\n",
        "    \"\"\"Return precision and recall at k metrics for each user\"\"\"\n",
        "\n",
        "    # First map the predictions to each user\n",
        "    user_est_true = defaultdict(list)\n",
        "\n",
        "    # Making predictions on the test data\n",
        "    predictions = model.test(testset)\n",
        "\n",
        "    for uid, _, true_r, est, _ in predictions:\n",
        "        user_est_true[uid].append((est, true_r))\n",
        "\n",
        "    precisions = dict()\n",
        "    recalls = dict()\n",
        "    for uid, user_ratings in user_est_true.items():\n",
        "\n",
        "        # Sort user ratings by estimated value\n",
        "        user_ratings.sort(key = lambda x: x[0], reverse = True)\n",
        "\n",
        "        # Number of relevant items\n",
        "        n_rel = sum((true_r >= threshold) for (_, true_r) in user_ratings)\n",
        "\n",
        "        # Number of recommended items in top k\n",
        "        n_rec_k = sum((est >= threshold) for (est, _) in user_ratings[:k])\n",
        "\n",
        "        # Number of relevant and recommended items in top k\n",
        "        n_rel_and_rec_k = sum(((true_r >= threshold) and (est >= threshold))\n",
        "                              for (est, true_r) in user_ratings[:k])\n",
        "\n",
        "        # Precision@K: Proportion of recommended items that are relevant\n",
        "        # When n_rec_k is 0, Precision is undefined. Therefore, we are setting Precision to 0 when n_rec_k is 0\n",
        "\n",
        "        precisions[uid] = n_rel_and_rec_k / n_rec_k if n_rec_k != 0 else 0\n",
        "\n",
        "        # Recall@K: Proportion of relevant items that are recommended\n",
        "        # When n_rel is 0, Recall is undefined. Therefore, we are setting Recall to 0 when n_rel is 0\n",
        "\n",
        "        recalls[uid] = n_rel_and_rec_k / n_rel if n_rel != 0 else 0\n",
        "\n",
        "    # Mean of all the predicted precisions are calculated.\n",
        "    precision = round((sum(prec for prec in precisions.values()) / len(precisions)), 3)\n",
        "\n",
        "    # Mean of all the predicted recalls are calculated.\n",
        "    recall = round((sum(rec for rec in recalls.values()) / len(recalls)), 3)\n",
        "\n",
        "    accuracy.rmse(predictions)\n",
        "\n",
        "    print('Precision: ', precision) # Command to print the overall precision\n",
        "\n",
        "    print('Recall: ', recall) # Command to print the overall recall\n",
        "\n",
        "    print('F_1 score: ', round((2*precision*recall)/(precision+recall), 3)) # Formula to compute the F-1 score"
      ]
    },
    {
      "cell_type": "markdown",
      "metadata": {
        "id": "_ZmsamDVyek-"
      },
      "source": [
        "**Hints:**\n",
        "\n",
        "- To compute **precision and recall**, a **threshold of 3.5 and k value of 10 can be considered for the recommended and relevant ratings**.\n",
        "- Think about the performance metric to choose."
      ]
    },
    {
      "cell_type": "markdown",
      "metadata": {
        "id": "8hxjJMTwnVNB"
      },
      "source": [
        "Below we are loading the **`rating` dataset**, which is a **pandas DataFrame**, into a **different format called `surprise.dataset.DatasetAutoFolds`**, which is required by this library. To do this, we will be **using the classes `Reader` and `Dataset`.**"
      ]
    },
    {
      "cell_type": "code",
      "execution_count": null,
      "metadata": {
        "id": "rGfYDiOCpe4X"
      },
      "outputs": [],
      "source": [
        "# Instantiating Reader scale with expected rating scale\n",
        "reader = Reader(rating_scale=(1,5))\n",
        "\n",
        "# Loading the rating dataset\n",
        "data = Dataset.load_from_df(df_final[['user_id', 'prod_id', 'rating']], reader)\n",
        "\n",
        "# Splitting the data into train and test datasets\n",
        "trainset, testset = train_test_split(data, test_size=.7, random_state=42)"
      ]
    },
    {
      "cell_type": "markdown",
      "metadata": {
        "id": "DmHTEt7TnVNC"
      },
      "source": [
        "Now, we are **ready to build the first baseline similarity-based recommendation system** using the cosine similarity."
      ]
    },
    {
      "cell_type": "markdown",
      "metadata": {
        "id": "SVDfVHB4tQfU"
      },
      "source": [
        "### **Building the user-user Similarity-based Recommendation System**"
      ]
    },
    {
      "cell_type": "code",
      "execution_count": null,
      "metadata": {
        "id": "vO3FL7iape8A",
        "scrolled": false,
        "colab": {
          "base_uri": "https://localhost:8080/"
        },
        "outputId": "c68d3c0d-7f92-476b-9b72-2205741db362"
      },
      "outputs": [
        {
          "output_type": "stream",
          "name": "stdout",
          "text": [
            "RMSE: 1.0552\n",
            "Precision:  0.855\n",
            "Recall:  0.48\n",
            "F_1 score:  0.615\n"
          ]
        }
      ],
      "source": [
        "# Declaring the similarity options\n",
        "sim_options = {'name': 'cosine',\n",
        "               'user_based': True}\n",
        "\n",
        "# Initialize the KNNBasic model using sim_options declared, Verbose = False, and setting random_state = 1\n",
        "algo_knn_user = KNNBasic(sim_options = sim_options, verbose=False, random_state=1)\n",
        "\n",
        "# Fit the model on the training data\n",
        "algo_knn_user.fit(trainset)\n",
        "\n",
        "# predict ratings for the testset\n",
        "predictions = algo_knn_user.test(testset)\n",
        "\n",
        "# Let us compute precision@k, recall@k, and f_1 score using the precision_recall_at_k function defined above\n",
        "precision_recall_at_k(algo_knn_user)"
      ]
    },
    {
      "cell_type": "code",
      "source": [
        "accuracy.rmse(predictions)"
      ],
      "metadata": {
        "colab": {
          "base_uri": "https://localhost:8080/"
        },
        "id": "FQqP-EHvyYVD",
        "outputId": "5b2bbe40-70d7-4929-b0fe-ce0d61cd55c2"
      },
      "execution_count": null,
      "outputs": [
        {
          "output_type": "stream",
          "name": "stdout",
          "text": [
            "RMSE: 1.0552\n"
          ]
        },
        {
          "output_type": "execute_result",
          "data": {
            "text/plain": [
              "1.0551559636074466"
            ]
          },
          "metadata": {},
          "execution_count": 122
        }
      ]
    },
    {
      "cell_type": "markdown",
      "metadata": {
        "id": "nEuJK_A9Tsnn"
      },
      "source": [
        "**Observations:**\n",
        "\n",
        "Our initial KNN model has relatively good performance, with an 85% percision. However, recall is below 50%, bringing the F_1 score to 61.5%."
      ]
    },
    {
      "cell_type": "markdown",
      "metadata": {
        "id": "reFD0-nsnVNC"
      },
      "source": [
        "Let's now **predict rating for a user with `userId=A3LDPF5FMB782Z` and `productId=1400501466`** as shown below. Here the user has already interacted or watched the product with productId '1400501466' and given a rating of 5."
      ]
    },
    {
      "cell_type": "code",
      "execution_count": null,
      "metadata": {
        "id": "Sxd23bZ9pe_x",
        "colab": {
          "base_uri": "https://localhost:8080/"
        },
        "outputId": "e0485a1b-8637-4f06-aeb5-bf51a2af3a2f"
      },
      "outputs": [
        {
          "output_type": "stream",
          "name": "stdout",
          "text": [
            "user: A3LDPF5FMB782Z item: 1400501466 r_ui = 5.00   est = 4.29   {'was_impossible': True, 'reason': 'Not enough neighbors.'}\n"
          ]
        },
        {
          "output_type": "execute_result",
          "data": {
            "text/plain": [
              "Prediction(uid='A3LDPF5FMB782Z', iid='1400501466', r_ui=5, est=4.291366722826364, details={'was_impossible': True, 'reason': 'Not enough neighbors.'})"
            ]
          },
          "metadata": {},
          "execution_count": 123
        }
      ],
      "source": [
        "# Predicting rating for a sample user with an interacted product\n",
        "algo_knn_user.predict('A3LDPF5FMB782Z', '1400501466', r_ui = 5, verbose=True)"
      ]
    },
    {
      "cell_type": "markdown",
      "metadata": {
        "id": "ENJcqG_wemRH"
      },
      "source": [
        "**Observations:**\n",
        "\n",
        "The model has returned was_impossible as True, so the prediction that has been returned is 4.29, the global mean of the ratings column. The algorithm has cited that there are not enough neighbors for this data point to create a prediction from."
      ]
    },
    {
      "cell_type": "markdown",
      "metadata": {
        "id": "cj6ecbglTsno"
      },
      "source": [
        "Below is the **list of users who have not seen the product with product id \"1400501466\"**."
      ]
    },
    {
      "cell_type": "code",
      "source": [
        "# creating a list of unique users\n",
        "uniqueUsers = df_final['user_id'].unique().tolist()\n",
        "\n",
        "# copying unique users to new list\n",
        "users_not_seen = uniqueUsers\n",
        "product = 1400501466\n",
        "\n",
        "# itterating through unique users to remove those that have seen product 1400501466\n",
        "for user in uniqueUsers:\n",
        "  if 1400501466 in df[df['prod_id'] == product]:\n",
        "    users_not_seen.remove(user)\n",
        "\n",
        "# displaying list of users\n",
        "users_not_seen"
      ],
      "metadata": {
        "colab": {
          "base_uri": "https://localhost:8080/"
        },
        "id": "OWasT798Pg4U",
        "outputId": "32e759d2-9dda-47ac-81af-79d142e6a290"
      },
      "execution_count": null,
      "outputs": [
        {
          "output_type": "execute_result",
          "data": {
            "text/plain": [
              "['A3LDPF5FMB782Z',\n",
              " 'A1A5KUIIIHFF4U',\n",
              " 'A2XIOXRRYX0KZY',\n",
              " 'AW3LX47IHPFRL',\n",
              " 'A1E3OB6QMBKRYZ',\n",
              " 'A19N3S7CBSU6O7',\n",
              " 'A2ZR3YTMEEIIZ4',\n",
              " 'A3CLWR1UUZT6TG',\n",
              " 'A5JLAU2ARJ0BO',\n",
              " 'A1P4XD7IORSEFN',\n",
              " 'A341HCMGNZCBIT',\n",
              " 'A3HPCRD9RX351S',\n",
              " 'A1DQHS7MOVYYYA',\n",
              " 'ALUNVOQRXOZIA',\n",
              " 'A3G7BEJJCPD6DS',\n",
              " 'A2JXS1JII6SAUD',\n",
              " 'A1C82BC5GNABOA',\n",
              " 'A1VHCO8RQFIGQJ',\n",
              " 'A2Z9S2RQD542CP',\n",
              " 'A2QIC4G483SQQA',\n",
              " 'A3L6L5O89JTX2T',\n",
              " 'A1OGCPMSIVK7G4',\n",
              " 'A18HE80910BTZI',\n",
              " 'A3F9CBHV4OHFBS',\n",
              " 'A1T1YSCDW0PD25',\n",
              " 'ABVYGB2TKBO8F',\n",
              " 'A11ED8O95W2103',\n",
              " 'A3NCIN6TNL0MGA',\n",
              " 'ASHJAZC9OA9NS',\n",
              " 'A105TOJ6LTVMBG',\n",
              " 'A14JBDSWKPKTZA',\n",
              " 'A3QX0ERX4D03TF',\n",
              " 'A13WREJ05GMRA6',\n",
              " 'A3N8O68DOEQ2FE',\n",
              " 'A3J8A5L5AF5TX9',\n",
              " 'A2HRHF83I3NDGT',\n",
              " 'A1R3GN9MEJFXM3',\n",
              " 'A3963R7EPE3A7E',\n",
              " 'A2JOPUWVV0XQJ3',\n",
              " 'AAW7X3GRD8GY9',\n",
              " 'A3V8P0O224OBDB',\n",
              " 'AY6A8KPYCE6B0',\n",
              " 'A212MDP6K4VJS5',\n",
              " 'A28X0LT2100RL1',\n",
              " 'A1V3TRGWOMA8LC',\n",
              " 'A1NZLRAZJGD99W',\n",
              " 'A1522TN5FVJL0Y',\n",
              " 'A3UXW18DP4WSD6',\n",
              " 'A3CW0ZLUO5X2B1',\n",
              " 'A3TBMGNSEQBWIL',\n",
              " 'AEZJTA4KDIWY8',\n",
              " 'A22CW0ZHY3NJH8',\n",
              " 'A2V7EO331SFUF6',\n",
              " 'A3977M5S0GIG5H',\n",
              " 'A1F1A0QQP2XVH5',\n",
              " 'A231WM2Z2JL0U3',\n",
              " 'A2JWF9IG8PJAOA',\n",
              " 'A3LWC833HQIG7J',\n",
              " 'A38RMU1Y5TDP9',\n",
              " 'A3D822N1K2IAQD',\n",
              " 'A33775AIB1A664',\n",
              " 'ARXU3FESTWMJJ',\n",
              " 'A3A15L96IYUO6V',\n",
              " 'A3PGVJF37JSHFO',\n",
              " 'A2WJ5XSE4I9F55',\n",
              " 'A1V5TRJXTI6F01',\n",
              " 'ATOKT8QYK967L',\n",
              " 'ANRS196NKFVUU',\n",
              " 'A3639Z6O5JBLIZ',\n",
              " 'A3ER6ARJ23CIN8',\n",
              " 'A33152QEGO2MZN',\n",
              " 'A3HRDRQ5VAFPQS',\n",
              " 'A1KY5G5FP31F2F',\n",
              " 'A1MQQEM7W77L62',\n",
              " 'AUCIFMWP3DU8R',\n",
              " 'ALHC64J88LVWO',\n",
              " 'A2PC9ZZIFV31B1',\n",
              " 'A54S9CIUV5VNB',\n",
              " 'A1XE3M22N91451',\n",
              " 'A313H6238N589',\n",
              " 'A3SDJ70H00OQCJ',\n",
              " 'A2WB7LZ595CR50',\n",
              " 'A356RFKNIG043B',\n",
              " 'AW6A4PPENVZY3',\n",
              " 'A149RNR5RH19YY',\n",
              " 'A32LX4XJ2LU740',\n",
              " 'A1J75JJ0Q2OEJN',\n",
              " 'A6FIAB28IS79',\n",
              " 'A2RWHTNM5P3I8Y',\n",
              " 'A3077MQTAKOVFZ',\n",
              " 'A1FF2PLA84KNAE',\n",
              " 'A1CM4HI4S5P0WO',\n",
              " 'A3775OP5VTX5ON',\n",
              " 'A2QAOP52OEB5EV',\n",
              " 'A1KD8NJPZ01R37',\n",
              " 'A7Y6AVS576M03',\n",
              " 'A1B6O7SAIYG2N0',\n",
              " 'A1KDUQ2HU0WD68',\n",
              " 'A3RGHO0Q938FRS',\n",
              " 'A4GGT6O0GQNV2',\n",
              " 'A1LHMSY3Q46PJS',\n",
              " 'A18EA7MNLXP9H5',\n",
              " 'A1U5IJHJK84S54',\n",
              " 'A1B4MIXYVIKMU2',\n",
              " 'A2BMZRO0H7TFCS',\n",
              " 'A2EZTM9WY5B5IL',\n",
              " 'A298GL2D0BHGKZ',\n",
              " 'A34LQ791ACZ0JC',\n",
              " 'A1ZM846Y7AUYD',\n",
              " 'A2IIAQ7VVAHXTD',\n",
              " 'A1U4GOVZWL8ZTL',\n",
              " 'A2MCRCK1V61FWQ',\n",
              " 'A1F9Z42CFF9IAY',\n",
              " 'A32AFX2PUJ82HG',\n",
              " 'A3EQQHWJ1EEYEU',\n",
              " 'A2QI2JHSIQ3SN3',\n",
              " 'A506HOOCVL8GW',\n",
              " 'A3GQY0TFRG0MPZ',\n",
              " 'A54SG05AV6S4H',\n",
              " 'A1URXSRV6WDHVY',\n",
              " 'A1B8EJQU73YGL9',\n",
              " 'A2WLNSZ9U0T1S3',\n",
              " 'A2T3S3VTW65VO5',\n",
              " 'A1V4VVBQBFXRHC',\n",
              " 'AKT8TGIT6VVZ5',\n",
              " 'A1MJMYLRTZ76ZX',\n",
              " 'AS8C336DDLSO4',\n",
              " 'A32QOZWIKQDNZX',\n",
              " 'APQQK1V695AUE',\n",
              " 'AW68KVDV7BBRS',\n",
              " 'A2MOJANFPX353G',\n",
              " 'A3OXHLG6DIBRW8',\n",
              " 'A2AF0NOCM71J0B',\n",
              " 'A250AXLRBVYKB4',\n",
              " 'A2EF8N7ZE7ONWX',\n",
              " 'AE88D7OM7YU99',\n",
              " 'A3J2YU2D9BH2J7',\n",
              " 'A4IL0CLL27Q33',\n",
              " 'AAR7CEPXYJA0T',\n",
              " 'A100WO06OQR8BQ',\n",
              " 'A3NGOG8Z78AZSD',\n",
              " 'A1R19YYR5OR26T',\n",
              " 'A2MOD50IHEDH3G',\n",
              " 'A3TAS1AG6FMBQW',\n",
              " 'AHIK7BUXFRMT8',\n",
              " 'A23GFTVIETX7DS',\n",
              " 'A36K2N527TXXJN',\n",
              " 'A3HC7NWLKCPX4X',\n",
              " 'A1EH2S92FHWZRP',\n",
              " 'AZOK5STV85FBJ',\n",
              " 'AHNHLGKIZ2N3B',\n",
              " 'AN81JUYW2SL24',\n",
              " 'A3QMJMTLJC34QC',\n",
              " 'AT2J7H5TRZM8Z',\n",
              " 'A3NHUQ33CFH3VM',\n",
              " 'AYMD77ITD15PT',\n",
              " 'A1IU7S4HCK1XK0',\n",
              " 'A2NYK9KWFMJV4Y',\n",
              " 'A1D27BCSYV7VWH',\n",
              " 'A1BC62X6HZJGZR',\n",
              " 'A34UVV757IKPVB',\n",
              " 'A2ED50E3KWKUKW',\n",
              " 'A21NS06GDEA3V0',\n",
              " 'ASJSX783R5HTZ',\n",
              " 'ADOR3TR7GDF68',\n",
              " 'A15XI2BEGGFEOW',\n",
              " 'AZCE11PSTCH1L',\n",
              " 'A6VPK7X53QNAQ',\n",
              " 'A1VJ0V58N0698J',\n",
              " 'A30J7WQV0ZNRXG',\n",
              " 'A2IFGGXG3YV3Y6',\n",
              " 'AEJAGHLC675A7',\n",
              " 'A259MPG6SOL02P',\n",
              " 'A1RPTVW5VEOSI',\n",
              " 'A1U5NWJOYH2QQH',\n",
              " 'A1AQ8JT2A3UWMY',\n",
              " 'A2SKEQT0WTB954',\n",
              " 'ARC5ASW9CUAGP',\n",
              " 'A3AGQAXTX6VRJ3',\n",
              " 'A1R377IPZOKLMM',\n",
              " 'AZAC8O310IK4E',\n",
              " 'AJCR7L4AXL2OG',\n",
              " 'AGEWOMQ90BV8R',\n",
              " 'A3EP26M3QHINXT',\n",
              " 'A1ODOGXEYECQQ8',\n",
              " 'A2AEZQ3DGBBLPR',\n",
              " 'A1TDR7Y90SVCHL',\n",
              " 'A87CILADRIZW0',\n",
              " 'A3EZEP0FX5BC1P',\n",
              " 'ATDE9JYCPI0L1',\n",
              " 'A2X8KN82L07RSK',\n",
              " 'AMKNPIDFLRFMP',\n",
              " 'A3GFQHHVMEAIO',\n",
              " 'A1JWSDDIH5Z7DV',\n",
              " 'A2SL5IW096Z2BL',\n",
              " 'AUITG1DJ3QUGK',\n",
              " 'A3TPNC3TKGCCEI',\n",
              " 'A1EXGL6L0QQ0M5',\n",
              " 'A2B7BUH8834Y6M',\n",
              " 'A1GNYV0RA0EQSS',\n",
              " 'A1SDPA1J98UP4L',\n",
              " 'A225G2TFM76GYX',\n",
              " 'A19W47CXJJP1MI',\n",
              " 'A1Z7U9K6X3FEOU',\n",
              " 'A1L1N3J6XNABO2',\n",
              " 'A1SX9PHJWTDMF9',\n",
              " 'A1GBT4UN2RW7XY',\n",
              " 'A35W3JQYP0M655',\n",
              " 'A3TA1UJWRJF9NC',\n",
              " 'A35HUT8MQMT21L',\n",
              " 'A2R6RA8FRBS608',\n",
              " 'A2HDTOF8222KN3',\n",
              " 'AT28RL25Q2OLK',\n",
              " 'A11D1KHM7DVOQK',\n",
              " 'A3T7V207KRDE2O',\n",
              " 'A3FS3FJPD3RJTD',\n",
              " 'AN9CP6J4JF91X',\n",
              " 'A145LBW8ZHF0TW',\n",
              " 'A365PBEOWM7EI7',\n",
              " 'A2HMF8ZR67BNZS',\n",
              " 'A4WEZJOIZIV4U',\n",
              " 'A1C5WS021EL3WO',\n",
              " 'A17Z0LVY96TO53',\n",
              " 'A2UQK3DAZ8NO2T',\n",
              " 'A5KMMY627T3W',\n",
              " 'A5MCDQ60DWUEV',\n",
              " 'A1HSM98KUGTHNY',\n",
              " 'A2PK64OVZA1U8Z',\n",
              " 'A3R1GJY2MY8041',\n",
              " 'A1X3DA7C61WZLQ',\n",
              " 'A1YVO5V1SO18DZ',\n",
              " 'A12DQZKRKTNF5E',\n",
              " 'A74UT8IQCM0I2',\n",
              " 'A30XZK10EZN9V4',\n",
              " 'A203OCQQ12MAVT',\n",
              " 'A26CPEEWB2WKRE',\n",
              " 'A2XX2A4OJCDNLZ',\n",
              " 'A11KZ906QD08C5',\n",
              " 'A2J3VCGBNDLAKF',\n",
              " 'A1ZTR0FR5AW9B4',\n",
              " 'A25TNBMJ4ZO7RD',\n",
              " 'A14I1F2H7NOYDC',\n",
              " 'A3CFU12GS5CZCN',\n",
              " 'A1V4A5U5O3TMMD',\n",
              " 'A3PD8JD9L4WEII',\n",
              " 'A1FDV3WPOHREY9',\n",
              " 'A194Y47BF3CUTJ',\n",
              " 'A26LD9FQHTM8ZH',\n",
              " 'A3QDY9I0CNMD2W',\n",
              " 'A2J0IBS4PFRO2C',\n",
              " 'A3SX5MZTCZRQLF',\n",
              " 'AGXV8E7XK9J6H',\n",
              " 'A10Y058K7B96C6',\n",
              " 'A3Q4TYJVAM4IRM',\n",
              " 'A3PJJTAKISAFI9',\n",
              " 'A3REK3OFONWB1Q',\n",
              " 'A3L9E0YI7C5G0W',\n",
              " 'A1H98YV5K5BUX0',\n",
              " 'A4UGMKUSX9XHI',\n",
              " 'A3P4T1DKRWTL36',\n",
              " 'AQNSQW4495SG0',\n",
              " 'A21T0D2F7SKG5S',\n",
              " 'A3OYO7B6SS7QLH',\n",
              " 'A23E9QQHJLNGUI',\n",
              " 'A3QU3O79AGNWCY',\n",
              " 'A2GMZZ6TDYOHY7',\n",
              " 'A3TR3KLL5PXSZ8',\n",
              " 'AHF4I1FSIHABC',\n",
              " 'A1RJKTYC03L0JY',\n",
              " 'A2ARDVMUGDFED6',\n",
              " 'AIJQU979J6UFY',\n",
              " 'A3EPJSPH03AS29',\n",
              " 'A1N3EH28S4DI8L',\n",
              " 'A2DS9DLMSU2M2Z',\n",
              " 'A24HWYHR28JJ7A',\n",
              " 'A25C2M3QF9G7OQ',\n",
              " 'A30C8WHQ2CYFO4',\n",
              " 'A2W9GX82SLKROQ',\n",
              " 'A3EZFFPVS34AMO',\n",
              " 'AAQ9NJ480N9W5',\n",
              " 'A2PY5ED630H0QJ',\n",
              " 'A3CEUT263RNUDO',\n",
              " 'A1PSVZBM894R5H',\n",
              " 'A2XU6J41ZQOJ2V',\n",
              " 'A3N4VTNFPMTHEF',\n",
              " 'AQ55H30MZSV0Q',\n",
              " 'A11R5VW7IM6ISQ',\n",
              " 'A2NP9CGUSFP22E',\n",
              " 'A1D9V11QUHXENQ',\n",
              " 'A9BWUH9XKZ2DQ',\n",
              " 'A17W0GMB0YY83M',\n",
              " 'A3IOQ7NVVLAUEE',\n",
              " 'A1X1CEGHTHMBL1',\n",
              " 'A3V0YR50F1XSKP',\n",
              " 'A1CMD08Z49PGKQ',\n",
              " 'AN2IZT80ZUNJN',\n",
              " 'A1CMWB7AWQUQH4',\n",
              " 'A2Y3WWPUKIJ59I',\n",
              " 'A3QDMDSANPYGUX',\n",
              " 'A3DQWFWINN3V5A',\n",
              " 'A2NX6MFZP8TM6S',\n",
              " 'A100UD67AHFODS',\n",
              " 'A1QRST0A3IQIEF',\n",
              " 'A2WBVO6X3KPMDT',\n",
              " 'AOMEH9W6LHC4S',\n",
              " 'A3QQGPI3CTV9SX',\n",
              " 'A141OPVE376YFI',\n",
              " 'ARBKYIVNYWK3C',\n",
              " 'A3S0DBBR693O06',\n",
              " 'A215IN14OKAE2T',\n",
              " 'A2OOXVZ6B1VZ9A',\n",
              " 'AD9ZL63H0VKCZ',\n",
              " 'A3H4S6YO9VNGDZ',\n",
              " 'A3QUDXLOJTKEP9',\n",
              " 'A1H4IVXNXWWBLV',\n",
              " 'A16HXVNPU5TCGE',\n",
              " 'AZ515FFZ7I2P7',\n",
              " 'A20WUUD9EDWY4N',\n",
              " 'A1REY92IEZJUSX',\n",
              " 'A253IOATGMT2UP',\n",
              " 'A3G007LQX6KGOD',\n",
              " 'ABMN74TBW5UWE',\n",
              " 'A38NELQT98S4H8',\n",
              " 'A38NHXL5257E3B',\n",
              " 'A19X4BF861LQST',\n",
              " 'A2BGZ52M908MJY',\n",
              " 'A7QMQBGJ2TCQG',\n",
              " 'A2ZRMCRLDSUX6R',\n",
              " 'A2EMUM49CE0JV4',\n",
              " 'A1IG1I6MR3HAWA',\n",
              " 'AA8RBTN3J2F5H',\n",
              " 'AK3GKIV8DEY8B',\n",
              " 'A2YRX8J4WM5BRX',\n",
              " 'AU627A4UGIW6V',\n",
              " 'A16RL0RMRF974O',\n",
              " 'AR8LWDT6TUKNZ',\n",
              " 'A32T2H8150OJLU',\n",
              " 'AHR86ZEYETLJI',\n",
              " 'A11P105WVK5240',\n",
              " 'AU2UJF4I7KAWL',\n",
              " 'A9Y5O2R4D6EH5',\n",
              " 'A32482Z7XIKDQX',\n",
              " 'A2FXBWR4T4OFQ',\n",
              " 'A3DOPYDOS49I3T',\n",
              " 'A1FLJCHN5CG5M5',\n",
              " 'A1NNMOD9H36Q8E',\n",
              " 'A1FXT4VNDA25LY',\n",
              " 'A1PV5T5S4D5NPI',\n",
              " 'A3E68EBGXTWDNP',\n",
              " 'A2YEZ8Z3BW2SKG',\n",
              " 'A3TRY87JJCA5Y8',\n",
              " 'ANXEW7IDYDJEH',\n",
              " 'A1SFPA80X7TRBR',\n",
              " 'AFR9GYKAHM37U',\n",
              " 'AWH2AY17ZU7W2',\n",
              " 'A2ALRZ0ENQLYY5',\n",
              " 'A3PU3EDJ2FG1AW',\n",
              " 'A2Q7OJTVPIO2XH',\n",
              " 'A1VVRA3P6G1TWH',\n",
              " 'AH3LF9RAD1O2V',\n",
              " 'A30ADSBTWCORYC',\n",
              " 'A8X478DM3KAWM',\n",
              " 'A376OJHLE6SU9Q',\n",
              " 'A1VQHH85U7PX0',\n",
              " 'AGVWTYW0ULXHT',\n",
              " 'A1ZVFCPHCWFV71',\n",
              " 'AEAFHD09X8044',\n",
              " 'A12ANFNOSMW5VD',\n",
              " 'A28RSMADFCBJDT',\n",
              " 'A2TA40MV2H4O6F',\n",
              " 'A1VRANSQ0WF1YS',\n",
              " 'A2XRMQA6PJ5ZJ8',\n",
              " 'A3FPSY1M6G7XIB',\n",
              " 'A2NOW4U7W3F7RI',\n",
              " 'A1MFAPVBW9BEGD',\n",
              " 'A2J8T58Z4X15IO',\n",
              " 'A1TQZUSOU22E9M',\n",
              " 'A1XXMNLOLKNO0I',\n",
              " 'A197T2N6RU7K56',\n",
              " 'A3JU16JTNLVK1J',\n",
              " 'A3TBMAWIIHKHFN',\n",
              " 'A27H61OHW44XA7',\n",
              " 'A20G074MWH9U7O',\n",
              " 'A22R9L5DAVYYWR',\n",
              " 'A33HIV8RXRDM88',\n",
              " 'AAEVGE52KL0DJ',\n",
              " 'A1VLE2SH9J8WYS',\n",
              " 'A2GYV87WW0DMSN',\n",
              " 'A1LA4K5JF78BER',\n",
              " 'A1QVFHPY8418HC',\n",
              " 'ADLVFFE4VBT8',\n",
              " 'A33SX0AD5PYD9B',\n",
              " 'A1E55W6ES0FY17',\n",
              " 'A31N0XY2UTB25C',\n",
              " 'A314KKDIJWCNMV',\n",
              " 'A2LEIANN1UZTHP',\n",
              " 'AT6CZDCP4TRGA',\n",
              " 'A3D7BGK0P5QY0X',\n",
              " 'A33ZYFE8XMKKR1',\n",
              " 'A1KWPIORLG2QV',\n",
              " 'AUBEFRFHJR64Y',\n",
              " 'A2V5M5EJPOD2IU',\n",
              " 'A200DY76VXVGP9',\n",
              " 'A3EFSLEMHNPP6A',\n",
              " 'AWNJAY0M5UI70',\n",
              " 'A2SATO5BNKWY3Y',\n",
              " 'A2F7CSE6KT7NI4',\n",
              " 'A10X9ME6R66JDX',\n",
              " 'AXU8RH1DEV21H',\n",
              " 'A19HT7YC1UW3D6',\n",
              " 'AD8DLOGHAXL',\n",
              " 'A16CVJUQOB6GIB',\n",
              " 'A1MFPAM9TTRTXN',\n",
              " 'AROQO2VDODT7',\n",
              " 'A2LCE1D0TW2XY0',\n",
              " 'A16SRDVPBXN69C',\n",
              " 'A3OA4DV4L81N1D',\n",
              " 'A2T689YVOAYGGD',\n",
              " 'A2RIL2NXHE00AQ',\n",
              " 'A1ILWPH1GHUXE2',\n",
              " 'A2NSMJVQY0RV9S',\n",
              " 'A1QNYLBG73QRNF',\n",
              " 'A31ICLWQ9CSHRS',\n",
              " 'A3FKQQTSMHOCE0',\n",
              " 'A3Q1J68QY1MZQ9',\n",
              " 'AZNUHQSHZHSUE',\n",
              " 'A1EKSETIBS9ETQ',\n",
              " 'AQ3IN3MRXQ5KH',\n",
              " 'AWJWCKB92RJX2',\n",
              " 'A1OMXVXXP07F05',\n",
              " 'A34VRVI4CSI5RQ',\n",
              " 'A17HMM1M7T9PJ1',\n",
              " 'A2D1LPEUCTNT8X',\n",
              " 'A23D13HKTA95WX',\n",
              " 'A3IUW081KXD3PE',\n",
              " 'A11ULAZ4B5ZXC8',\n",
              " 'A23NSKTMSPPBTR',\n",
              " 'A19XMHRB3G4DIR',\n",
              " 'AG0PM9IAHQ06C',\n",
              " 'A22S7D0LP8GRDH',\n",
              " 'A9J4UURM4OSDW',\n",
              " 'A2DF62DP20RIXF',\n",
              " 'ACSX5AIZE3MJ9',\n",
              " 'ADHA1W879JNT0',\n",
              " 'A3NOBH42C7UI5M',\n",
              " 'A22MANL4US4RMY',\n",
              " 'A19FRW264WZTGP',\n",
              " 'A3CJ7MHAS9IMAM',\n",
              " 'A3KTWUXXB8KKC7',\n",
              " 'A3FEJ8H2VTN0OJ',\n",
              " 'ATNOI7E8GTIVE',\n",
              " 'AMUP8DYE7EAN2',\n",
              " 'A3INN916E4VION',\n",
              " 'AOWF9T81XMX2S',\n",
              " 'A2Y29IRSI08F0I',\n",
              " 'A196JN53PG0C7R',\n",
              " 'A2L4W1M5YU5QX3',\n",
              " 'A6VXZ1EEPRTLV',\n",
              " 'AV10H5K6VPQIJ',\n",
              " 'A2UEB48LAWFUCW',\n",
              " 'A26BDXG9KVH7SU',\n",
              " 'A3IY316DRNF5F2',\n",
              " 'ATS2855497V0I',\n",
              " 'A1XB7JGJ459ERP',\n",
              " 'A2NOIWPJDD7WIQ',\n",
              " 'AC6Z7DP1Z5GHD',\n",
              " 'A15G70V9OBTOVO',\n",
              " 'A35HNL2VEDK9Z1',\n",
              " 'A15QYHQH80W30L',\n",
              " 'A1SHHQSPOWR00F',\n",
              " 'A324X7RVDAV3FT',\n",
              " 'AGXMC3ITWZASE',\n",
              " 'A294BKN913UOGP',\n",
              " 'A3QNX5KWHDV0GD',\n",
              " 'A1FR68QH6Z4YZM',\n",
              " 'A33YZNZIRA3H97',\n",
              " 'A3O5ASFUXC32UA',\n",
              " 'A2LXX47A0KMJVX',\n",
              " 'A2VODABWSVHV8E',\n",
              " 'AGOH8N902URMW',\n",
              " 'ACYZXQ2JKPZKT',\n",
              " 'A2SYAQXJGRY3XE',\n",
              " 'A1435P5AMCPB3X',\n",
              " 'ABDR6IJ93HFIO',\n",
              " 'A1F5O1USOUOOXI',\n",
              " 'A2RW587355CMVA',\n",
              " 'A1Q5P5ML3176C0',\n",
              " 'AY3XPKRAMKKY7',\n",
              " 'A1PAGHECG401K1',\n",
              " 'A2D1ZQEFS1NBH2',\n",
              " 'A10O7THJ2O20AG',\n",
              " 'A5Q1FK0FWU7DH',\n",
              " 'A96JD9312DHWC',\n",
              " 'ADKGE078JK8K7',\n",
              " 'A27QXQQOLAMRRR',\n",
              " 'A35X2JJI49OBZP',\n",
              " 'AU3GYRAKBUAEU',\n",
              " 'AWZR0O65DL2Q',\n",
              " 'A2XJMQ2COPGWJH',\n",
              " 'A8X8D4BUY5DFU',\n",
              " 'A1PN2U0AWXGVML',\n",
              " 'AR1T36GLLAFFX',\n",
              " 'A2RU4U1JZ3DMP5',\n",
              " 'A12LH2100CKQO',\n",
              " 'AGHZXQL9F94T9',\n",
              " 'A3R33KMESG0XGQ',\n",
              " 'A2FWZ58M6IQMD7',\n",
              " 'A4H4KYSM2KQ85',\n",
              " 'A1BT6TL7UCIC5Y',\n",
              " 'A1PL7QILVQV3IF',\n",
              " 'A2TN0U8173HM7A',\n",
              " 'ATFBVUXDIRXT6',\n",
              " 'AOJA1LC8PN7K1',\n",
              " 'A1P3DDFL423B3C',\n",
              " 'A3G5MOHY1U635N',\n",
              " 'A3NXJDNTQK2YJL',\n",
              " 'AI2AOCTC8BQVZ',\n",
              " 'A3NVZTGPORNPRW',\n",
              " 'A3L1VJMHFWONCB',\n",
              " 'A2CWUM49ZWMGEY',\n",
              " 'A2BLFCOPSMBOZ9',\n",
              " 'A233TZONT1OGR0',\n",
              " 'A15TABNGK6L4N3',\n",
              " 'A2PJH18W4XHTZW',\n",
              " 'A370XYLIZCSK1Y',\n",
              " 'AZMY6E8B52L2T',\n",
              " 'A1MFVAHTT2BHM0',\n",
              " 'A1BJOHHLG0D965',\n",
              " 'A38Z6QG6988WS7',\n",
              " 'AAK6SOEJY30YG',\n",
              " 'A1QQA7Y92L4F9R',\n",
              " 'A3NKRH3TJ4DPVI',\n",
              " 'A39137LW12KK7B',\n",
              " 'A3D2VIUT2HWP0Z',\n",
              " 'AI8EMB0HUC6Z5',\n",
              " 'A335QXPTV1RIV1',\n",
              " 'A3EXWV8FNSSFL6',\n",
              " 'A2NX6PABLIJLP1',\n",
              " 'A3BI8BKIHESDNQ',\n",
              " 'A1MRPX3RM48T2I',\n",
              " 'A3FFZQKCA7UOYY',\n",
              " 'AOQLV2LSI9B2W',\n",
              " 'A2UTZ4O5E2W4DK',\n",
              " 'AGYH5U11ZKPFB',\n",
              " 'AWPODHOB4GFWL',\n",
              " 'AKBVYIIHWI04B',\n",
              " 'A1G5MI2KREPEIB',\n",
              " 'ABMF4UC4Z00NT',\n",
              " 'A3V15SFD7918WZ',\n",
              " 'A213J54E63SYOP',\n",
              " 'A2JP9E1H0SF392',\n",
              " 'AEL6CQNQXONBX',\n",
              " 'AS7J4952JB5XR',\n",
              " 'A1CPRP3VFJRS1R',\n",
              " 'AFM7FK7NFEKFZ',\n",
              " 'A1LAGS8H4A2DR7',\n",
              " 'A1DO9LRCO23EOM',\n",
              " 'AULFLNWJP1QXY',\n",
              " 'AQM0K7MBBT4AY',\n",
              " 'A1AWL9JASMG904',\n",
              " 'A30JPZ9TZ7I61U',\n",
              " 'A2JRDFIGWTX50J',\n",
              " 'AHROSV6WJOEGY',\n",
              " 'A2AC6GQ24S45GA',\n",
              " 'A16QODENBJVUI1',\n",
              " 'A3Q6ZPW60CVF2L',\n",
              " 'A377LPVLLAI42D',\n",
              " 'A3SL0HA6422W4M',\n",
              " 'ANW6EGY12V5XS',\n",
              " 'A2HXE29CU1I24Y',\n",
              " 'A2NJQF2UI60VGT',\n",
              " 'A2GKMXRLI7KLFP',\n",
              " 'AG35JCCQWDRCS',\n",
              " 'A1Y4EWMUTW73GD',\n",
              " 'A11EXFO14WEJM1',\n",
              " 'AH5BCMZELZSKG',\n",
              " 'A37IRE9GZ0CZ7I',\n",
              " 'A35A2RWUMC737N',\n",
              " 'ANYC38I00IRVK',\n",
              " 'AB094YABX21WQ',\n",
              " 'A2PL06HW6KZH2',\n",
              " 'AMFXXAOVV4CPJ',\n",
              " 'A3KCETSIJNOK56',\n",
              " 'A1QLQCJVGCQPP0',\n",
              " 'AL42PIIG5DXYD',\n",
              " 'A14Z6D3IRJ23F7',\n",
              " 'AFXTKAO0CB354',\n",
              " 'AWSK1ZAEU1KFL',\n",
              " 'A3JNBO7H2SPL44',\n",
              " 'A8CKH8XB33XGN',\n",
              " 'A37CEYB95LK6R6',\n",
              " 'A3V5F050GVZ56Q',\n",
              " 'A2RGA7UGAN3UL7',\n",
              " 'A1OO9N1MRNQ7K0',\n",
              " 'A2J7FHZFKOKGZ6',\n",
              " 'A3QRR8PSCBI07C',\n",
              " 'AK9BXHEXOOM6Z',\n",
              " 'A2ZDY0V4Q1SZD7',\n",
              " 'A1EOTB1WHLSW6G',\n",
              " 'A185O1MX1RP964',\n",
              " 'A23ZXHFLC6TBLD',\n",
              " 'A1VR1HIOVQWN09',\n",
              " 'A1B0NL8UWAELI7',\n",
              " 'A24P4E3RJ6AX94',\n",
              " 'A1WJ3P43SZUNDM',\n",
              " 'A2KYRPDKVBI2R4',\n",
              " 'A2L42QEWR77PKZ',\n",
              " 'A3SRDVCD2ATIIS',\n",
              " 'A3CG93783LP0FO',\n",
              " 'A3NYBI5VMVEEIK',\n",
              " 'A87N6UTYA6NOB',\n",
              " 'A3U6J0DLLDEWM2',\n",
              " 'A2QDOJFFLFGF18',\n",
              " 'A2BX8DDQGCCG2J',\n",
              " 'AG7EF0SVBQOUX',\n",
              " 'ACJT8MUC0LRF0',\n",
              " 'A13WOT3RSXKRD5',\n",
              " 'A1NGFGBX2VCQS8',\n",
              " 'A3KNGMX2RVQG91',\n",
              " 'AZBXKUH4AIW3X',\n",
              " 'A3IRA0BHI9NE9U',\n",
              " 'A22NKFOH9RATRC',\n",
              " 'AFM2J3HJNPIHV',\n",
              " 'A2YYHSORXIHZCS',\n",
              " 'A38CHSS1ZAE51B',\n",
              " 'AYB4ELCS5AM8P',\n",
              " 'A23WPWLYT3P1CZ',\n",
              " 'A3O1FVLUD9X1XC',\n",
              " 'A19EKT8H85AKO5',\n",
              " 'A7EJERNB7IK3Z',\n",
              " 'A3NEAETOSXDBOM',\n",
              " 'A2ER8G4JJJ7XER',\n",
              " 'A1MCH5RXDOH87H',\n",
              " 'A1AH8033GWKBY7',\n",
              " 'AKSFZ4G1AXYFC',\n",
              " 'ACY9QYNDFLVBI',\n",
              " 'A35SNSDRNE9P8Q',\n",
              " 'A2LLSFQO8O8XNW',\n",
              " 'A2CPP7BZKOF9TP',\n",
              " 'A3A4ZAIBQWKOZS',\n",
              " 'A2L36AGL8CKY3D',\n",
              " 'A24J2Y1O22JYZX',\n",
              " 'A2XXBZPQT5EXHV',\n",
              " 'A2UOHALGF2X77Q',\n",
              " 'A3F3B6HY9RJI04',\n",
              " 'AT09WGFUM934H',\n",
              " 'ABUE0ALHKWKHC',\n",
              " 'A2NSXY5L42ZUGO',\n",
              " 'AQR4HPVSOPS08',\n",
              " 'A3LSEIG2PIJYBL',\n",
              " 'AUK79PXTAOJP9',\n",
              " 'A16WP8NTPYB0ZM',\n",
              " 'A2MIP3AQVSF2SS',\n",
              " 'A3MU9G6YWKTGTA',\n",
              " 'APOGXH3A74CM3',\n",
              " 'AY4EXFOO43C3S',\n",
              " 'A2MR696ZU17F12',\n",
              " 'A2NQMVTQ4PVLL',\n",
              " 'A680RUE1FDO8B',\n",
              " 'A2PICNZWHEINQC',\n",
              " 'A1ZXMMQPYC3Z9I',\n",
              " 'AEWYUPCNDV7HY',\n",
              " 'A3M82NO6OU1FHS',\n",
              " 'A1UEL5C1N6E5SE',\n",
              " 'A23ONMGKEWDG4M',\n",
              " 'A30X750M8V1XXW',\n",
              " 'A32HSNCNPRUMTR',\n",
              " 'A3CP3J7OEGQMD5',\n",
              " 'A1OES7R7FDAT2L',\n",
              " 'A2Y1WNETD9AYHO',\n",
              " 'AD0J5KK4WQXNS',\n",
              " 'A3R4794K2RVU1S',\n",
              " 'A1KXJCXS6HFRQZ',\n",
              " 'A2WDCAMKCCP1UR',\n",
              " 'ABE5E8B3J7MKY',\n",
              " 'A1ZU55TM45Y2R8',\n",
              " 'AR74YY08IP2WE',\n",
              " 'A8WEXFRWX1ZHH',\n",
              " 'A1Y051MQ2SVPFI',\n",
              " 'A2X06FP2PQ6EK0',\n",
              " 'A1CST2WUA32GP0',\n",
              " 'A2LF07KCXDR70D',\n",
              " 'A1Z4GII5CHCDG7',\n",
              " 'A2XAKGRUHIE2ZA',\n",
              " 'AFHYEO3Y1IIDD',\n",
              " 'A124WZCUIH2T7W',\n",
              " 'A28I5UM0FT3I6T',\n",
              " 'A3HXGSMCIOZEW8',\n",
              " 'A28LUOEY0ECT9G',\n",
              " 'A2A4X545ERLS7H',\n",
              " 'AHS6PX6H22WW1',\n",
              " 'AQIJ3ZEEVCIKU',\n",
              " 'A1MZL91Z44RN06',\n",
              " 'A1ROUMJOGO4QMB',\n",
              " 'AYP0YPLSP9ISM',\n",
              " 'A37D1ZP8GBHE38',\n",
              " 'A20DZX38KRBIT8',\n",
              " 'A1ZCSSCAGBCD49',\n",
              " 'A3LGT6UZL99IW1',\n",
              " 'A3AYSYSLHU26U9',\n",
              " 'A2LW5AL0KQ9P1M',\n",
              " 'A35IX2GE0VC0JP',\n",
              " 'A17BUUBOU0598B',\n",
              " 'A3W4D8XOGLWUN5',\n",
              " 'A240FRPD4MEXND',\n",
              " 'A1VS1LL905P5L5',\n",
              " 'A3V6Z4RCDGRC44',\n",
              " 'A19RGDJPNZ7NZ',\n",
              " 'A2VAD79S4A06DD',\n",
              " 'A2IFKH3TJ10387',\n",
              " 'A1LYMYNURB9EWW',\n",
              " 'A2KOV8XWZOZ0FQ',\n",
              " 'AAA0TUKS5VBSA',\n",
              " 'A1I96OYAUJ3HQE',\n",
              " 'A1L64KDYO5BOJA',\n",
              " 'A2D0CO1OA6DSWY',\n",
              " 'A2Z2MUP8JRJXEU',\n",
              " 'A21S26XYPGXJZX',\n",
              " 'A2PSD2R9A1CXG7',\n",
              " 'ACHTDPEQYSEQL',\n",
              " 'AQ2FC1DLKVD8H',\n",
              " 'A24ARANWS5E3T8',\n",
              " 'AYCAIHABPYWVJ',\n",
              " 'A2RTVGR9B1M600',\n",
              " 'A6KL17KKN0A5L',\n",
              " 'A3BACUOZV1M0WM',\n",
              " 'A1NJHKPHD4YWZV',\n",
              " 'A1DB5QPH7WO488',\n",
              " 'A1987V5OCO6QHS',\n",
              " 'A362FM6FYA1SYS',\n",
              " 'ALNE7Q71JFC0F',\n",
              " 'AV9PIER7NE448',\n",
              " 'A7KBAXO177NND',\n",
              " 'A1L5TA5UQF7EWE',\n",
              " 'A6XLG77BC9R8R',\n",
              " 'A2J8DE8R94ZB02',\n",
              " 'A3CMO216CWOF5N',\n",
              " 'A3GVXKCTFN3YDN',\n",
              " 'A1TQBAHI3M4ZBQ',\n",
              " 'A28621TSIR5EOG',\n",
              " 'A9ELHLPXF7JKD',\n",
              " 'AETQIN7OH0RL9',\n",
              " 'A27M75LRSJ788H',\n",
              " 'A2BYV7S1QP2YIG',\n",
              " 'A2OKRGHIYTBQ6P',\n",
              " 'A2F2GLVFRNV7JJ',\n",
              " 'A2I357I10ZY7CI',\n",
              " 'A25FL6VLD7S23S',\n",
              " 'A33PVCHCQ2BTN0',\n",
              " 'A1PM7HH4F77NEH',\n",
              " 'AL1XV4L25FZ2S',\n",
              " 'A3V7D0LH8L7BG0',\n",
              " 'A2YHXGPCTENZY3',\n",
              " 'ABH9D1TEOJ56E',\n",
              " 'A3MQAQT8C6D1I7',\n",
              " 'A274MXTX3DYLUV',\n",
              " 'A38KK0SZYEH5UD',\n",
              " 'A206CGM6J75UJY',\n",
              " 'A2I5LVVQ7WXEH6',\n",
              " 'A13BX9O5UDBILC',\n",
              " 'AGILRZOT49R0V',\n",
              " 'A3QAO3QBCQF89T',\n",
              " 'A3F7USIDJBR8WU',\n",
              " 'A3HR0ZZOFKQ97N',\n",
              " 'A2TKWMX4563NR6',\n",
              " 'A1J87SYB3JPQWH',\n",
              " 'A2I2KPNJDQ9SL0',\n",
              " 'A37PV5GMP2ILJC',\n",
              " 'A1VEELTKS8NLZB',\n",
              " 'A2V1J3JT5OOZFO',\n",
              " 'A20DDH4NT6Q1E8',\n",
              " 'A2XQYE6TJYROHQ',\n",
              " 'A15J9K7O10A3M6',\n",
              " 'A3NG7X4APIV649',\n",
              " 'A3IMALU0RM8UT9',\n",
              " 'A2AY4YUOX2N1BQ',\n",
              " 'A2F92M62KN324B',\n",
              " 'A2FSOHSM9X13JT',\n",
              " 'AG2YXYIQ8TLTA',\n",
              " 'APGQTZZ4ZFPHO',\n",
              " 'AXU3VKZE848IY',\n",
              " 'A23R3EOZ837242',\n",
              " 'A1ATVMMJZP3Q4X',\n",
              " 'AOEDWQLH2WKKW',\n",
              " 'A3PPO2X5PJE1L9',\n",
              " 'A3V6QSTG2T9MIO',\n",
              " 'A257X1MQJO82P2',\n",
              " 'A2JE071UW97J2A',\n",
              " 'A3SOJO7Z7R9WIA',\n",
              " 'A1QJ10LEINDRWW',\n",
              " 'A3CIET1UO3G51E',\n",
              " 'A8FKL1DHTHC12',\n",
              " 'A31BD4RXCON7QO',\n",
              " 'A3JAH5WW61N2EK',\n",
              " 'A1Y85GQ09Y95JL',\n",
              " 'A1GQRGB8FGSLIZ',\n",
              " 'AMVXR3NPL0GWX',\n",
              " 'AFQBS241UKPAZ',\n",
              " 'A2L90SGUP36KGA',\n",
              " 'A2HBOG4LVIY15L',\n",
              " 'AOEAD7DPLZE53',\n",
              " 'ASFP250F22MDZ',\n",
              " 'A31RZMVAFMLB8B',\n",
              " 'AFICF7DKHTQ87',\n",
              " 'A2ZY49IDE6TY5I',\n",
              " 'A1BXVZSQOJE6UE',\n",
              " 'A11YOTONCPRQ9S',\n",
              " 'ATZJNEXX7LWD3',\n",
              " 'A24RCBRDXRXR0Y',\n",
              " 'A1E1LEVQ9VQNK',\n",
              " 'A15CL28ALB7MTZ',\n",
              " 'AT8V3JOZD3KWK',\n",
              " 'A21INUA35HX4XQ',\n",
              " 'AVTJEWTCJ3PBE',\n",
              " 'A2HXEJXEQQTM1D',\n",
              " 'A2L0F2T1DLTNT8',\n",
              " 'A1SC5OXLQNGPLN',\n",
              " 'A35C2IVVQR1HTK',\n",
              " 'A1NMM0RDRF6R84',\n",
              " 'A10ZFE6YE0UHW8',\n",
              " 'A32JCI4AK2JTTG',\n",
              " 'A3VL4RXCWNSR3H',\n",
              " 'A2HKUM9OEBQKDW',\n",
              " 'A27B1U3OWCU14J',\n",
              " 'A24QFMD1RXLJMB',\n",
              " 'A3TP31S61PPE3G',\n",
              " 'A25HBO5V8S8SEA',\n",
              " 'A3P69DTOXII004',\n",
              " 'A18YMFFJW974QS',\n",
              " 'A1X2LENOF84LCQ',\n",
              " 'A21Q9JVG4SII51',\n",
              " 'AHQRU3MRORIWQ',\n",
              " 'AVPNQUVZWMDSX',\n",
              " 'A32O5FZH994CNY',\n",
              " 'A2HPJKM7L4EOQB',\n",
              " 'AELK0E5DK7LIZ',\n",
              " 'A17RFKCYS69M3Y',\n",
              " 'A11YIHB6IW352W',\n",
              " 'A1RPJHUVVSI98A',\n",
              " 'A11IXJ8M1JO296',\n",
              " 'A291XTI6NO7DEG',\n",
              " 'A2DG63DN704LOI',\n",
              " 'A2BCDZO1XQLDH',\n",
              " 'ARIDN94LOCQFD',\n",
              " 'A1Z7SC7HH1BJKA',\n",
              " 'A2NB2E5DXE319Z',\n",
              " 'A386LG0LRWKJZP',\n",
              " 'A2V0I904FH7ABY',\n",
              " 'A28J3123I1QDKI',\n",
              " 'AM8W6Y3HVXLZT',\n",
              " 'A2VCXIAWCPQ13P',\n",
              " 'AM0QLU79O05JR',\n",
              " 'A1A306IAZ3TM1',\n",
              " 'A2PZXXPGLXXKZU',\n",
              " 'ADKZOXAOV8EXD',\n",
              " 'ALRCAGJOJ9583',\n",
              " 'APBB297H3ZA5E',\n",
              " 'A1DSRM2P0WGQNS',\n",
              " 'A2SH7OWE8QJYNC',\n",
              " 'A3BVN2QBNPBHCR',\n",
              " 'A1T9MILRRZ00F8',\n",
              " 'APBDZ88BBTN4F',\n",
              " 'AVBLGXSWRN666',\n",
              " 'A2L9OPJAAEK08Q',\n",
              " 'A1C5TCCR2IGKBU',\n",
              " 'A3B20R4ZAH0Y2Y',\n",
              " 'A12DLJESJKM1OQ',\n",
              " 'A2AX2UGB167J31',\n",
              " 'AJX9A4Q19UTJU',\n",
              " 'AGX2K0FMS0IVL',\n",
              " 'A2TVJ0YDW3QO63',\n",
              " 'A3284KYDZ00BZA',\n",
              " 'A16RI68PS6T5CA',\n",
              " 'A3JV071KO43Q5X',\n",
              " 'A3UW0PQLDUACMH',\n",
              " 'A1VTCSCH8FFC76',\n",
              " 'AG5WSXI52FPKH',\n",
              " 'A3RR2P5IS3DGPR',\n",
              " 'APMYPD97EHUUZ',\n",
              " 'A3U5HKDHPYBAK3',\n",
              " 'A14NA0W8ESGDSI',\n",
              " 'A1SB9BNNGKNX2Z',\n",
              " 'A10NMELR4KX0J6',\n",
              " 'A2NLI1M5K2MQ5E',\n",
              " 'A2G563AC1HME2R',\n",
              " 'A32NEDX6UVV8DE',\n",
              " 'A3K91X9X2ARDOK',\n",
              " 'A2PSC7LUNIDEAH',\n",
              " 'A1JBEKU5TYIWE7',\n",
              " 'A3SVYWA9O1KUQV',\n",
              " 'A1VFX417XDNWIU',\n",
              " 'A36A1ZYZH8568P',\n",
              " 'A18GJ9MYYO6GCQ',\n",
              " 'A2X78O6G89CB30',\n",
              " 'A3U41ZL33SS92P',\n",
              " 'A3T4OHEAHOJ700',\n",
              " 'AONUCJBC85BL',\n",
              " 'A132ETQPMHQ585',\n",
              " 'A18S2VGUH9SCV5',\n",
              " 'A2VIYTWXANL343',\n",
              " 'ABSYIF0ONC2AF',\n",
              " 'A28UMA3GW9L124',\n",
              " 'A1VUN4JU731CBH',\n",
              " 'AZ8XSDMIX04VJ',\n",
              " 'A3VBXQKRM7A4JR',\n",
              " 'A1WG97A0EFHYXN',\n",
              " 'A1ASWDAEDTTY5I',\n",
              " 'A3SMD3T0QTN109',\n",
              " 'AR6APXLK7TJU2',\n",
              " 'A1VLVWTLV3LVHR',\n",
              " 'A3IK2VCQ007CJ',\n",
              " 'AV8MDYLHHTUOY',\n",
              " 'A274X54O9CN2SR',\n",
              " 'A3VZH0PWLQ9BB1',\n",
              " 'ADPKRJ2BSFJ0I',\n",
              " 'A2XA8CW5DF4MNZ',\n",
              " 'ARX7Z3NI6O0F7',\n",
              " 'A3R1WFO4KIUQXZ',\n",
              " 'A361M14PU2GUEG',\n",
              " 'A18FLOC8YQY0P8',\n",
              " 'A35OIWPVTGW3UC',\n",
              " 'AO2EURP2Y4JZM',\n",
              " 'A3DGJMO6VPG6FJ',\n",
              " 'A1UL2JH7XOUGM5',\n",
              " 'A2HJY7418G1KV1',\n",
              " 'A3T8WOFS5RD2IR',\n",
              " 'A21I62TCDL4754',\n",
              " 'A2HNH4PKE5DPSI',\n",
              " 'A2F4HP0J5VNOYR',\n",
              " 'A2E1EFNIZL2FVA',\n",
              " 'A18OTCHQ6MXD6X',\n",
              " 'A2K5RRMPICZ606',\n",
              " 'A3S3VSXEFXBMRC',\n",
              " 'A204K1OFE8OB9Y',\n",
              " 'A2ZRG5NOFZ47RK',\n",
              " 'A1PVX61PRPVX27',\n",
              " 'A17O9AHKHK66AI',\n",
              " 'A3CJOB7CHOSZUG',\n",
              " 'A3U029B8Z5WGI2',\n",
              " 'ADZF3QDGSZE7K',\n",
              " 'A14MZJTZAQS6CV',\n",
              " 'A7EU2BWLLCJY2',\n",
              " 'A2294LS59GC5K7',\n",
              " 'A27Y4OEC9MD9PA',\n",
              " 'A1WF4QNIE2Z3I7',\n",
              " 'A1L0P1ZP5FD6EC',\n",
              " 'A3SU7JSTPH9CC9',\n",
              " 'A3FEGTOLCWXSV4',\n",
              " 'A3UQSOJW51UU9T',\n",
              " 'A2WYF4POBUXL2O',\n",
              " 'A3DWO5RJDA430F',\n",
              " 'A2THQCHKR89E16',\n",
              " 'ACH055GTTIGC9',\n",
              " 'A2RS66Y79Q8X0W',\n",
              " 'AXYM52DNK6NDF',\n",
              " 'A20OBCQWBKCGZT',\n",
              " 'A2DIQTZPF26T1L',\n",
              " 'A5QDZEOIMQ4LW',\n",
              " 'A1F7YU6O5RU432',\n",
              " 'A28525P0S5ZVJ3',\n",
              " 'A1O229NVVDJUX2',\n",
              " 'AEFTIUQHSVUFX',\n",
              " 'A6TBR6L2D4XKC',\n",
              " 'A359MYLPLEOF7N',\n",
              " 'ATDQ9CGCWTT8D',\n",
              " 'A2LFWJ8X817QGX',\n",
              " 'A1VGXHHR08G044',\n",
              " 'A11KQADBYE0UZL',\n",
              " 'A1PS4OYWUB0VX',\n",
              " 'A1F0KPA232MTYC',\n",
              " 'A4S2WAQVQR6PI',\n",
              " 'A1AKW788238PWQ',\n",
              " 'A2X61KKXXR6WNP',\n",
              " 'A28P7V9KI7MXP',\n",
              " 'A1CN1P7147QDJC',\n",
              " 'A33XMCG1UFDSY2',\n",
              " 'A2PB325LKXYDOL',\n",
              " 'A27H0T39U3FZB5',\n",
              " 'A2SNE4QQGVP13U',\n",
              " 'A1ZA5SXZS8Z3CK',\n",
              " 'A1VYFEJM12ZP11',\n",
              " 'A1OA2ZW406NQXM',\n",
              " 'A4IEUHNRFZO0',\n",
              " 'AJEOFP6ZWY0MK',\n",
              " 'ANFJYYQ0P35CW',\n",
              " 'A2ULZRSHXS3HL7',\n",
              " 'A11FX8HL2ANK6T',\n",
              " 'AWNBZSEZ9P8BE',\n",
              " 'A5CDMTW6JKV5G',\n",
              " 'AMWL7XIWIPXEZ',\n",
              " 'A19HKRB4LU5YR',\n",
              " 'A2XRIU3SOYZ0ZC',\n",
              " 'ABXANRX4GPYRZ',\n",
              " 'A1N5FSCYN4796F',\n",
              " 'AKX9EQ37PAYMY',\n",
              " 'A27T4RQ3XA661C',\n",
              " 'A2W9I628I6SE1U',\n",
              " 'A3H6NNGCINPLEC',\n",
              " 'A2OBDNQ5ZYU1L8',\n",
              " 'A1ZPUEHF4AES86',\n",
              " ...]"
            ]
          },
          "metadata": {},
          "execution_count": 124
        }
      ]
    },
    {
      "cell_type": "code",
      "source": [
        "if 'A34BZM6S9L7QI4' in users_not_seen:\n",
        "  print('A34BZM6S9L7QI4 has not seen the product.')\n",
        "\n",
        "else:\n",
        "  print('A34BZM6S9L7QI4 has seen the product')"
      ],
      "metadata": {
        "colab": {
          "base_uri": "https://localhost:8080/"
        },
        "id": "a8u3w628SWv5",
        "outputId": "2f165389-d240-4670-aaf4-f139798a2030"
      },
      "execution_count": null,
      "outputs": [
        {
          "output_type": "stream",
          "name": "stdout",
          "text": [
            "A34BZM6S9L7QI4 has not seen the product.\n"
          ]
        }
      ]
    },
    {
      "cell_type": "markdown",
      "metadata": {
        "id": "KT42ecaSTsno"
      },
      "source": [
        "* It can be observed from the above list that **user \"A34BZM6S9L7QI4\" has not seen the product with productId \"1400501466\"** as this userId is a part of the above list."
      ]
    },
    {
      "cell_type": "markdown",
      "source": [
        "**Observations:**\n",
        "\n",
        "We can confirm that user A34BZM6S9L7QI4 has not seen product 1400501466."
      ],
      "metadata": {
        "id": "XaDvLbA5THZM"
      }
    },
    {
      "cell_type": "markdown",
      "metadata": {
        "id": "EXSgq8OEnVNE"
      },
      "source": [
        "**Below we are predicting rating for `userId=A34BZM6S9L7QI4` and `prod_id=1400501466`.**"
      ]
    },
    {
      "cell_type": "code",
      "execution_count": null,
      "metadata": {
        "id": "PbFcBj1PpfEV",
        "colab": {
          "base_uri": "https://localhost:8080/"
        },
        "outputId": "ba8f1a8c-67d6-46e1-d96b-cef0d4cd6e06"
      },
      "outputs": [
        {
          "output_type": "stream",
          "name": "stdout",
          "text": [
            "user: A34BZM6S9L7QI4 item: 1400501466 r_ui = None   est = 4.29   {'was_impossible': True, 'reason': 'Not enough neighbors.'}\n"
          ]
        },
        {
          "output_type": "execute_result",
          "data": {
            "text/plain": [
              "Prediction(uid='A34BZM6S9L7QI4', iid='1400501466', r_ui=None, est=4.291366722826364, details={'was_impossible': True, 'reason': 'Not enough neighbors.'})"
            ]
          },
          "metadata": {},
          "execution_count": 125
        }
      ],
      "source": [
        "# Predicting rating for a sample user with a non interacted product\n",
        "algo_knn_user.predict('A34BZM6S9L7QI4', '1400501466', verbose=True)"
      ]
    },
    {
      "cell_type": "code",
      "source": [
        "# grouping df by product type\n",
        "final_rating.loc['1400501466']"
      ],
      "metadata": {
        "colab": {
          "base_uri": "https://localhost:8080/"
        },
        "id": "Ppbz1Ce5W5Jw",
        "outputId": "3c5fb8a7-89f5-427b-8fa1-6688db4b5367"
      },
      "execution_count": null,
      "outputs": [
        {
          "output_type": "execute_result",
          "data": {
            "text/plain": [
              "avg_rating      3.333333\n",
              "rating_count    6.000000\n",
              "Name: 1400501466, dtype: float64"
            ]
          },
          "metadata": {},
          "execution_count": 126
        }
      ]
    },
    {
      "cell_type": "code",
      "source": [
        "algo_knn_user.predict('A1ZPUEHF4AES86', 'B00B9KOCYA')"
      ],
      "metadata": {
        "colab": {
          "base_uri": "https://localhost:8080/"
        },
        "id": "ApQycf0KdmYb",
        "outputId": "044245dc-f2dc-4199-c3ba-d2e56766bb8d"
      },
      "execution_count": null,
      "outputs": [
        {
          "output_type": "execute_result",
          "data": {
            "text/plain": [
              "Prediction(uid='A1ZPUEHF4AES86', iid='B00B9KOCYA', r_ui=None, est=4.291366722826364, details={'was_impossible': True, 'reason': 'Not enough neighbors.'})"
            ]
          },
          "metadata": {},
          "execution_count": 127
        }
      ]
    },
    {
      "cell_type": "markdown",
      "metadata": {
        "id": "02rwld8yemRI"
      },
      "source": [
        "**Observations:**\n",
        "\n",
        "The algorithm has predicted a rating of 4.29 for this user-product combination. Interestingly, the mean rating across the dataset is also 4.29, and the average rating for teh product is 3.33. Once again, the model has cited that there are not enough neighbors to create a prediction from."
      ]
    },
    {
      "cell_type": "markdown",
      "metadata": {
        "id": "ejjof6csnVNF"
      },
      "source": [
        "### **Improving similarity-based recommendation system by tuning its hyperparameters**"
      ]
    },
    {
      "cell_type": "markdown",
      "metadata": {
        "id": "p2j4VvfQnVNF"
      },
      "source": [
        "Below, we will be tuning hyperparameters for the `KNNBasic` algorithm. Let's try to understand some of the hyperparameters of the KNNBasic algorithm:\n",
        "\n",
        "- **k** (int) – The (max) number of neighbors to take into account for aggregation. Default is 40.\n",
        "- **min_k** (int) – The minimum number of neighbors to take into account for aggregation. If there are not enough neighbors, the prediction is set to the global mean of all ratings. Default is 1.\n",
        "- **sim_options** (dict) – A dictionary of options for the similarity measure. And there are four similarity measures available in surprise -\n",
        "    - cosine\n",
        "    - msd (default)\n",
        "    - Pearson\n",
        "    - Pearson baseline"
      ]
    },
    {
      "cell_type": "code",
      "execution_count": null,
      "metadata": {
        "id": "9LmPbSUSTsnp",
        "colab": {
          "base_uri": "https://localhost:8080/"
        },
        "outputId": "3cc5cc2d-5548-406f-8c4f-2d52d58e9865"
      },
      "outputs": [
        {
          "output_type": "stream",
          "name": "stdout",
          "text": [
            "0.9724483619107076\n",
            "{'k': 30, 'min_k': 3, 'sim_options': {'name': 'cosine', 'user_based': True}}\n"
          ]
        }
      ],
      "source": [
        "# Setting up parameter grid to tune the hyperparameters\n",
        "param_grid  ={'k': [10, 20, 30], 'min_k': [3, 9, 15],\n",
        "              'sim_options': {'name': ['msd', 'cosine'],\n",
        "                              'user_based': [True]}\n",
        "              }\n",
        "# Performing 3-fold cross-validation to tune the hyperparameters\n",
        "gs = GridSearchCV(KNNBasic, param_grid, measures=['rmse', 'mae'], cv=3, n_jobs=-1)\n",
        "\n",
        "# Fitting the data\n",
        "gs.fit(data)\n",
        "\n",
        "# Best RMSE score\n",
        "print(gs.best_score['rmse'])\n",
        "\n",
        "# Combination of parameters that gave the best RMSE score\n",
        "print(gs.best_params['rmse'])"
      ]
    },
    {
      "cell_type": "markdown",
      "metadata": {
        "id": "L2fHNvu7nVNF"
      },
      "source": [
        "Once the grid search is **complete**, we can get the **optimal values for each of those hyperparameters**."
      ]
    },
    {
      "cell_type": "markdown",
      "metadata": {
        "id": "NHWgxu_YnVNG"
      },
      "source": [
        "Now, let's build the **final model by using tuned values of the hyperparameters**, which we received by using **grid search cross-validation**."
      ]
    },
    {
      "cell_type": "code",
      "execution_count": null,
      "metadata": {
        "id": "PujRJA8X_JEJ",
        "colab": {
          "base_uri": "https://localhost:8080/"
        },
        "outputId": "906a6a5b-a213-49c8-c477-b0b3a1f6f13c"
      },
      "outputs": [
        {
          "output_type": "stream",
          "name": "stdout",
          "text": [
            "Computing the cosine similarity matrix...\n",
            "Done computing similarity matrix.\n",
            "RMSE: 0.9896\n",
            "Precision:  0.842\n",
            "Recall:  0.475\n",
            "F_1 score:  0.607\n"
          ]
        }
      ],
      "source": [
        "# Using the optimal similarity measure for user-user based collaborative filtering\n",
        "sim_options = {'name': 'cosine', 'user_based': True}\n",
        "\n",
        "# Creating an instance of KNNBasic with optimal hyperparameter values\n",
        "sim_algo_optimized_user = KNNBasic(sim_options = sim_options, k = 30, min_k = 3, Verbose=False)\n",
        "\n",
        "# Training the algorithm on the trainset\n",
        "sim_algo_optimized_user.fit(trainset)\n",
        "\n",
        "# Let us compute precision@k and recall@k also with k =10\n",
        "precision_recall_at_k(sim_algo_optimized_user, k = 10)"
      ]
    },
    {
      "cell_type": "markdown",
      "metadata": {
        "id": "yHsWvFjKTsnp"
      },
      "source": [
        "**Observations:**\n",
        "\n",
        "With these hyper-tuned parameters, we haev seen an improvement in the algorithm's RMSE score, dropping from 1.055 down to .989. Overall though, the precision/recall and therefore f-1 score have decreased, from 61.5% to 60.7%. This means unfortunately that the end user will not see any improved performance of the recommendations they are receiving."
      ]
    },
    {
      "cell_type": "markdown",
      "metadata": {
        "id": "YhcAXK0CnVNG"
      },
      "source": [
        "### **Steps:**\n",
        "- **Predict rating for the user with `userId=\"A3LDPF5FMB782Z\"`, and `prod_id= \"1400501466\"` using the optimized model**\n",
        "- **Predict rating for `userId=\"A34BZM6S9L7QI4\"` who has not interacted with `prod_id =\"1400501466\"`, by using the optimized model**\n",
        "- **Compare the output with the output from the baseline model**"
      ]
    },
    {
      "cell_type": "code",
      "execution_count": null,
      "metadata": {
        "id": "FgV63lHiq1TV",
        "colab": {
          "base_uri": "https://localhost:8080/"
        },
        "outputId": "5337cd89-12a8-4cd4-d0d6-7807a7540153"
      },
      "outputs": [
        {
          "output_type": "execute_result",
          "data": {
            "text/plain": [
              "Prediction(uid='A3LDPF5FMB782Z', iid='1400501466', r_ui=None, est=4.291366722826364, details={'was_impossible': True, 'reason': 'Not enough neighbors.'})"
            ]
          },
          "metadata": {},
          "execution_count": 108
        }
      ],
      "source": [
        "# Use sim_user_user_optimized model to recommend for userId \"A3LDPF5FMB782Z\" and productId 1400501466\n",
        "sim_algo_optimized_user.predict('A3LDPF5FMB782Z', '1400501466')"
      ]
    },
    {
      "cell_type": "code",
      "execution_count": null,
      "metadata": {
        "id": "HXO2Ztjhq1bN",
        "colab": {
          "base_uri": "https://localhost:8080/"
        },
        "outputId": "55bc8823-c105-4fc8-a696-d7bb45d806a8"
      },
      "outputs": [
        {
          "output_type": "execute_result",
          "data": {
            "text/plain": [
              "Prediction(uid='A3LDPF5FMB782Z', iid='1400501466', r_ui=None, est=4.291366722826364, details={'was_impossible': True, 'reason': 'Not enough neighbors.'})"
            ]
          },
          "metadata": {},
          "execution_count": 109
        }
      ],
      "source": [
        "# Use sim_user_user_optimized model to recommend for userId \"A34BZM6S9L7QI4\" and productId \"1400501466\"\n",
        "sim_algo_optimized_user.predict('A3LDPF5FMB782Z', '1400501466')"
      ]
    },
    {
      "cell_type": "markdown",
      "metadata": {
        "id": "s5i-OPprNF2e"
      },
      "source": [
        "**Observations:**\n",
        "\n",
        "Unfortunately, the model still is unable to make a prediction for these two data points with not enough neighbors - it has returned the global mean of 4.29."
      ]
    },
    {
      "cell_type": "markdown",
      "metadata": {
        "id": "op_zwO_FnVNH"
      },
      "source": [
        "### **Identifying similar users to a given user (nearest neighbors)**"
      ]
    },
    {
      "cell_type": "markdown",
      "metadata": {
        "id": "o2QsfqhanVNH"
      },
      "source": [
        "We can also find out **similar users to a given user** or its **nearest neighbors** based on this KNNBasic algorithm. Below, we are finding the 5 most similar users to the first user in the list with internal id 0, based on the `msd` distance metric."
      ]
    },
    {
      "cell_type": "code",
      "execution_count": null,
      "metadata": {
        "id": "TbFle7cKmBJG",
        "colab": {
          "base_uri": "https://localhost:8080/"
        },
        "outputId": "912b4a61-e794-4e41-e670-17ee44622ee9"
      },
      "outputs": [
        {
          "output_type": "execute_result",
          "data": {
            "text/plain": [
              "[7, 12, 14, 23, 47]"
            ]
          },
          "metadata": {},
          "execution_count": 110
        }
      ],
      "source": [
        "# 0 is the inner id of the above user\n",
        "sim_algo_optimized_user.get_neighbors(0, k=5)\n"
      ]
    },
    {
      "cell_type": "markdown",
      "metadata": {
        "id": "Z0NsrX_anVNH"
      },
      "source": [
        "### **Implementing the recommendation algorithm based on optimized KNNBasic model**"
      ]
    },
    {
      "cell_type": "markdown",
      "metadata": {
        "id": "U3ESobDynVNI"
      },
      "source": [
        "Below we will be implementing a function where the input parameters are:\n",
        "\n",
        "- data: A **rating** dataset\n",
        "- user_id: A user id **against which we want the recommendations**\n",
        "- top_n: The **number of products we want to recommend**\n",
        "- algo: the algorithm we want to use **for predicting the ratings**\n",
        "- The output of the function is a **set of top_n items** recommended for the given user_id based on the given algorithm"
      ]
    },
    {
      "cell_type": "code",
      "execution_count": null,
      "metadata": {
        "id": "vW9V1Tk65HlY"
      },
      "outputs": [],
      "source": [
        "def get_recommendations(data, user_id, top_n, algo):\n",
        "\n",
        "    # Creating an empty list to store the recommended product ids\n",
        "    recommendations = []\n",
        "\n",
        "    # Creating an user item interactions matrix\n",
        "    user_item_interactions_matrix = data.pivot(index = 'user_id', columns = 'prod_id', values = 'rating')\n",
        "\n",
        "    # Extracting those product ids which the user_id has not interacted yet\n",
        "    non_interacted_products = user_item_interactions_matrix.loc[user_id][user_item_interactions_matrix.loc[user_id].isnull()].index.tolist()\n",
        "\n",
        "    # Looping through each of the product ids which user_id has not interacted yet\n",
        "    for item_id in non_interacted_products:\n",
        "\n",
        "        # Predicting the ratings for those non interacted product ids by this user\n",
        "        est = algo.predict(user_id, item_id).est\n",
        "\n",
        "        # Appending the predicted ratings\n",
        "        recommendations.append((item_id, est))\n",
        "\n",
        "    # Sorting the predicted ratings in descending order\n",
        "    recommendations.sort(key = lambda x: x[1], reverse = True)\n",
        "\n",
        "    return recommendations[:top_n] # Returing top n highest predicted rating products for this user"
      ]
    },
    {
      "cell_type": "markdown",
      "metadata": {
        "id": "Oj_S7kh4nVNI"
      },
      "source": [
        "**Predicting top 5 products for userId = \"A3LDPF5FMB782Z\" with similarity based recommendation system**"
      ]
    },
    {
      "cell_type": "code",
      "execution_count": null,
      "metadata": {
        "id": "qWbR85mI5Hrk"
      },
      "outputs": [],
      "source": [
        "# Making top 5 recommendations for user_id \"A3LDPF5FMB782Z\" with a similarity-based recommendation engine\n",
        "A3LDPF5FMB782Z_recommendations = get_recommendations(data = df_final, user_id = 'A3LDPF5FMB782Z', top_n = 5, algo = sim_algo_optimized_user)"
      ]
    },
    {
      "cell_type": "code",
      "execution_count": null,
      "metadata": {
        "id": "b5WfIX0Z6_q2"
      },
      "outputs": [],
      "source": [
        "# Building the dataframe for above recommendations with columns \"prod_id\" and \"predicted_ratings\"\n",
        "A3LDPF5FMB782Z_recommendations_df = pd.DataFrame(A3LDPF5FMB782Z_recommendations, columns =['prod_id', 'pred_rating'])"
      ]
    },
    {
      "cell_type": "markdown",
      "metadata": {
        "id": "QgbzJKk7Tsnr"
      },
      "source": [
        "### **Item-Item Similarity-based Collaborative Filtering Recommendation System**"
      ]
    },
    {
      "cell_type": "markdown",
      "metadata": {
        "id": "qTJu_2hcTsnr"
      },
      "source": [
        "* Above we have seen **similarity-based collaborative filtering** where similarity is calculated **between users**. Now let us look into similarity-based collaborative filtering where similarity is seen **between items**."
      ]
    },
    {
      "cell_type": "code",
      "execution_count": null,
      "metadata": {
        "id": "W5RMcdzjTsns",
        "scrolled": false,
        "colab": {
          "base_uri": "https://localhost:8080/"
        },
        "outputId": "8d355740-f8f5-4376-8199-0afe63a1a3f2"
      },
      "outputs": [
        {
          "output_type": "stream",
          "name": "stdout",
          "text": [
            "RMSE: 1.0697\n",
            "Precision:  0.833\n",
            "Recall:  0.472\n",
            "F_1 score:  0.603\n"
          ]
        }
      ],
      "source": [
        "# Declaring the similarity options\n",
        "sim_options = {'name': 'cosine',\n",
        "               'user_based': False}\n",
        "\n",
        "# Initialize the KNNBasic model using sim_options declared, Verbose = False, and setting random_state = 1\n",
        "algo_knn_item = KNNBasic(sim_options = sim_options, verbose=False, random_state=1)\n",
        "\n",
        "# Fit the model on the training data\n",
        "algo_knn_item.fit(trainset)\n",
        "\n",
        "# predict ratings for the testset\n",
        "predictions = algo_knn_item.test(testset)\n",
        "\n",
        "# Let us compute precision@k, recall@k, and f_1 score using the precision_recall_at_k function defined above\n",
        "precision_recall_at_k(algo_knn_item)"
      ]
    },
    {
      "cell_type": "code",
      "source": [
        "predictions"
      ],
      "metadata": {
        "colab": {
          "base_uri": "https://localhost:8080/"
        },
        "id": "2HzFoR7By4_b",
        "outputId": "06b97b8f-6cb6-4028-ed36-2b522229bcda"
      },
      "execution_count": null,
      "outputs": [
        {
          "output_type": "execute_result",
          "data": {
            "text/plain": [
              "[Prediction(uid='A2DXENZNO2JT4F', iid='B005JZP3CQ', r_ui=4.0, est=4.291366722826364, details={'was_impossible': True, 'reason': 'Not enough neighbors.'}),\n",
              " Prediction(uid='AGOH8N902URMW', iid='B0019UGCLG', r_ui=2.0, est=4.0, details={'actual_k': 1, 'was_impossible': False}),\n",
              " Prediction(uid='A9Y5O2R4D6EH5', iid='B001TH7GSW', r_ui=4.0, est=4.0, details={'actual_k': 2, 'was_impossible': False}),\n",
              " Prediction(uid='A35C2IVVQR1HTK', iid='B003ES61EE', r_ui=2.0, est=4.291366722826364, details={'was_impossible': True, 'reason': 'Not enough neighbors.'}),\n",
              " Prediction(uid='A38RMU1Y5TDP9', iid='B00HPZ4HZW', r_ui=4.0, est=5, details={'actual_k': 1, 'was_impossible': False}),\n",
              " Prediction(uid='A3HC7NWLKCPX4X', iid='B00CMQTVK0', r_ui=2.0, est=4.291366722826364, details={'was_impossible': True, 'reason': 'Not enough neighbors.'}),\n",
              " Prediction(uid='A1ODOGXEYECQQ8', iid='B00AKONZ3U', r_ui=5.0, est=4.111111111111111, details={'actual_k': 9, 'was_impossible': False}),\n",
              " Prediction(uid='A31ICLWQ9CSHRS', iid='B000MUXJCO', r_ui=3.0, est=4.291366722826364, details={'was_impossible': True, 'reason': 'Not enough neighbors.'}),\n",
              " Prediction(uid='A27M75LRSJ788H', iid='B004LTEUDO', r_ui=5.0, est=4.291366722826364, details={'was_impossible': True, 'reason': 'Not enough neighbors.'}),\n",
              " Prediction(uid='A1DTCJV6KOMJOA', iid='B001V9LPT4', r_ui=5.0, est=4.291366722826364, details={'was_impossible': True, 'reason': 'Not enough neighbors.'}),\n",
              " Prediction(uid='A25HBO5V8S8SEA', iid='B00009R6TA', r_ui=5.0, est=4.291366722826364, details={'was_impossible': True, 'reason': 'Not enough neighbors.'}),\n",
              " Prediction(uid='A2XHOLOLKGV1FE', iid='B0012YHQVE', r_ui=3.0, est=4.291366722826364, details={'was_impossible': True, 'reason': 'User and/or item is unknown.'}),\n",
              " Prediction(uid='A1WJ3P43SZUNDM', iid='B002DUEBIC', r_ui=1.0, est=4.291366722826364, details={'was_impossible': True, 'reason': 'Not enough neighbors.'}),\n",
              " Prediction(uid='A27B1U3OWCU14J', iid='B001B077PO', r_ui=4.0, est=4.291366722826364, details={'was_impossible': True, 'reason': 'Not enough neighbors.'}),\n",
              " Prediction(uid='A3F7F7QKQP2FKT', iid='B002YAOS7A', r_ui=3.0, est=4.291366722826364, details={'was_impossible': True, 'reason': 'User and/or item is unknown.'}),\n",
              " Prediction(uid='A2NSMJVQY0RV9S', iid='B001TQ2PSO', r_ui=5.0, est=4.291366722826364, details={'was_impossible': True, 'reason': 'Not enough neighbors.'}),\n",
              " Prediction(uid='A4UGMKUSX9XHI', iid='B00829THVO', r_ui=5.0, est=4.5, details={'actual_k': 4, 'was_impossible': False}),\n",
              " Prediction(uid='A2NOW4U7W3F7RI', iid='B001IF252M', r_ui=5.0, est=4.291366722826364, details={'was_impossible': True, 'reason': 'Not enough neighbors.'}),\n",
              " Prediction(uid='A34BZM6S9L7QI4', iid='B00CL8F98W', r_ui=5.0, est=4.666666666666667, details={'actual_k': 6, 'was_impossible': False}),\n",
              " Prediction(uid='AG8YP2XTC5X1I', iid='B009NHAEXE', r_ui=4.0, est=4.5, details={'actual_k': 2, 'was_impossible': False}),\n",
              " Prediction(uid='ACQYIC13JXAOI', iid='B00FPG37R2', r_ui=4.0, est=4.291366722826364, details={'was_impossible': True, 'reason': 'Not enough neighbors.'}),\n",
              " Prediction(uid='A2CIQEY05SPHTZ', iid='B000YQ6DIS', r_ui=5.0, est=4.0, details={'actual_k': 1, 'was_impossible': False}),\n",
              " Prediction(uid='AN81JUYW2SL24', iid='B0015HYPOO', r_ui=4.0, est=5, details={'actual_k': 1, 'was_impossible': False}),\n",
              " Prediction(uid='A3PPO2X5PJE1L9', iid='B000EM8GDW', r_ui=5.0, est=4.291366722826364, details={'was_impossible': True, 'reason': 'Not enough neighbors.'}),\n",
              " Prediction(uid='AWH2AY17ZU7W2', iid='B00007E7JU', r_ui=5.0, est=4.0, details={'actual_k': 2, 'was_impossible': False}),\n",
              " Prediction(uid='A87N6UTYA6NOB', iid='B000233WJ6', r_ui=5.0, est=4.291366722826364, details={'was_impossible': True, 'reason': 'Not enough neighbors.'}),\n",
              " Prediction(uid='A2JP9E1H0SF392', iid='B00009EHJV', r_ui=5.0, est=4.291366722826364, details={'was_impossible': True, 'reason': 'Not enough neighbors.'}),\n",
              " Prediction(uid='A2UQK3DAZ8NO2T', iid='B0002Y5WXO', r_ui=4.0, est=4.291366722826364, details={'was_impossible': True, 'reason': 'Not enough neighbors.'}),\n",
              " Prediction(uid='ASJLXOX1VD4DF', iid='B004IA6N5Y', r_ui=2.0, est=5, details={'actual_k': 1, 'was_impossible': False}),\n",
              " Prediction(uid='A3U41ZL33SS92P', iid='B00F0H88AC', r_ui=5.0, est=4.0, details={'actual_k': 1, 'was_impossible': False}),\n",
              " Prediction(uid='A1YVO5V1SO18DZ', iid='B00FJWKYYG', r_ui=5.0, est=4.291366722826364, details={'was_impossible': True, 'reason': 'Not enough neighbors.'}),\n",
              " Prediction(uid='A16J281SJ9QXIQ', iid='B003ES5ZUU', r_ui=5.0, est=5, details={'actual_k': 2, 'was_impossible': False}),\n",
              " Prediction(uid='A2D1LPEUCTNT8X', iid='B0018P7WZ2', r_ui=5.0, est=4.291366722826364, details={'was_impossible': True, 'reason': 'Not enough neighbors.'}),\n",
              " Prediction(uid='A2TN0U8173HM7A', iid='B000HPV3RW', r_ui=5.0, est=4.291366722826364, details={'was_impossible': True, 'reason': 'Not enough neighbors.'}),\n",
              " Prediction(uid='A3LWC833HQIG7J', iid='B00DXFDHV8', r_ui=4.0, est=4.291366722826364, details={'was_impossible': True, 'reason': 'Not enough neighbors.'}),\n",
              " Prediction(uid='A2QDOJFFLFGF18', iid='B008ULPAT2', r_ui=5.0, est=4.683505424332373, details={'actual_k': 3, 'was_impossible': False}),\n",
              " Prediction(uid='A2OBDNQ5ZYU1L8', iid='B005GFXH6S', r_ui=1.0, est=4.291366722826364, details={'was_impossible': True, 'reason': 'Not enough neighbors.'}),\n",
              " Prediction(uid='A1CMD08Z49PGKQ', iid='B006GWO5WK', r_ui=5.0, est=5, details={'actual_k': 2, 'was_impossible': False}),\n",
              " Prediction(uid='A1ITRGMT80D5TK', iid='B007BY0MIS', r_ui=2.0, est=2.5, details={'actual_k': 2, 'was_impossible': False}),\n",
              " Prediction(uid='AVPNQUVZWMDSX', iid='B005B3VO24', r_ui=5.0, est=4.291366722826364, details={'was_impossible': True, 'reason': 'Not enough neighbors.'}),\n",
              " Prediction(uid='ALDAF4VVLFRHP', iid='B00829TIEK', r_ui=5.0, est=3.6, details={'actual_k': 5, 'was_impossible': False}),\n",
              " Prediction(uid='A9ELHLPXF7JKD', iid='B002HWRJBC', r_ui=5.0, est=4.291366722826364, details={'was_impossible': True, 'reason': 'Not enough neighbors.'}),\n",
              " Prediction(uid='A3J3ZHGDUDPCFL', iid='B0016P5ASK', r_ui=4.0, est=5, details={'actual_k': 1, 'was_impossible': False}),\n",
              " Prediction(uid='A2KOV8XWZOZ0FQ', iid='B002LAS1DU', r_ui=2.0, est=5, details={'actual_k': 1, 'was_impossible': False}),\n",
              " Prediction(uid='A215WH6RUDUCMP', iid='B00BANM6HQ', r_ui=5.0, est=5, details={'actual_k': 1, 'was_impossible': False}),\n",
              " Prediction(uid='A11T807LX2EF00', iid='B004X8R7VA', r_ui=4.0, est=5, details={'actual_k': 1, 'was_impossible': False}),\n",
              " Prediction(uid='A26KXNN6H1IL0I', iid='B007ZW7YJQ', r_ui=3.0, est=4.291366722826364, details={'was_impossible': True, 'reason': 'Not enough neighbors.'}),\n",
              " Prediction(uid='A8FKL1DHTHC12', iid='B000EW8074', r_ui=5.0, est=4.291366722826364, details={'was_impossible': True, 'reason': 'Not enough neighbors.'}),\n",
              " Prediction(uid='A2XX2A4OJCDNLZ', iid='B00004W3ZQ', r_ui=4.0, est=4.291366722826364, details={'was_impossible': True, 'reason': 'Not enough neighbors.'}),\n",
              " Prediction(uid='A376OJHLE6SU9Q', iid='B0088CJT4U', r_ui=4.0, est=4.39052100068139, details={'actual_k': 15, 'was_impossible': False}),\n",
              " Prediction(uid='A1ZM846Y7AUYD', iid='B000NP3DJW', r_ui=5.0, est=4.291366722826364, details={'was_impossible': True, 'reason': 'Not enough neighbors.'}),\n",
              " Prediction(uid='A3963R7EPE3A7E', iid='B009WZRCO6', r_ui=5.0, est=4.75, details={'actual_k': 4, 'was_impossible': False}),\n",
              " Prediction(uid='AVU1ILDDYW301', iid='B0039NLS3I', r_ui=3.0, est=3.0, details={'actual_k': 1, 'was_impossible': False}),\n",
              " Prediction(uid='A2WA8TDCTGUADI', iid='B007W0XHK6', r_ui=4.0, est=4.291366722826364, details={'was_impossible': True, 'reason': 'Not enough neighbors.'}),\n",
              " Prediction(uid='A21Q9JVG4SII51', iid='B004YAYM06', r_ui=5.0, est=5, details={'actual_k': 1, 'was_impossible': False}),\n",
              " Prediction(uid='AAR7CEPXYJA0T', iid='B002ZCXJZE', r_ui=1.0, est=4.291366722826364, details={'was_impossible': True, 'reason': 'Not enough neighbors.'}),\n",
              " Prediction(uid='A14NA0W8ESGDSI', iid='B007FPIQ72', r_ui=4.0, est=4.291366722826364, details={'was_impossible': True, 'reason': 'Not enough neighbors.'}),\n",
              " Prediction(uid='AQM0K7MBBT4AY', iid='B009PK9S90', r_ui=5.0, est=5, details={'actual_k': 1, 'was_impossible': False}),\n",
              " Prediction(uid='AQ3IN3MRXQ5KH', iid='B0046W5EQI', r_ui=4.0, est=4.291366722826364, details={'was_impossible': True, 'reason': 'Not enough neighbors.'}),\n",
              " Prediction(uid='A368IPE6EW0GZL', iid='B005HGBEZ2', r_ui=4.0, est=4.291366722826364, details={'was_impossible': True, 'reason': 'Not enough neighbors.'}),\n",
              " Prediction(uid='A1G650TTTHEAL5', iid='B00CHH0JF0', r_ui=5.0, est=5, details={'actual_k': 1, 'was_impossible': False}),\n",
              " Prediction(uid='A3HR0ZZOFKQ97N', iid='B0050A1O5U', r_ui=5.0, est=4.291366722826364, details={'was_impossible': True, 'reason': 'Not enough neighbors.'}),\n",
              " Prediction(uid='A1DQHS7MOVYYYA', iid='B0058SRNZ4', r_ui=4.0, est=4.291366722826364, details={'was_impossible': True, 'reason': 'Not enough neighbors.'}),\n",
              " Prediction(uid='APG2BHOAXPNEQ', iid='B006YLYYZ6', r_ui=4.0, est=4.291366722826364, details={'was_impossible': True, 'reason': 'Not enough neighbors.'}),\n",
              " Prediction(uid='A1ILWPH1GHUXE2', iid='B002R5AM7C', r_ui=3.0, est=2.75, details={'actual_k': 4, 'was_impossible': False}),\n",
              " Prediction(uid='A2L4ZGN7GZJ95T', iid='B0088CJT4U', r_ui=5.0, est=3.9997937060802626, details={'actual_k': 11, 'was_impossible': False}),\n",
              " Prediction(uid='A1VTCSCH8FFC76', iid='B0041RSHWG', r_ui=5.0, est=3.0, details={'actual_k': 1, 'was_impossible': False}),\n",
              " Prediction(uid='A1SC5OXLQNGPLN', iid='B0029Z9UNC', r_ui=4.0, est=4.291366722826364, details={'was_impossible': True, 'reason': 'Not enough neighbors.'}),\n",
              " Prediction(uid='A2NYK9KWFMJV4Y', iid='B00007KDVI', r_ui=3.0, est=5, details={'actual_k': 3, 'was_impossible': False}),\n",
              " Prediction(uid='A185O1MX1RP964', iid='B001VEAI74', r_ui=5.0, est=4.291366722826364, details={'was_impossible': True, 'reason': 'Not enough neighbors.'}),\n",
              " Prediction(uid='A1L5TA5UQF7EWE', iid='B00A9NE84C', r_ui=5.0, est=4.291366722826364, details={'was_impossible': True, 'reason': 'Not enough neighbors.'}),\n",
              " Prediction(uid='AYP0YPLSP9ISM', iid='B0002L5R78', r_ui=4.0, est=4.291366722826364, details={'was_impossible': True, 'reason': 'Not enough neighbors.'}),\n",
              " Prediction(uid='A1MBXP3NZM2BUO', iid='B009A6CZ30', r_ui=4.0, est=4.291366722826364, details={'was_impossible': True, 'reason': 'Not enough neighbors.'}),\n",
              " Prediction(uid='A2VH0UT5EQFB6P', iid='B002HEWA28', r_ui=5.0, est=4.291366722826364, details={'was_impossible': True, 'reason': 'Not enough neighbors.'}),\n",
              " Prediction(uid='A3FFZQKCA7UOYY', iid='B004EBX5GW', r_ui=5.0, est=4.291366722826364, details={'was_impossible': True, 'reason': 'Not enough neighbors.'}),\n",
              " Prediction(uid='A2L9OPJAAEK08Q', iid='B009F7IBZK', r_ui=5.0, est=4.291366722826364, details={'was_impossible': True, 'reason': 'Not enough neighbors.'}),\n",
              " Prediction(uid='ACP9S40H3SHY1', iid='B0074WDDN8', r_ui=5.0, est=4.291366722826364, details={'was_impossible': True, 'reason': 'User and/or item is unknown.'}),\n",
              " Prediction(uid='A1JZFGZEZVWQPY', iid='B00DB9WCR6', r_ui=4.0, est=4.291366722826364, details={'was_impossible': True, 'reason': 'Not enough neighbors.'}),\n",
              " Prediction(uid='A33ZYFE8XMKKR1', iid='B002QEBMAK', r_ui=2.0, est=4.291366722826364, details={'was_impossible': True, 'reason': 'Not enough neighbors.'}),\n",
              " Prediction(uid='AS7J4952JB5XR', iid='B000UV4EUG', r_ui=4.0, est=4.291366722826364, details={'was_impossible': True, 'reason': 'User and/or item is unknown.'}),\n",
              " Prediction(uid='A2YEOR4XJ8N3QE', iid='B007PTCFFW', r_ui=4.0, est=3.077405771070567, details={'actual_k': 3, 'was_impossible': False}),\n",
              " Prediction(uid='AOEAD7DPLZE53', iid='B00368CDH6', r_ui=5.0, est=4.291366722826364, details={'was_impossible': True, 'reason': 'User and/or item is unknown.'}),\n",
              " Prediction(uid='A3977M5S0GIG5H', iid='B0000C0XS0', r_ui=1.0, est=4.291366722826364, details={'was_impossible': True, 'reason': 'Not enough neighbors.'}),\n",
              " Prediction(uid='A15T9G38F589KM', iid='B00EIF0E0Y', r_ui=5.0, est=3.0, details={'actual_k': 1, 'was_impossible': False}),\n",
              " Prediction(uid='A3S0DBBR693O06', iid='B0002D6QJO', r_ui=5.0, est=4.291366722826364, details={'was_impossible': True, 'reason': 'Not enough neighbors.'}),\n",
              " Prediction(uid='A54S9CIUV5VNB', iid='B007WTAJTO', r_ui=5.0, est=4.751148555966956, details={'actual_k': 4, 'was_impossible': False}),\n",
              " Prediction(uid='A3872Y2XH0YDX1', iid='B00461E7JE', r_ui=5.0, est=5, details={'actual_k': 1, 'was_impossible': False}),\n",
              " Prediction(uid='A2T689YVOAYGGD', iid='B002G1YPH0', r_ui=5.0, est=5, details={'actual_k': 1, 'was_impossible': False}),\n",
              " Prediction(uid='A2NOW4U7W3F7RI', iid='B00HVMIL1U', r_ui=5.0, est=4.291366722826364, details={'was_impossible': True, 'reason': 'Not enough neighbors.'}),\n",
              " Prediction(uid='A2O6HZ2B9YSRXR', iid='B000HPV3RW', r_ui=5.0, est=5, details={'actual_k': 1, 'was_impossible': False}),\n",
              " Prediction(uid='A20L63B48RPSOH', iid='B00406YHLI', r_ui=4.0, est=4.291366722826364, details={'was_impossible': True, 'reason': 'Not enough neighbors.'}),\n",
              " Prediction(uid='A3EXWV8FNSSFL6', iid='B001KELVS0', r_ui=5.0, est=4.0, details={'actual_k': 1, 'was_impossible': False}),\n",
              " Prediction(uid='A17O9AHKHK66AI', iid='B009JP461G', r_ui=5.0, est=4.291366722826364, details={'was_impossible': True, 'reason': 'Not enough neighbors.'}),\n",
              " Prediction(uid='AZMY6E8B52L2T', iid='B004G6002M', r_ui=1.0, est=5, details={'actual_k': 5, 'was_impossible': False}),\n",
              " Prediction(uid='A2ALRZ0ENQLYY5', iid='B004VFGJQ4', r_ui=4.0, est=5, details={'actual_k': 2, 'was_impossible': False}),\n",
              " Prediction(uid='A3U029B8Z5WGI2', iid='B002VPDM2A', r_ui=5.0, est=5, details={'actual_k': 1, 'was_impossible': False}),\n",
              " Prediction(uid='A2WJ5XSE4I9F55', iid='B004FLL5AY', r_ui=4.0, est=4.291366722826364, details={'was_impossible': True, 'reason': 'Not enough neighbors.'}),\n",
              " Prediction(uid='A25WJCAP606YMP', iid='B00299G80Q', r_ui=5.0, est=4.291366722826364, details={'was_impossible': True, 'reason': 'User and/or item is unknown.'}),\n",
              " Prediction(uid='A3M7BCQKSQAK4L', iid='B009X3UW2G', r_ui=5.0, est=4.291366722826364, details={'was_impossible': True, 'reason': 'Not enough neighbors.'}),\n",
              " Prediction(uid='A2LW5AL0KQ9P1M', iid='B009T0NM0M', r_ui=3.0, est=4.291366722826364, details={'was_impossible': True, 'reason': 'User and/or item is unknown.'}),\n",
              " Prediction(uid='A33SX0AD5PYD9B', iid='B000AAZQJU', r_ui=4.0, est=4.291366722826364, details={'was_impossible': True, 'reason': 'Not enough neighbors.'}),\n",
              " Prediction(uid='A23NSKTMSPPBTR', iid='B002N2EHVQ', r_ui=4.0, est=4.291366722826364, details={'was_impossible': True, 'reason': 'Not enough neighbors.'}),\n",
              " Prediction(uid='A26EQ8U96JA92T', iid='B000HDJY7K', r_ui=5.0, est=4.291366722826364, details={'was_impossible': True, 'reason': 'Not enough neighbors.'}),\n",
              " Prediction(uid='A1FMU4CJLIDHR9', iid='B004VM0SE6', r_ui=5.0, est=4.291366722826364, details={'was_impossible': True, 'reason': 'Not enough neighbors.'}),\n",
              " Prediction(uid='A3DOPYDOS49I3T', iid='B002JCSCYS', r_ui=5.0, est=4.0, details={'actual_k': 1, 'was_impossible': False}),\n",
              " Prediction(uid='A31ICLWQ9CSHRS', iid='B00009R6WO', r_ui=5.0, est=4.291366722826364, details={'was_impossible': True, 'reason': 'Not enough neighbors.'}),\n",
              " Prediction(uid='A3077MQTAKOVFZ', iid='B000WG6XW6', r_ui=4.0, est=4.291366722826364, details={'was_impossible': True, 'reason': 'User and/or item is unknown.'}),\n",
              " Prediction(uid='A196JN53PG0C7R', iid='B00BW6LW7G', r_ui=5.0, est=4.291366722826364, details={'was_impossible': True, 'reason': 'Not enough neighbors.'}),\n",
              " Prediction(uid='A2WF58BAWLVI95', iid='B000JET9EA', r_ui=3.0, est=4.291366722826364, details={'was_impossible': True, 'reason': 'User and/or item is unknown.'}),\n",
              " Prediction(uid='A18L9A64XNGVGU', iid='B003S6ID20', r_ui=3.0, est=4.291366722826364, details={'was_impossible': True, 'reason': 'Not enough neighbors.'}),\n",
              " Prediction(uid='AMUP8DYE7EAN2', iid='B004CLYEFK', r_ui=5.0, est=3.600734850747595, details={'actual_k': 5, 'was_impossible': False}),\n",
              " Prediction(uid='A1V5TRJXTI6F01', iid='B004GCJEZU', r_ui=5.0, est=5, details={'actual_k': 1, 'was_impossible': False}),\n",
              " Prediction(uid='AFM7FK7NFEKFZ', iid='B0079MX4Q4', r_ui=5.0, est=4.291366722826364, details={'was_impossible': True, 'reason': 'Not enough neighbors.'}),\n",
              " Prediction(uid='A1B0NL8UWAELI7', iid='B001ENW61I', r_ui=5.0, est=4.291366722826364, details={'was_impossible': True, 'reason': 'Not enough neighbors.'}),\n",
              " Prediction(uid='A3T4OHEAHOJ700', iid='B005FT3ANA', r_ui=4.0, est=4.333333333333333, details={'actual_k': 3, 'was_impossible': False}),\n",
              " Prediction(uid='A25UZ7MA72SMKM', iid='B008ZGKWQI', r_ui=5.0, est=5, details={'actual_k': 1, 'was_impossible': False}),\n",
              " Prediction(uid='A1W415JP5WEAJK', iid='B000HPV3RW', r_ui=5.0, est=5, details={'actual_k': 1, 'was_impossible': False}),\n",
              " Prediction(uid='A14JBDSWKPKTZA', iid='B00004SB92', r_ui=5.0, est=4.291366722826364, details={'was_impossible': True, 'reason': 'Not enough neighbors.'}),\n",
              " Prediction(uid='A2X78O6G89CB30', iid='B0090BSSZO', r_ui=5.0, est=4.291366722826364, details={'was_impossible': True, 'reason': 'Not enough neighbors.'}),\n",
              " Prediction(uid='A2YEZ8Z3BW2SKG', iid='B0025ZH43O', r_ui=5.0, est=4.291366722826364, details={'was_impossible': True, 'reason': 'Not enough neighbors.'}),\n",
              " Prediction(uid='A3EM243NDJ4DF3', iid='B009OZUPUC', r_ui=2.0, est=4.666666666666667, details={'actual_k': 3, 'was_impossible': False}),\n",
              " Prediction(uid='A3TAS1AG6FMBQW', iid='B001542X64', r_ui=5.0, est=4.291366722826364, details={'was_impossible': True, 'reason': 'User and/or item is unknown.'}),\n",
              " Prediction(uid='A2Z1R98M2XOCEJ', iid='B00IVPU5BK', r_ui=5.0, est=4.291366722826364, details={'was_impossible': True, 'reason': 'Not enough neighbors.'}),\n",
              " Prediction(uid='A11KQADBYE0UZL', iid='B0000AI0N1', r_ui=4.0, est=5, details={'actual_k': 1, 'was_impossible': False}),\n",
              " Prediction(uid='ALQ4USPEQ9L5N', iid='B008X9Z9ZQ', r_ui=3.0, est=4.004524160640742, details={'actual_k': 2, 'was_impossible': False}),\n",
              " Prediction(uid='A37D1ZP8GBHE38', iid='B002VPE1X4', r_ui=5.0, est=4.291366722826364, details={'was_impossible': True, 'reason': 'Not enough neighbors.'}),\n",
              " Prediction(uid='A100WO06OQR8BQ', iid='B002SZEOLG', r_ui=5.0, est=3.799765118347521, details={'actual_k': 5, 'was_impossible': False}),\n",
              " Prediction(uid='A33SX0AD5PYD9B', iid='B003LRY9Q0', r_ui=4.0, est=4.291366722826364, details={'was_impossible': True, 'reason': 'Not enough neighbors.'}),\n",
              " Prediction(uid='AZMY6E8B52L2T', iid='B006OM75I8', r_ui=5.0, est=4.999999999999999, details={'actual_k': 5, 'was_impossible': False}),\n",
              " Prediction(uid='A2PZXXPGLXXKZU', iid='B002JSS2NS', r_ui=2.0, est=4.291366722826364, details={'was_impossible': True, 'reason': 'Not enough neighbors.'}),\n",
              " Prediction(uid='A3RGHO0Q938FRS', iid='B000OFWJO6', r_ui=5.0, est=4.291366722826364, details={'was_impossible': True, 'reason': 'Not enough neighbors.'}),\n",
              " Prediction(uid='ARIDN94LOCQFD', iid='B0000B006W', r_ui=5.0, est=4.291366722826364, details={'was_impossible': True, 'reason': 'Not enough neighbors.'}),\n",
              " Prediction(uid='A3MUSWDCTZINQZ', iid='B009O7XUL6', r_ui=4.0, est=4.14296555580656, details={'actual_k': 7, 'was_impossible': False}),\n",
              " Prediction(uid='A1T1YSCDW0PD25', iid='B0007MWE1E', r_ui=5.0, est=4.291366722826364, details={'was_impossible': True, 'reason': 'Not enough neighbors.'}),\n",
              " Prediction(uid='A1CM4HI4S5P0WO', iid='B00001W0DI', r_ui=5.0, est=4.291366722826364, details={'was_impossible': True, 'reason': 'Not enough neighbors.'}),\n",
              " Prediction(uid='A1PS4OYWUB0VX', iid='B004LNXO28', r_ui=5.0, est=5, details={'actual_k': 1, 'was_impossible': False}),\n",
              " Prediction(uid='A2RIL2NXHE00AQ', iid='B003QSG0HK', r_ui=5.0, est=4.291366722826364, details={'was_impossible': True, 'reason': 'Not enough neighbors.'}),\n",
              " Prediction(uid='AMS2CPERWN7JV', iid='B0043M66X6', r_ui=4.0, est=4.291366722826364, details={'was_impossible': True, 'reason': 'Not enough neighbors.'}),\n",
              " Prediction(uid='A1GWG5CWLKJ7ET', iid='B003M8HWDA', r_ui=4.0, est=4.5, details={'actual_k': 2, 'was_impossible': False}),\n",
              " Prediction(uid='A1MRRMHGV3PN5W', iid='B00DEQLDDU', r_ui=5.0, est=4.291366722826364, details={'was_impossible': True, 'reason': 'Not enough neighbors.'}),\n",
              " Prediction(uid='AG35JCCQWDRCS', iid='B004GYVPGE', r_ui=5.0, est=4.291366722826364, details={'was_impossible': True, 'reason': 'Not enough neighbors.'}),\n",
              " Prediction(uid='A27H61OHW44XA7', iid='B008CS5T76', r_ui=4.0, est=4.291366722826364, details={'was_impossible': True, 'reason': 'Not enough neighbors.'}),\n",
              " Prediction(uid='A2JCJJNY43QQIV', iid='B001HSOFI2', r_ui=5.0, est=4.291366722826364, details={'was_impossible': True, 'reason': 'Not enough neighbors.'}),\n",
              " Prediction(uid='A37IRE9GZ0CZ7I', iid='B00DR0C96S', r_ui=5.0, est=4.291366722826364, details={'was_impossible': True, 'reason': 'Not enough neighbors.'}),\n",
              " Prediction(uid='A3REK3OFONWB1Q', iid='B000L47AHG', r_ui=5.0, est=5, details={'actual_k': 1, 'was_impossible': False}),\n",
              " Prediction(uid='A36K2N527TXXJN', iid='B009YE461W', r_ui=4.0, est=4.291366722826364, details={'was_impossible': True, 'reason': 'Not enough neighbors.'}),\n",
              " Prediction(uid='A2JXS1JII6SAUD', iid='B001FA1O18', r_ui=5.0, est=4.5, details={'actual_k': 2, 'was_impossible': False}),\n",
              " Prediction(uid='A31ICLWQ9CSHRS', iid='B0078I832O', r_ui=5.0, est=4.291366722826364, details={'was_impossible': True, 'reason': 'User and/or item is unknown.'}),\n",
              " Prediction(uid='AKCZIJ6ZHE41D', iid='B002VPE21A', r_ui=5.0, est=4.291366722826364, details={'was_impossible': True, 'reason': 'Not enough neighbors.'}),\n",
              " Prediction(uid='A1X2LENOF84LCQ', iid='B002DPUUKK', r_ui=4.0, est=2.0, details={'actual_k': 1, 'was_impossible': False}),\n",
              " Prediction(uid='A2NOW4U7W3F7RI', iid='B00INTDOT4', r_ui=5.0, est=4.291366722826364, details={'was_impossible': True, 'reason': 'Not enough neighbors.'}),\n",
              " Prediction(uid='A1X1CEGHTHMBL1', iid='B0002CPBWI', r_ui=4.0, est=4.291366722826364, details={'was_impossible': True, 'reason': 'Not enough neighbors.'}),\n",
              " Prediction(uid='A15J71JLC29KPW', iid='B00DR8LAE2', r_ui=5.0, est=4.0, details={'actual_k': 2, 'was_impossible': False}),\n",
              " Prediction(uid='A2DG63DN704LOI', iid='B00BQHD4B8', r_ui=5.0, est=5, details={'actual_k': 1, 'was_impossible': False}),\n",
              " Prediction(uid='A30JPZ9TZ7I61U', iid='B004Q3RE4W', r_ui=3.0, est=4.291366722826364, details={'was_impossible': True, 'reason': 'Not enough neighbors.'}),\n",
              " Prediction(uid='A11T807LX2EF00', iid='B00AGV7T6Q', r_ui=3.0, est=5, details={'actual_k': 3, 'was_impossible': False}),\n",
              " Prediction(uid='ARXU3FESTWMJJ', iid='B004TKTOWC', r_ui=2.0, est=4.12172210222435, details={'actual_k': 8, 'was_impossible': False}),\n",
              " Prediction(uid='A2V2URLB31HG59', iid='B00ETBHOIM', r_ui=3.0, est=3.0, details={'actual_k': 1, 'was_impossible': False}),\n",
              " Prediction(uid='A105TOJ6LTVMBG', iid='B001KB6Z2U', r_ui=5.0, est=4.291366722826364, details={'was_impossible': True, 'reason': 'Not enough neighbors.'}),\n",
              " Prediction(uid='A32LX4XJ2LU740', iid='B004E10KFG', r_ui=4.0, est=4.291366722826364, details={'was_impossible': True, 'reason': 'Not enough neighbors.'}),\n",
              " Prediction(uid='A7EU2BWLLCJY2', iid='B00DL8L7TQ', r_ui=5.0, est=5, details={'actual_k': 1, 'was_impossible': False}),\n",
              " Prediction(uid='A15XI2BEGGFEOW', iid='B00D78Q2AO', r_ui=5.0, est=4.291366722826364, details={'was_impossible': True, 'reason': 'Not enough neighbors.'}),\n",
              " Prediction(uid='A1QOK9LU90ACF7', iid='B005E8MVV4', r_ui=4.0, est=4.291366722826364, details={'was_impossible': True, 'reason': 'Not enough neighbors.'}),\n",
              " Prediction(uid='AZCE11PSTCH1L', iid='B002NEGTTW', r_ui=5.0, est=4.291366722826364, details={'was_impossible': True, 'reason': 'Not enough neighbors.'}),\n",
              " Prediction(uid='A2HV76MYH7UL3S', iid='B004OF9XGO', r_ui=3.0, est=4.291366722826364, details={'was_impossible': True, 'reason': 'Not enough neighbors.'}),\n",
              " Prediction(uid='A1B4MIXYVIKMU2', iid='B005FNH9RE', r_ui=5.0, est=4.291366722826364, details={'was_impossible': True, 'reason': 'Not enough neighbors.'}),\n",
              " Prediction(uid='A1X1CEGHTHMBL1', iid='B00GLG2D4I', r_ui=4.0, est=4.291366722826364, details={'was_impossible': True, 'reason': 'User and/or item is unknown.'}),\n",
              " Prediction(uid='A3OXHLG6DIBRW8', iid='B004OR14GY', r_ui=4.0, est=4.0, details={'actual_k': 2, 'was_impossible': False}),\n",
              " Prediction(uid='A1T9MILRRZ00F8', iid='B005X9XVNQ', r_ui=2.0, est=4.0, details={'actual_k': 1, 'was_impossible': False}),\n",
              " Prediction(uid='A267FU71Z01CIH', iid='B007Y4TTWU', r_ui=3.0, est=4.0, details={'actual_k': 1, 'was_impossible': False}),\n",
              " Prediction(uid='AN81JUYW2SL24', iid='B00008Y0VN', r_ui=4.0, est=4.291366722826364, details={'was_impossible': True, 'reason': 'Not enough neighbors.'}),\n",
              " Prediction(uid='A2MJ8OL2FYN7CW', iid='B007YXA5TC', r_ui=4.0, est=5, details={'actual_k': 1, 'was_impossible': False}),\n",
              " Prediction(uid='A1F7YU6O5RU432', iid='B00ATZ9I90', r_ui=5.0, est=5, details={'actual_k': 2, 'was_impossible': False}),\n",
              " Prediction(uid='ASJSX783R5HTZ', iid='B004TJ6JH6', r_ui=4.0, est=4.291366722826364, details={'was_impossible': True, 'reason': 'Not enough neighbors.'}),\n",
              " Prediction(uid='A225G2TFM76GYX', iid='B00267S7XW', r_ui=5.0, est=4.291366722826364, details={'was_impossible': True, 'reason': 'Not enough neighbors.'}),\n",
              " Prediction(uid='A1IBKN1GXYJ3K4', iid='B0031RG2AG', r_ui=5.0, est=4.291366722826364, details={'was_impossible': True, 'reason': 'Not enough neighbors.'}),\n",
              " Prediction(uid='A2LW5AL0KQ9P1M', iid='B008X9Z528', r_ui=4.0, est=4.3322147366629755, details={'actual_k': 6, 'was_impossible': False}),\n",
              " Prediction(uid='ADOR3TR7GDF68', iid='B00BFO14W8', r_ui=5.0, est=1, details={'actual_k': 1, 'was_impossible': False}),\n",
              " Prediction(uid='A2PSC7LUNIDEAH', iid='B001CHHVCU', r_ui=2.0, est=4.5, details={'actual_k': 4, 'was_impossible': False}),\n",
              " Prediction(uid='AZAC8O310IK4E', iid='B002C7481G', r_ui=4.0, est=4.0, details={'actual_k': 2, 'was_impossible': False}),\n",
              " Prediction(uid='A1HYH206E18XVC', iid='B0053T4PHC', r_ui=4.0, est=4.291366722826364, details={'was_impossible': True, 'reason': 'Not enough neighbors.'}),\n",
              " Prediction(uid='A1FDV3WPOHREY9', iid='B000CH3IIW', r_ui=5.0, est=4.291366722826364, details={'was_impossible': True, 'reason': 'Not enough neighbors.'}),\n",
              " Prediction(uid='A357B3PUHSVQA', iid='B003SX0P1A', r_ui=5.0, est=4.291366722826364, details={'was_impossible': True, 'reason': 'Not enough neighbors.'}),\n",
              " Prediction(uid='A36IHC0K68NS2', iid='B001TOD7ME', r_ui=3.0, est=3.666326527418219, details={'actual_k': 6, 'was_impossible': False}),\n",
              " Prediction(uid='ASJLXOX1VD4DF', iid='B00G4UQ6U8', r_ui=5.0, est=5, details={'actual_k': 2, 'was_impossible': False}),\n",
              " Prediction(uid='A23NSKTMSPPBTR', iid='B0026ZPFCK', r_ui=3.0, est=4.291366722826364, details={'was_impossible': True, 'reason': 'Not enough neighbors.'}),\n",
              " Prediction(uid='A1EH2S92FHWZRP', iid='B005612QLY', r_ui=4.0, est=4.0, details={'actual_k': 1, 'was_impossible': False}),\n",
              " Prediction(uid='A4D5B7Q8A7PA6', iid='B00B3PDHBU', r_ui=5.0, est=4.291366722826364, details={'was_impossible': True, 'reason': 'Not enough neighbors.'}),\n",
              " Prediction(uid='A2UOHALGF2X77Q', iid='B0007LJHVA', r_ui=5.0, est=4.291366722826364, details={'was_impossible': True, 'reason': 'Not enough neighbors.'}),\n",
              " Prediction(uid='A6XDZ1MJ0B1A2', iid='B008RM235I', r_ui=5.0, est=4.291366722826364, details={'was_impossible': True, 'reason': 'Not enough neighbors.'}),\n",
              " Prediction(uid='A2L42QEWR77PKZ', iid='B00CMEN95U', r_ui=5.0, est=4.291366722826364, details={'was_impossible': True, 'reason': 'Not enough neighbors.'}),\n",
              " Prediction(uid='A2DF62DP20RIXF', iid='B001F51G16', r_ui=4.0, est=4.0, details={'actual_k': 1, 'was_impossible': False}),\n",
              " Prediction(uid='A240FRPD4MEXND', iid='B001EO6QR2', r_ui=4.0, est=4.291366722826364, details={'was_impossible': True, 'reason': 'Not enough neighbors.'}),\n",
              " Prediction(uid='A1YVO5V1SO18DZ', iid='B008ULPE70', r_ui=3.0, est=4.400641370689283, details={'actual_k': 10, 'was_impossible': False}),\n",
              " Prediction(uid='A1P0JSFW184ZXJ', iid='B003ELOSIW', r_ui=5.0, est=4.333333333333333, details={'actual_k': 3, 'was_impossible': False}),\n",
              " Prediction(uid='A1YEPFLLH42OU1', iid='B006GWO5WK', r_ui=4.0, est=4.666666666666667, details={'actual_k': 3, 'was_impossible': False}),\n",
              " Prediction(uid='ASJSX783R5HTZ', iid='B003HFCDLY', r_ui=3.0, est=4.291366722826364, details={'was_impossible': True, 'reason': 'Not enough neighbors.'}),\n",
              " Prediction(uid='AE88D7OM7YU99', iid='B00APQM1GU', r_ui=5.0, est=4.291366722826364, details={'was_impossible': True, 'reason': 'Not enough neighbors.'}),\n",
              " Prediction(uid='A23D13HKTA95WX', iid='B004IZN3K2', r_ui=5.0, est=4.291366722826364, details={'was_impossible': True, 'reason': 'Not enough neighbors.'}),\n",
              " Prediction(uid='A3EZFFPVS34AMO', iid='B00IVPU6AA', r_ui=5.0, est=4.291366722826364, details={'was_impossible': True, 'reason': 'Not enough neighbors.'}),\n",
              " Prediction(uid='A3EXWV8FNSSFL6', iid='B005ARQV6U', r_ui=5.0, est=4.0, details={'actual_k': 3, 'was_impossible': False}),\n",
              " Prediction(uid='A19W47CXJJP1MI', iid='B00G2J2NZ8', r_ui=4.0, est=4.5, details={'actual_k': 2, 'was_impossible': False}),\n",
              " Prediction(uid='A54S9CIUV5VNB', iid='B000HPV3RW', r_ui=5.0, est=4.4992342960220295, details={'actual_k': 4, 'was_impossible': False}),\n",
              " Prediction(uid='A2W9GX82SLKROQ', iid='B00BW6KCTU', r_ui=5.0, est=4.291366722826364, details={'was_impossible': True, 'reason': 'Not enough neighbors.'}),\n",
              " Prediction(uid='A15CL28ALB7MTZ', iid='B00DR8LA60', r_ui=4.0, est=3.638263230688681, details={'actual_k': 3, 'was_impossible': False}),\n",
              " Prediction(uid='A34CKIMZ969UW7', iid='B001S2PPT0', r_ui=5.0, est=4.291366722826364, details={'was_impossible': True, 'reason': 'Not enough neighbors.'}),\n",
              " Prediction(uid='A3S3R88HA0HZG3', iid='B0001FTVEA', r_ui=5.0, est=3.0, details={'actual_k': 1, 'was_impossible': False}),\n",
              " Prediction(uid='A1UQBFCERIP7VJ', iid='B005N8W1EW', r_ui=4.0, est=4.291366722826364, details={'was_impossible': True, 'reason': 'Not enough neighbors.'}),\n",
              " Prediction(uid='ADLVFFE4VBT8', iid='B000067RVL', r_ui=5.0, est=3.75, details={'actual_k': 4, 'was_impossible': False}),\n",
              " Prediction(uid='A3NOBH42C7UI5M', iid='B009LPV766', r_ui=3.0, est=4.291366722826364, details={'was_impossible': True, 'reason': 'Not enough neighbors.'}),\n",
              " Prediction(uid='A3N0P5AAMP6XD2', iid='B002WE6D44', r_ui=5.0, est=2.0, details={'actual_k': 1, 'was_impossible': False}),\n",
              " Prediction(uid='A27H0T39U3FZB5', iid='B001IBMLKM', r_ui=5.0, est=4.291366722826364, details={'was_impossible': True, 'reason': 'Not enough neighbors.'}),\n",
              " Prediction(uid='A3DWO5RJDA430F', iid='B00BVQXG1W', r_ui=4.0, est=4.291366722826364, details={'was_impossible': True, 'reason': 'Not enough neighbors.'}),\n",
              " Prediction(uid='A3977M5S0GIG5H', iid='B0048606UG', r_ui=5.0, est=4.291366722826364, details={'was_impossible': True, 'reason': 'User and/or item is unknown.'}),\n",
              " Prediction(uid='AGVWTYW0ULXHT', iid='B0011N180Q', r_ui=4.0, est=4.5, details={'actual_k': 2, 'was_impossible': False}),\n",
              " Prediction(uid='AU3GYRAKBUAEU', iid='B001EO6QR2', r_ui=3.0, est=4.291366722826364, details={'was_impossible': True, 'reason': 'Not enough neighbors.'}),\n",
              " Prediction(uid='AM9APPMIE1BHZ', iid='B00829THVO', r_ui=5.0, est=5, details={'actual_k': 1, 'was_impossible': False}),\n",
              " Prediction(uid='A3OA4DV4L81N1D', iid='B002NEGTTW', r_ui=5.0, est=5, details={'actual_k': 1, 'was_impossible': False}),\n",
              " Prediction(uid='A23GFTVIETX7DS', iid='B008KEPX1O', r_ui=5.0, est=4.2, details={'actual_k': 5, 'was_impossible': False}),\n",
              " Prediction(uid='A105S56ODHGJEK', iid='B00G6CLNCK', r_ui=5.0, est=4.0, details={'actual_k': 4, 'was_impossible': False}),\n",
              " Prediction(uid='A34CKIMZ969UW7', iid='B001XURP7W', r_ui=5.0, est=4.291366722826364, details={'was_impossible': True, 'reason': 'Not enough neighbors.'}),\n",
              " Prediction(uid='A1QOK9LU90ACF7', iid='B004EWEZM4', r_ui=4.0, est=5, details={'actual_k': 2, 'was_impossible': False}),\n",
              " Prediction(uid='A1VQHH85U7PX0', iid='B009NHWVIA', r_ui=5.0, est=3.0, details={'actual_k': 2, 'was_impossible': False}),\n",
              " Prediction(uid='AMO1MLSIJSQOF', iid='B000I1YIDQ', r_ui=5.0, est=4.291366722826364, details={'was_impossible': True, 'reason': 'Not enough neighbors.'}),\n",
              " Prediction(uid='A296QED1MV1V0J', iid='B0099XGZXA', r_ui=5.0, est=4.291366722826364, details={'was_impossible': True, 'reason': 'Not enough neighbors.'}),\n",
              " Prediction(uid='AA95DWUI3ODU', iid='B001LK8P14', r_ui=4.0, est=2.0, details={'actual_k': 1, 'was_impossible': False}),\n",
              " Prediction(uid='A2PZXXPGLXXKZU', iid='B000B60H0G', r_ui=3.0, est=4.291366722826364, details={'was_impossible': True, 'reason': 'Not enough neighbors.'}),\n",
              " Prediction(uid='A20OBCQWBKCGZT', iid='B00G024X32', r_ui=5.0, est=2.0, details={'actual_k': 1, 'was_impossible': False}),\n",
              " Prediction(uid='ALRCAGJOJ9583', iid='B00CM1BN5G', r_ui=4.0, est=4.291366722826364, details={'was_impossible': True, 'reason': 'Not enough neighbors.'}),\n",
              " Prediction(uid='A3QRR8PSCBI07C', iid='B002RWJHBM', r_ui=5.0, est=4.291366722826364, details={'was_impossible': True, 'reason': 'Not enough neighbors.'}),\n",
              " Prediction(uid='AE88D7OM7YU99', iid='B004CLYEH8', r_ui=5.0, est=3.0, details={'actual_k': 3, 'was_impossible': False}),\n",
              " Prediction(uid='A38NHXL5257E3B', iid='B0052RM8T2', r_ui=5.0, est=4.291366722826364, details={'was_impossible': True, 'reason': 'Not enough neighbors.'}),\n",
              " Prediction(uid='A2UQK3DAZ8NO2T', iid='B000HGIWN4', r_ui=5.0, est=4.291366722826364, details={'was_impossible': True, 'reason': 'Not enough neighbors.'}),\n",
              " Prediction(uid='A1ITRGMT80D5TK', iid='B004CLYEE6', r_ui=4.0, est=4.0, details={'actual_k': 1, 'was_impossible': False}),\n",
              " Prediction(uid='A3EWJX7W1X7E79', iid='B005G81E9M', r_ui=3.0, est=4.291366722826364, details={'was_impossible': True, 'reason': 'Not enough neighbors.'}),\n",
              " Prediction(uid='A2KYRPDKVBI2R4', iid='B003M0NURK', r_ui=5.0, est=5, details={'actual_k': 2, 'was_impossible': False}),\n",
              " Prediction(uid='AQCJWSMSURQI2', iid='B00GRNUO2I', r_ui=4.0, est=3.505038772616383, details={'actual_k': 4, 'was_impossible': False}),\n",
              " Prediction(uid='AR74YY08IP2WE', iid='B000ZH7E5M', r_ui=2.0, est=4.291366722826364, details={'was_impossible': True, 'reason': 'Not enough neighbors.'}),\n",
              " Prediction(uid='A22I55P15NSAOX', iid='B0016HZSJO', r_ui=4.0, est=4.291366722826364, details={'was_impossible': True, 'reason': 'Not enough neighbors.'}),\n",
              " Prediction(uid='A1T1YSCDW0PD25', iid='B004S4R5CK', r_ui=5.0, est=4.291366722826364, details={'was_impossible': True, 'reason': 'Not enough neighbors.'}),\n",
              " Prediction(uid='A2Z2MUP8JRJXEU', iid='B005HMKKH4', r_ui=5.0, est=5, details={'actual_k': 1, 'was_impossible': False}),\n",
              " Prediction(uid='A6XDZ1MJ0B1A2', iid='B0034CL2ZI', r_ui=5.0, est=4.291366722826364, details={'was_impossible': True, 'reason': 'Not enough neighbors.'}),\n",
              " Prediction(uid='AGGAQLXPVGM5D', iid='B001A4LVYY', r_ui=4.0, est=4.291366722826364, details={'was_impossible': True, 'reason': 'Not enough neighbors.'}),\n",
              " Prediction(uid='A11R5VW7IM6ISQ', iid='B0041OSQB6', r_ui=5.0, est=4.0, details={'actual_k': 1, 'was_impossible': False}),\n",
              " Prediction(uid='A3M7R4PD0FEPUB', iid='B005DOUJL8', r_ui=5.0, est=4.0, details={'actual_k': 2, 'was_impossible': False}),\n",
              " Prediction(uid='AWPODHOB4GFWL', iid='B0011FOOI2', r_ui=3.0, est=5, details={'actual_k': 1, 'was_impossible': False}),\n",
              " Prediction(uid='A3N0P5AAMP6XD2', iid='B00752R4PK', r_ui=4.0, est=4.291366722826364, details={'was_impossible': True, 'reason': 'Not enough neighbors.'}),\n",
              " Prediction(uid='A2B7BUH8834Y6M', iid='B001G5ZTLS', r_ui=1.0, est=4.291366722826364, details={'was_impossible': True, 'reason': 'Not enough neighbors.'}),\n",
              " Prediction(uid='A32O5FZH994CNY', iid='B00007KDVJ', r_ui=5.0, est=4.291366722826364, details={'was_impossible': True, 'reason': 'Not enough neighbors.'}),\n",
              " Prediction(uid='A2LB4FLRZG6CUV', iid='B00FISD9DO', r_ui=5.0, est=4.291366722826364, details={'was_impossible': True, 'reason': 'User and/or item is unknown.'}),\n",
              " Prediction(uid='A26SO3TOT2TLJE', iid='B007Q8GOGI', r_ui=3.0, est=5, details={'actual_k': 3, 'was_impossible': False}),\n",
              " Prediction(uid='A1VRANSQ0WF1YS', iid='B000QJ4ZE2', r_ui=5.0, est=4.291366722826364, details={'was_impossible': True, 'reason': 'Not enough neighbors.'}),\n",
              " Prediction(uid='A3EPJSPH03AS29', iid='B00E9646MY', r_ui=5.0, est=4.291366722826364, details={'was_impossible': True, 'reason': 'Not enough neighbors.'}),\n",
              " Prediction(uid='A32O5FZH994CNY', iid='B0018C7FSO', r_ui=5.0, est=4.291366722826364, details={'was_impossible': True, 'reason': 'User and/or item is unknown.'}),\n",
              " Prediction(uid='A26BDXG9KVH7SU', iid='B00CG5EF5I', r_ui=5.0, est=4.291366722826364, details={'was_impossible': True, 'reason': 'Not enough neighbors.'}),\n",
              " Prediction(uid='A3BACUOZV1M0WM', iid='B0037NX6JY', r_ui=4.0, est=4.291366722826364, details={'was_impossible': True, 'reason': 'Not enough neighbors.'}),\n",
              " Prediction(uid='A2B7BUH8834Y6M', iid='B002NEGTTW', r_ui=5.0, est=4.291366722826364, details={'was_impossible': True, 'reason': 'Not enough neighbors.'}),\n",
              " Prediction(uid='AU627A4UGIW6V', iid='B008MB71IS', r_ui=5.0, est=4.291366722826364, details={'was_impossible': True, 'reason': 'Not enough neighbors.'}),\n",
              " Prediction(uid='A11KZ906QD08C5', iid='B00B588HY2', r_ui=5.0, est=4.666666666666667, details={'actual_k': 3, 'was_impossible': False}),\n",
              " Prediction(uid='A3REK3OFONWB1Q', iid='B005LSZ2TA', r_ui=5.0, est=5, details={'actual_k': 1, 'was_impossible': False}),\n",
              " Prediction(uid='A2ME89MSWVG9NF', iid='B00AVST4GM', r_ui=4.0, est=4.291366722826364, details={'was_impossible': True, 'reason': 'User and/or item is unknown.'}),\n",
              " Prediction(uid='A2PSC7LUNIDEAH', iid='B004N62HZI', r_ui=5.0, est=4.666666666666667, details={'actual_k': 3, 'was_impossible': False}),\n",
              " Prediction(uid='A1URXSRV6WDHVY', iid='B007X3VEBG', r_ui=3.0, est=4.666666666666667, details={'actual_k': 3, 'was_impossible': False}),\n",
              " Prediction(uid='A215WH6RUDUCMP', iid='B00BWX2OU8', r_ui=5.0, est=4.0, details={'actual_k': 1, 'was_impossible': False}),\n",
              " Prediction(uid='AIFLY2HF8NS8U', iid='B00DTPYQBM', r_ui=5.0, est=4.291366722826364, details={'was_impossible': True, 'reason': 'Not enough neighbors.'}),\n",
              " Prediction(uid='A20L63B48RPSOH', iid='B00DQZRQPI', r_ui=4.0, est=5, details={'actual_k': 1, 'was_impossible': False}),\n",
              " Prediction(uid='AGVWTYW0ULXHT', iid='B002OOWC3S', r_ui=4.0, est=4.0, details={'actual_k': 1, 'was_impossible': False}),\n",
              " Prediction(uid='A17BUUBOU0598B', iid='B004BZN9DA', r_ui=2.0, est=2.0, details={'actual_k': 1, 'was_impossible': False}),\n",
              " Prediction(uid='ADZF3QDGSZE7K', iid='B000CC6I5W', r_ui=4.0, est=4.291366722826364, details={'was_impossible': True, 'reason': 'Not enough neighbors.'}),\n",
              " Prediction(uid='A1WG97A0EFHYXN', iid='B000Q85WRC', r_ui=5.0, est=4.291366722826364, details={'was_impossible': True, 'reason': 'Not enough neighbors.'}),\n",
              " Prediction(uid='ALUNVOQRXOZIA', iid='B003ZX871I', r_ui=1.0, est=4.291366722826364, details={'was_impossible': True, 'reason': 'Not enough neighbors.'}),\n",
              " Prediction(uid='A2NB2E5DXE319Z', iid='B003T5KXJQ', r_ui=5.0, est=4.291366722826364, details={'was_impossible': True, 'reason': 'Not enough neighbors.'}),\n",
              " Prediction(uid='A7KBAXO177NND', iid='B003ZYF3M8', r_ui=5.0, est=4.291366722826364, details={'was_impossible': True, 'reason': 'Not enough neighbors.'}),\n",
              " Prediction(uid='A1XXMNLOLKNO0I', iid='B00390JT1O', r_ui=5.0, est=4.291366722826364, details={'was_impossible': True, 'reason': 'Not enough neighbors.'}),\n",
              " Prediction(uid='A3HR0ZZOFKQ97N', iid='B006DDT6JO', r_ui=5.0, est=4.291366722826364, details={'was_impossible': True, 'reason': 'Not enough neighbors.'}),\n",
              " Prediction(uid='A1CMD08Z49PGKQ', iid='B0074BW614', r_ui=5.0, est=5, details={'actual_k': 3, 'was_impossible': False}),\n",
              " Prediction(uid='A1ZU55TM45Y2R8', iid='B003YTROIU', r_ui=5.0, est=4.291366722826364, details={'was_impossible': True, 'reason': 'Not enough neighbors.'}),\n",
              " Prediction(uid='ADOR3TR7GDF68', iid='B00005T3G0', r_ui=5.0, est=1, details={'actual_k': 1, 'was_impossible': False}),\n",
              " Prediction(uid='A3FEGTOLCWXSV4', iid='B00IVPU59W', r_ui=4.0, est=5, details={'actual_k': 2, 'was_impossible': False}),\n",
              " Prediction(uid='A3HSDV9Y0TV5Z2', iid='B00BW6KCTU', r_ui=5.0, est=4.291366722826364, details={'was_impossible': True, 'reason': 'Not enough neighbors.'}),\n",
              " Prediction(uid='A1MCH5RXDOH87H', iid='B008EQZ25K', r_ui=4.0, est=1, details={'actual_k': 1, 'was_impossible': False}),\n",
              " Prediction(uid='AW5JSQCHC2ZJO', iid='B0019Y8AAI', r_ui=4.0, est=4.5, details={'actual_k': 2, 'was_impossible': False}),\n",
              " Prediction(uid='A31HE83MU98GBV', iid='B00093IIRA', r_ui=5.0, est=5, details={'actual_k': 1, 'was_impossible': False}),\n",
              " Prediction(uid='A3R1WFO4KIUQXZ', iid='B0088CJT4U', r_ui=3.0, est=3.979824515914666, details={'actual_k': 11, 'was_impossible': False}),\n",
              " Prediction(uid='ACHTDPEQYSEQL', iid='B00E6ONJJU', r_ui=4.0, est=5, details={'actual_k': 1, 'was_impossible': False}),\n",
              " Prediction(uid='A1MQQEM7W77L62', iid='B001F7AHOG', r_ui=5.0, est=4.291366722826364, details={'was_impossible': True, 'reason': 'Not enough neighbors.'}),\n",
              " Prediction(uid='A19W47CXJJP1MI', iid='B00BGGDVOO', r_ui=4.0, est=4.291366722826364, details={'was_impossible': True, 'reason': 'Not enough neighbors.'}),\n",
              " Prediction(uid='A3QNQQKJTL76H0', iid='B00ISFNSBW', r_ui=5.0, est=4.0, details={'actual_k': 3, 'was_impossible': False}),\n",
              " Prediction(uid='A2KIJBT9HRIOM8', iid='B000FFISV8', r_ui=5.0, est=4.291366722826364, details={'was_impossible': True, 'reason': 'User and/or item is unknown.'}),\n",
              " Prediction(uid='A18S2VGUH9SCV5', iid='B008ULPD0S', r_ui=4.0, est=5, details={'actual_k': 1, 'was_impossible': False}),\n",
              " Prediction(uid='A10ZFE6YE0UHW8', iid='B00GLJGJTA', r_ui=4.0, est=4.291366722826364, details={'was_impossible': True, 'reason': 'Not enough neighbors.'}),\n",
              " Prediction(uid='A1B4MIXYVIKMU2', iid='B000JMJWV2', r_ui=5.0, est=4.4, details={'actual_k': 5, 'was_impossible': False}),\n",
              " Prediction(uid='A1B4MIXYVIKMU2', iid='B008HK50ZA', r_ui=5.0, est=4.291366722826364, details={'was_impossible': True, 'reason': 'Not enough neighbors.'}),\n",
              " Prediction(uid='ADKGE078JK8K7', iid='B0043T34RK', r_ui=5.0, est=4.291366722826364, details={'was_impossible': True, 'reason': 'Not enough neighbors.'}),\n",
              " Prediction(uid='A1SB9BNNGKNX2Z', iid='B005N8W214', r_ui=3.0, est=4.291366722826364, details={'was_impossible': True, 'reason': 'Not enough neighbors.'}),\n",
              " Prediction(uid='A1143YEAZYMYHJ', iid='B000M3ILF6', r_ui=5.0, est=4.291366722826364, details={'was_impossible': True, 'reason': 'Not enough neighbors.'}),\n",
              " Prediction(uid='AWNJAY0M5UI70', iid='B009FUF6DM', r_ui=5.0, est=4.291366722826364, details={'was_impossible': True, 'reason': 'Not enough neighbors.'}),\n",
              " Prediction(uid='A2KYRPDKVBI2R4', iid='B004RKQM8I', r_ui=4.0, est=4.291366722826364, details={'was_impossible': True, 'reason': 'Not enough neighbors.'}),\n",
              " Prediction(uid='A21Q9JVG4SII51', iid='B003SX0P1A', r_ui=4.0, est=4.291366722826364, details={'was_impossible': True, 'reason': 'Not enough neighbors.'}),\n",
              " Prediction(uid='A19UTUEBWKIZFT', iid='B00G91T686', r_ui=5.0, est=4.291366722826364, details={'was_impossible': True, 'reason': 'Not enough neighbors.'}),\n",
              " Prediction(uid='ASJLXOX1VD4DF', iid='B003DNS882', r_ui=5.0, est=4.5, details={'actual_k': 2, 'was_impossible': False}),\n",
              " Prediction(uid='AW6J9IILGOZY3', iid='B008YDTRZ4', r_ui=5.0, est=4.291366722826364, details={'was_impossible': True, 'reason': 'Not enough neighbors.'}),\n",
              " Prediction(uid='A1ROUMJOGO4QMB', iid='B000LRMS66', r_ui=2.0, est=4.291366722826364, details={'was_impossible': True, 'reason': 'Not enough neighbors.'}),\n",
              " Prediction(uid='A3OXHLG6DIBRW8', iid='B00632GE54', r_ui=4.0, est=5, details={'actual_k': 3, 'was_impossible': False}),\n",
              " Prediction(uid='A2SZLNSI5KOQJT', iid='B000Q8UAWY', r_ui=5.0, est=4.0, details={'actual_k': 1, 'was_impossible': False}),\n",
              " Prediction(uid='A30JPZ9TZ7I61U', iid='B008O2HVIK', r_ui=5.0, est=4.291366722826364, details={'was_impossible': True, 'reason': 'Not enough neighbors.'}),\n",
              " Prediction(uid='A33YZNZIRA3H97', iid='B0009VT9OS', r_ui=5.0, est=4.291366722826364, details={'was_impossible': True, 'reason': 'Not enough neighbors.'}),\n",
              " Prediction(uid='AY6A8KPYCE6B0', iid='B008X9Z8NE', r_ui=4.0, est=4.0, details={'actual_k': 4, 'was_impossible': False}),\n",
              " Prediction(uid='A100UD67AHFODS', iid='B002K9GCU6', r_ui=5.0, est=4.291366722826364, details={'was_impossible': True, 'reason': 'Not enough neighbors.'}),\n",
              " Prediction(uid='A15QYHQH80W30L', iid='B000VDCTCI', r_ui=5.0, est=5, details={'actual_k': 1, 'was_impossible': False}),\n",
              " Prediction(uid='A2KYRPDKVBI2R4', iid='B00E83XHXM', r_ui=5.0, est=4.291366722826364, details={'was_impossible': True, 'reason': 'Not enough neighbors.'}),\n",
              " Prediction(uid='A27H0T39U3FZB5', iid='B005IPMIBQ', r_ui=4.0, est=4.999999999999999, details={'actual_k': 1, 'was_impossible': False}),\n",
              " Prediction(uid='A206CGM6J75UJY', iid='B00546JKJC', r_ui=4.0, est=4.291366722826364, details={'was_impossible': True, 'reason': 'Not enough neighbors.'}),\n",
              " Prediction(uid='AG7EF0SVBQOUX', iid='B000F7QRTG', r_ui=5.0, est=4.5, details={'actual_k': 2, 'was_impossible': False}),\n",
              " Prediction(uid='A30KPB2ILF6K6J', iid='B00465T7AO', r_ui=4.0, est=4.291366722826364, details={'was_impossible': True, 'reason': 'Not enough neighbors.'}),\n",
              " Prediction(uid='A1U5NWJOYH2QQH', iid='B00004RC2D', r_ui=5.0, est=4.291366722826364, details={'was_impossible': True, 'reason': 'Not enough neighbors.'}),\n",
              " Prediction(uid='A3EQQHWJ1EEYEU', iid='B002IWP87S', r_ui=5.0, est=4.291366722826364, details={'was_impossible': True, 'reason': 'Not enough neighbors.'}),\n",
              " Prediction(uid='A2LW5AL0KQ9P1M', iid='B003VAGXWK', r_ui=5.0, est=3.0, details={'actual_k': 1, 'was_impossible': False}),\n",
              " Prediction(uid='A1ZCSSCAGBCD49', iid='B001DJ64D4', r_ui=5.0, est=5, details={'actual_k': 1, 'was_impossible': False}),\n",
              " Prediction(uid='A1V4VVBQBFXRHC', iid='B002PHLZE6', r_ui=5.0, est=4.0, details={'actual_k': 1, 'was_impossible': False}),\n",
              " Prediction(uid='A3LGT6UZL99IW1', iid='B001A1POL8', r_ui=5.0, est=4.291366722826364, details={'was_impossible': True, 'reason': 'Not enough neighbors.'}),\n",
              " Prediction(uid='A2WLNSZ9U0T1S3', iid='B0012Y2LLE', r_ui=5.0, est=1, details={'actual_k': 1, 'was_impossible': False}),\n",
              " Prediction(uid='A3E3EQ39FZTZEK', iid='B004O0PAKW', r_ui=5.0, est=4.291366722826364, details={'was_impossible': True, 'reason': 'User and/or item is unknown.'}),\n",
              " Prediction(uid='AYO1146CBIV5C', iid='B00I3YKEKG', r_ui=4.0, est=4.291366722826364, details={'was_impossible': True, 'reason': 'Not enough neighbors.'}),\n",
              " Prediction(uid='A2NN1KIYEM2SKS', iid='B003M0NT1M', r_ui=5.0, est=1, details={'actual_k': 1, 'was_impossible': False}),\n",
              " Prediction(uid='A3AVJCB1ZD6ZY5', iid='B005LIDN00', r_ui=5.0, est=4.291366722826364, details={'was_impossible': True, 'reason': 'Not enough neighbors.'}),\n",
              " Prediction(uid='A3FEGTOLCWXSV4', iid='B004SBCFLE', r_ui=4.0, est=4.291366722826364, details={'was_impossible': True, 'reason': 'Not enough neighbors.'}),\n",
              " Prediction(uid='A1XB7JGJ459ERP', iid='B0049SCB2Y', r_ui=5.0, est=4.291366722826364, details={'was_impossible': True, 'reason': 'Not enough neighbors.'}),\n",
              " Prediction(uid='A3D5B2CBFNJB0K', iid='B001EPVOQY', r_ui=4.0, est=4.291366722826364, details={'was_impossible': True, 'reason': 'Not enough neighbors.'}),\n",
              " Prediction(uid='A2XRMQA6PJ5ZJ8', iid='B0000632FZ', r_ui=4.0, est=4.291366722826364, details={'was_impossible': True, 'reason': 'Not enough neighbors.'}),\n",
              " Prediction(uid='A3CG93783LP0FO', iid='B004YI9NTS', r_ui=4.0, est=3.0, details={'actual_k': 1, 'was_impossible': False}),\n",
              " Prediction(uid='A3DOPYDOS49I3T', iid='B0006HU49Y', r_ui=5.0, est=4.291366722826364, details={'was_impossible': True, 'reason': 'Not enough neighbors.'}),\n",
              " Prediction(uid='A26BDXG9KVH7SU', iid='B004Q3RE4W', r_ui=1.0, est=4.291366722826364, details={'was_impossible': True, 'reason': 'Not enough neighbors.'}),\n",
              " Prediction(uid='A2W0XCWOK3MW6F', iid='B002TOJXIA', r_ui=5.0, est=4.291366722826364, details={'was_impossible': True, 'reason': 'Not enough neighbors.'}),\n",
              " Prediction(uid='AWPODHOB4GFWL', iid='B00CELZD8C', r_ui=5.0, est=5, details={'actual_k': 1, 'was_impossible': False}),\n",
              " Prediction(uid='A2QI2NTDTMK2FV', iid='B000N99BBC', r_ui=4.0, est=4.250382851988985, details={'actual_k': 4, 'was_impossible': False}),\n",
              " Prediction(uid='A2CWIYIETNBAK3', iid='B001EZRJZE', r_ui=4.0, est=4.291366722826364, details={'was_impossible': True, 'reason': 'Not enough neighbors.'}),\n",
              " Prediction(uid='A1X3DA7C61WZLQ', iid='B008D2POAS', r_ui=4.0, est=4.291366722826364, details={'was_impossible': True, 'reason': 'User and/or item is unknown.'}),\n",
              " Prediction(uid='A32T2H8150OJLU', iid='B004OR14HI', r_ui=5.0, est=4.291366722826364, details={'was_impossible': True, 'reason': 'Not enough neighbors.'}),\n",
              " Prediction(uid='A1EH2S92FHWZRP', iid='B001TH7GUU', r_ui=5.0, est=5, details={'actual_k': 2, 'was_impossible': False}),\n",
              " Prediction(uid='A36MP37DITBU6F', iid='B008X9Z8NE', r_ui=5.0, est=4.431616086535966, details={'actual_k': 7, 'was_impossible': False}),\n",
              " Prediction(uid='A3SP7T2PZ3HSDE', iid='B00AAHTQ30', r_ui=2.0, est=4.291366722826364, details={'was_impossible': True, 'reason': 'Not enough neighbors.'}),\n",
              " Prediction(uid='A2DF62DP20RIXF', iid='B000AY2L3U', r_ui=4.0, est=4.291366722826364, details={'was_impossible': True, 'reason': 'Not enough neighbors.'}),\n",
              " Prediction(uid='A3V5F050GVZ56Q', iid='B00368CDH6', r_ui=5.0, est=4.291366722826364, details={'was_impossible': True, 'reason': 'User and/or item is unknown.'}),\n",
              " Prediction(uid='A27H0T39U3FZB5', iid='B004LWZLV6', r_ui=2.0, est=4.291366722826364, details={'was_impossible': True, 'reason': 'User and/or item is unknown.'}),\n",
              " Prediction(uid='A2ZRG5NOFZ47RK', iid='B006Y0YZZ6', r_ui=5.0, est=5, details={'actual_k': 1, 'was_impossible': False}),\n",
              " Prediction(uid='A2RG1B0K8YBJ4A', iid='B000W3QLLW', r_ui=5.0, est=4.291366722826364, details={'was_impossible': True, 'reason': 'Not enough neighbors.'}),\n",
              " Prediction(uid='A7EU2BWLLCJY2', iid='B00G91T686', r_ui=4.0, est=4.291366722826364, details={'was_impossible': True, 'reason': 'Not enough neighbors.'}),\n",
              " Prediction(uid='A194Y47BF3CUTJ', iid='B004FLL5AY', r_ui=5.0, est=5, details={'actual_k': 1, 'was_impossible': False}),\n",
              " Prediction(uid='A2FXBWR4T4OFQ', iid='B000V06UHQ', r_ui=5.0, est=4.291366722826364, details={'was_impossible': True, 'reason': 'Not enough neighbors.'}),\n",
              " Prediction(uid='A3CG93783LP0FO', iid='B001E1Y5O6', r_ui=5.0, est=5, details={'actual_k': 4, 'was_impossible': False}),\n",
              " Prediction(uid='A33HIV8RXRDM88', iid='B004GUT1QO', r_ui=5.0, est=4.291366722826364, details={'was_impossible': True, 'reason': 'Not enough neighbors.'}),\n",
              " Prediction(uid='A1UL2JH7XOUGM5', iid='B00HRQB28Y', r_ui=4.0, est=3.0, details={'actual_k': 1, 'was_impossible': False}),\n",
              " Prediction(uid='A1KXJCXS6HFRQZ', iid='B0009ZBRS0', r_ui=5.0, est=4.291366722826364, details={'was_impossible': True, 'reason': 'Not enough neighbors.'}),\n",
              " Prediction(uid='A1B4MIXYVIKMU2', iid='B000VIHFZ4', r_ui=5.0, est=4.291366722826364, details={'was_impossible': True, 'reason': 'Not enough neighbors.'}),\n",
              " Prediction(uid='A35X2JJI49OBZP', iid='B00CDS9HTM', r_ui=5.0, est=5, details={'actual_k': 2, 'was_impossible': False}),\n",
              " Prediction(uid='AEIB3UR05OP7A', iid='B009SYZ8OC', r_ui=5.0, est=5, details={'actual_k': 2, 'was_impossible': False}),\n",
              " Prediction(uid='A2V9DTXTQ5YIMK', iid='B00AJHDZSI', r_ui=5.0, est=4.666666666666667, details={'actual_k': 3, 'was_impossible': False}),\n",
              " Prediction(uid='A1HBEQWSMVQEWJ', iid='B007WTAJTO', r_ui=5.0, est=4.332414422901259, details={'actual_k': 3, 'was_impossible': False}),\n",
              " Prediction(uid='A2JP9E1H0SF392', iid='B00CRJWW2G', r_ui=5.0, est=5, details={'actual_k': 1, 'was_impossible': False}),\n",
              " Prediction(uid='A1V4VVBQBFXRHC', iid='B005QCDY50', r_ui=5.0, est=4.5, details={'actual_k': 4, 'was_impossible': False}),\n",
              " Prediction(uid='A16QODENBJVUI1', iid='B003WCAX28', r_ui=5.0, est=4.291366722826364, details={'was_impossible': True, 'reason': 'Not enough neighbors.'}),\n",
              " Prediction(uid='A1UQBFCERIP7VJ', iid='B00AEZIESG', r_ui=4.0, est=4.833333333333333, details={'actual_k': 6, 'was_impossible': False}),\n",
              " Prediction(uid='A1PI8VBCXXSGC7', iid='B00CMJZAOI', r_ui=5.0, est=5, details={'actual_k': 2, 'was_impossible': False}),\n",
              " Prediction(uid='AR8LWDT6TUKNZ', iid='B005IGVY6K', r_ui=1.0, est=4.291366722826364, details={'was_impossible': True, 'reason': 'Not enough neighbors.'}),\n",
              " Prediction(uid='A1P0JSFW184ZXJ', iid='B008X9Z528', r_ui=5.0, est=4.666666666666667, details={'actual_k': 3, 'was_impossible': False}),\n",
              " Prediction(uid='A3M82NO6OU1FHS', iid='B008U69LC4', r_ui=4.0, est=4.291366722826364, details={'was_impossible': True, 'reason': 'Not enough neighbors.'}),\n",
              " Prediction(uid='A2HRHF83I3NDGT', iid='B0044DEDCA', r_ui=5.0, est=4.291366722826364, details={'was_impossible': True, 'reason': 'Not enough neighbors.'}),\n",
              " Prediction(uid='A1YEPFLLH42OU1', iid='B00923G46U', r_ui=4.0, est=4.291366722826364, details={'was_impossible': True, 'reason': 'Not enough neighbors.'}),\n",
              " Prediction(uid='A3L1VJMHFWONCB', iid='B00F6E4HXG', r_ui=4.0, est=4.0, details={'actual_k': 1, 'was_impossible': False}),\n",
              " Prediction(uid='A2JP9E1H0SF392', iid='B000VX6XL6', r_ui=5.0, est=4.5, details={'actual_k': 2, 'was_impossible': False}),\n",
              " Prediction(uid='A25FL6VLD7S23S', iid='B000EOSHGQ', r_ui=5.0, est=4.291366722826364, details={'was_impossible': True, 'reason': 'Not enough neighbors.'}),\n",
              " Prediction(uid='A2WPL6Y08K6ZQH', iid='B00IAKLM54', r_ui=5.0, est=5, details={'actual_k': 1, 'was_impossible': False}),\n",
              " Prediction(uid='A1BT6TL7UCIC5Y', iid='B003WKOENO', r_ui=5.0, est=5, details={'actual_k': 3, 'was_impossible': False}),\n",
              " Prediction(uid='A2TVH2OBNXYXHV', iid='B007Y4TTWU', r_ui=5.0, est=4.291366722826364, details={'was_impossible': True, 'reason': 'Not enough neighbors.'}),\n",
              " Prediction(uid='A296QED1MV1V0J', iid='B004RORMF6', r_ui=5.0, est=5, details={'actual_k': 2, 'was_impossible': False}),\n",
              " Prediction(uid='A3FEGTOLCWXSV4', iid='B008DWCRQW', r_ui=4.0, est=3.894387329163687, details={'actual_k': 11, 'was_impossible': False}),\n",
              " Prediction(uid='A1W415JP5WEAJK', iid='B008ET9VY0', r_ui=5.0, est=4.291366722826364, details={'was_impossible': True, 'reason': 'Not enough neighbors.'}),\n",
              " Prediction(uid='A1FDV3WPOHREY9', iid='B0011N180Q', r_ui=5.0, est=4.291366722826364, details={'was_impossible': True, 'reason': 'Not enough neighbors.'}),\n",
              " Prediction(uid='A2LCE1D0TW2XY0', iid='B000RFPBQQ', r_ui=5.0, est=4.291366722826364, details={'was_impossible': True, 'reason': 'Not enough neighbors.'}),\n",
              " Prediction(uid='A1BXVZSQOJE6UE', iid='B00EPQ97C2', r_ui=4.0, est=4.291366722826364, details={'was_impossible': True, 'reason': 'Not enough neighbors.'}),\n",
              " Prediction(uid='A2ZGDHLJ85T6AD', iid='B0028Y4H1O', r_ui=5.0, est=4.663934426229509, details={'actual_k': 3, 'was_impossible': False}),\n",
              " Prediction(uid='A20OBCQWBKCGZT', iid='B005276QS6', r_ui=5.0, est=4.0, details={'actual_k': 1, 'was_impossible': False}),\n",
              " Prediction(uid='A1GBU479WXR7UG', iid='B002HWRZ2K', r_ui=5.0, est=4.291366722826364, details={'was_impossible': True, 'reason': 'Not enough neighbors.'}),\n",
              " Prediction(uid='A2SZLNSI5KOQJT', iid='B002TOJXNU', r_ui=4.0, est=4.291366722826364, details={'was_impossible': True, 'reason': 'Not enough neighbors.'}),\n",
              " Prediction(uid='A313H6238N589', iid='B003EYVP12', r_ui=4.0, est=4.291366722826364, details={'was_impossible': True, 'reason': 'Not enough neighbors.'}),\n",
              " Prediction(uid='A19RW25Q6206I3', iid='B001WM73P0', r_ui=4.0, est=4.291366722826364, details={'was_impossible': True, 'reason': 'Not enough neighbors.'}),\n",
              " Prediction(uid='A3R1WFO4KIUQXZ', iid='B007RFW1NA', r_ui=4.0, est=4.291366722826364, details={'was_impossible': True, 'reason': 'Not enough neighbors.'}),\n",
              " Prediction(uid='A3CG93783LP0FO', iid='B001RQ2YF0', r_ui=4.0, est=4.291366722826364, details={'was_impossible': True, 'reason': 'Not enough neighbors.'}),\n",
              " Prediction(uid='A1FDSZISWIXH1A', iid='B0057UUB1G', r_ui=5.0, est=4.291366722826364, details={'was_impossible': True, 'reason': 'Not enough neighbors.'}),\n",
              " Prediction(uid='A11D1KHM7DVOQK', iid='B00005T39Y', r_ui=4.0, est=4.291366722826364, details={'was_impossible': True, 'reason': 'Not enough neighbors.'}),\n",
              " Prediction(uid='A36K2N527TXXJN', iid='B00E95OT6I', r_ui=4.0, est=4.7490634577783855, details={'actual_k': 8, 'was_impossible': False}),\n",
              " Prediction(uid='A7UPJYPAH73NC', iid='B00175VDY4', r_ui=5.0, est=4.291366722826364, details={'was_impossible': True, 'reason': 'Not enough neighbors.'}),\n",
              " Prediction(uid='A3IY316DRNF5F2', iid='B002K40R6G', r_ui=2.0, est=4.291366722826364, details={'was_impossible': True, 'reason': 'Not enough neighbors.'}),\n",
              " Prediction(uid='A2HRHF83I3NDGT', iid='B00FJRS5BA', r_ui=5.0, est=5, details={'actual_k': 1, 'was_impossible': False}),\n",
              " Prediction(uid='A680RUE1FDO8B', iid='B00BOHNYTW', r_ui=5.0, est=4.22169329663299, details={'actual_k': 9, 'was_impossible': False}),\n",
              " Prediction(uid='A4WEZJOIZIV4U', iid='B001XURP7W', r_ui=5.0, est=4.444444444444445, details={'actual_k': 9, 'was_impossible': False}),\n",
              " Prediction(uid='AGXMC3ITWZASE', iid='B001TH7GSW', r_ui=4.0, est=4.0, details={'actual_k': 4, 'was_impossible': False}),\n",
              " Prediction(uid='A3G7BEJJCPD6DS', iid='B004Z0S7K6', r_ui=2.0, est=4.291366722826364, details={'was_impossible': True, 'reason': 'Not enough neighbors.'}),\n",
              " Prediction(uid='AYB4ELCS5AM8P', iid='B009WZRCO6', r_ui=4.0, est=5, details={'actual_k': 1, 'was_impossible': False}),\n",
              " Prediction(uid='A1XE3M22N91451', iid='B004AZ38Z0', r_ui=5.0, est=4.291366722826364, details={'was_impossible': True, 'reason': 'Not enough neighbors.'}),\n",
              " Prediction(uid='A2NP9CGUSFP22E', iid='B003UI62AG', r_ui=5.0, est=4.291366722826364, details={'was_impossible': True, 'reason': 'Not enough neighbors.'}),\n",
              " Prediction(uid='AXU3VKZE848IY', iid='B0035JJOLE', r_ui=4.0, est=4.291366722826364, details={'was_impossible': True, 'reason': 'Not enough neighbors.'}),\n",
              " Prediction(uid='A3E68EBGXTWDNP', iid='B00007EDZG', r_ui=4.0, est=4.291366722826364, details={'was_impossible': True, 'reason': 'Not enough neighbors.'}),\n",
              " Prediction(uid='A3R19YKNL641X3', iid='B00G024X32', r_ui=5.0, est=5, details={'actual_k': 2, 'was_impossible': False}),\n",
              " Prediction(uid='A3R4794K2RVU1S', iid='B003ZM7YTA', r_ui=5.0, est=4.291366722826364, details={'was_impossible': True, 'reason': 'Not enough neighbors.'}),\n",
              " Prediction(uid='AAR7CEPXYJA0T', iid='B001JTQCU8', r_ui=1.0, est=4.291366722826364, details={'was_impossible': True, 'reason': 'User and/or item is unknown.'}),\n",
              " Prediction(uid='A3UW0PQLDUACMH', iid='B001HBIYSG', r_ui=5.0, est=4.291366722826364, details={'was_impossible': True, 'reason': 'Not enough neighbors.'}),\n",
              " Prediction(uid='A2JAEZ0FMAMJVW', iid='B00IVFDZBC', r_ui=5.0, est=5, details={'actual_k': 2, 'was_impossible': False}),\n",
              " Prediction(uid='A1PV5T5S4D5NPI', iid='B000CRFOMK', r_ui=5.0, est=4.291366722826364, details={'was_impossible': True, 'reason': 'Not enough neighbors.'}),\n",
              " Prediction(uid='A25C2M3QF9G7OQ', iid='B0037LQY7M', r_ui=5.0, est=4.291366722826364, details={'was_impossible': True, 'reason': 'Not enough neighbors.'}),\n",
              " Prediction(uid='A32O98PFC3OP7K', iid='B002BH3I9U', r_ui=4.0, est=5, details={'actual_k': 1, 'was_impossible': False}),\n",
              " Prediction(uid='A3T8WOFS5RD2IR', iid='B007YKUWN4', r_ui=5.0, est=5, details={'actual_k': 1, 'was_impossible': False}),\n",
              " Prediction(uid='A7UPJYPAH73NC', iid='B00HFRWWAM', r_ui=5.0, est=4.43121884092978, details={'actual_k': 7, 'was_impossible': False}),\n",
              " Prediction(uid='A259MPG6SOL02P', iid='B003UE52ME', r_ui=5.0, est=4.0, details={'actual_k': 1, 'was_impossible': False}),\n",
              " Prediction(uid='A34CSXOGVYF94S', iid='B006291K7A', r_ui=4.0, est=4.291366722826364, details={'was_impossible': True, 'reason': 'Not enough neighbors.'}),\n",
              " Prediction(uid='A100UD67AHFODS', iid='B00A83I8G2', r_ui=5.0, est=4.291366722826364, details={'was_impossible': True, 'reason': 'Not enough neighbors.'}),\n",
              " Prediction(uid='A3NEAETOSXDBOM', iid='B000BKJZ9Q', r_ui=5.0, est=2.0, details={'actual_k': 1, 'was_impossible': False}),\n",
              " Prediction(uid='A3VI2VETB90ZG5', iid='B000IJV4BC', r_ui=5.0, est=4.291366722826364, details={'was_impossible': True, 'reason': 'Not enough neighbors.'}),\n",
              " Prediction(uid='AVBLGXSWRN666', iid='B00EO96W2I', r_ui=4.0, est=4.291366722826364, details={'was_impossible': True, 'reason': 'Not enough neighbors.'}),\n",
              " Prediction(uid='AJEOFP6ZWY0MK', iid='B00CHRID4Y', r_ui=5.0, est=4.291366722826364, details={'was_impossible': True, 'reason': 'User and/or item is unknown.'}),\n",
              " Prediction(uid='AMS2CPERWN7JV', iid='B0030MITDK', r_ui=4.0, est=4.0, details={'actual_k': 1, 'was_impossible': False}),\n",
              " Prediction(uid='A3TPNC3TKGCCEI', iid='B007CRWQ74', r_ui=4.0, est=4.291366722826364, details={'was_impossible': True, 'reason': 'Not enough neighbors.'}),\n",
              " Prediction(uid='A26KXNN6H1IL0I', iid='B004BDORCO', r_ui=4.0, est=4.291366722826364, details={'was_impossible': True, 'reason': 'Not enough neighbors.'}),\n",
              " Prediction(uid='A2T3S3VTW65VO5', iid='B00212NO6W', r_ui=5.0, est=4.291366722826364, details={'was_impossible': True, 'reason': 'Not enough neighbors.'}),\n",
              " Prediction(uid='A2ZY3S7SD3QO8Z', iid='B003ZQYVVK', r_ui=2.0, est=4.0, details={'actual_k': 1, 'was_impossible': False}),\n",
              " Prediction(uid='A24J2Y1O22JYZX', iid='B007P4VOWC', r_ui=5.0, est=4.291366722826364, details={'was_impossible': True, 'reason': 'Not enough neighbors.'}),\n",
              " Prediction(uid='A1GW7V6S6XSXX3', iid='B00BLZDKX2', r_ui=5.0, est=5, details={'actual_k': 1, 'was_impossible': False}),\n",
              " Prediction(uid='A1C5WS021EL3WO', iid='B003XM9774', r_ui=5.0, est=4.291366722826364, details={'was_impossible': True, 'reason': 'Not enough neighbors.'}),\n",
              " Prediction(uid='A3EZEP0FX5BC1P', iid='B009LU80RK', r_ui=4.0, est=4.291366722826364, details={'was_impossible': True, 'reason': 'Not enough neighbors.'}),\n",
              " Prediction(uid='AY3D7DG5L5WCK', iid='B000SXWGA6', r_ui=3.0, est=4.291366722826364, details={'was_impossible': True, 'reason': 'Not enough neighbors.'}),\n",
              " Prediction(uid='A1TQBAHI3M4ZBQ', iid='B0007A1IRC', r_ui=5.0, est=4.291366722826364, details={'was_impossible': True, 'reason': 'Not enough neighbors.'}),\n",
              " Prediction(uid='A2W9I628I6SE1U', iid='B002PHLZXC', r_ui=4.0, est=4.291366722826364, details={'was_impossible': True, 'reason': 'Not enough neighbors.'}),\n",
              " Prediction(uid='ABDR6IJ93HFIO', iid='B00B4GGW5Q', r_ui=5.0, est=5, details={'actual_k': 1, 'was_impossible': False}),\n",
              " Prediction(uid='AZNUHQSHZHSUE', iid='B002XVUTPK', r_ui=5.0, est=4.291366722826364, details={'was_impossible': True, 'reason': 'Not enough neighbors.'}),\n",
              " Prediction(uid='A18GJ9MYYO6GCQ', iid='B004WK3U9W', r_ui=4.0, est=4.0, details={'actual_k': 1, 'was_impossible': False}),\n",
              " Prediction(uid='AP53MVRC8ZEW2', iid='B008R7EWEI', r_ui=5.0, est=4.291366722826364, details={'was_impossible': True, 'reason': 'Not enough neighbors.'}),\n",
              " Prediction(uid='AR1T36GLLAFFX', iid='B002V88HFE', r_ui=2.0, est=4.291366722826364, details={'was_impossible': True, 'reason': 'Not enough neighbors.'}),\n",
              " Prediction(uid='AS269J1OGZT1V', iid='B0093H4VSS', r_ui=4.0, est=4.291366722826364, details={'was_impossible': True, 'reason': 'Not enough neighbors.'}),\n",
              " Prediction(uid='A2L0F2T1DLTNT8', iid='B00BDRSCKY', r_ui=4.0, est=4.291366722826364, details={'was_impossible': True, 'reason': 'Not enough neighbors.'}),\n",
              " Prediction(uid='A2LB4FLRZG6CUV', iid='B001MSVPM6', r_ui=5.0, est=4.291366722826364, details={'was_impossible': True, 'reason': 'Not enough neighbors.'}),\n",
              " Prediction(uid='A225G2TFM76GYX', iid='B005CWHZP4', r_ui=5.0, est=5, details={'actual_k': 1, 'was_impossible': False}),\n",
              " Prediction(uid='A226VGZWOEBPGL', iid='B003Y74AXY', r_ui=4.0, est=4.291366722826364, details={'was_impossible': True, 'reason': 'Not enough neighbors.'}),\n",
              " Prediction(uid='A6FIAB28IS79', iid='B000NK8EWI', r_ui=5.0, est=4.291366722826364, details={'was_impossible': True, 'reason': 'Not enough neighbors.'}),\n",
              " Prediction(uid='AMUP8DYE7EAN2', iid='B0013F6HK8', r_ui=4.0, est=5, details={'actual_k': 1, 'was_impossible': False}),\n",
              " Prediction(uid='A1H4IVXNXWWBLV', iid='B0002ZLYYY', r_ui=3.0, est=4.291366722826364, details={'was_impossible': True, 'reason': 'Not enough neighbors.'}),\n",
              " Prediction(uid='A2AFTRU43PY9P5', iid='B005LS2GPI', r_ui=5.0, est=4.291366722826364, details={'was_impossible': True, 'reason': 'Not enough neighbors.'}),\n",
              " Prediction(uid='A25UZ7MA72SMKM', iid='B0088CJT4U', r_ui=5.0, est=4.563069800019059, details={'actual_k': 14, 'was_impossible': False}),\n",
              " Prediction(uid='A2F7CSE6KT7NI4', iid='B00AQUO5RI', r_ui=5.0, est=4.291366722826364, details={'was_impossible': True, 'reason': 'Not enough neighbors.'}),\n",
              " Prediction(uid='A1T1YSCDW0PD25', iid='B0006I09OS', r_ui=3.0, est=4.0, details={'actual_k': 2, 'was_impossible': False}),\n",
              " Prediction(uid='A20UU20K7M9ZPF', iid='B000JJSQ30', r_ui=5.0, est=4.291366722826364, details={'was_impossible': True, 'reason': 'Not enough neighbors.'}),\n",
              " Prediction(uid='ARBKYIVNYWK3C', iid='B00IIEC3O6', r_ui=5.0, est=4.291366722826364, details={'was_impossible': True, 'reason': 'Not enough neighbors.'}),\n",
              " Prediction(uid='AYNAH993VDECT', iid='B00BNK3JWM', r_ui=4.0, est=4.291366722826364, details={'was_impossible': True, 'reason': 'Not enough neighbors.'}),\n",
              " Prediction(uid='A11EXFO14WEJM1', iid='B001TH7T2U', r_ui=5.0, est=4.5, details={'actual_k': 2, 'was_impossible': False}),\n",
              " Prediction(uid='A22CW0ZHY3NJH8', iid='B00825BZUY', r_ui=4.0, est=4.666666666666667, details={'actual_k': 3, 'was_impossible': False}),\n",
              " Prediction(uid='A2LF07KCXDR70D', iid='B00006BBAC', r_ui=4.0, est=4.291366722826364, details={'was_impossible': True, 'reason': 'Not enough neighbors.'}),\n",
              " Prediction(uid='A2JKM8KF3296CW', iid='B001H35TPK', r_ui=4.0, est=4.291366722826364, details={'was_impossible': True, 'reason': 'Not enough neighbors.'}),\n",
              " Prediction(uid='AJEOFP6ZWY0MK', iid='B002SQK2F2', r_ui=5.0, est=5, details={'actual_k': 1, 'was_impossible': False}),\n",
              " Prediction(uid='ABQWMANK4AR63', iid='B00A7PPLP2', r_ui=4.0, est=3.6666666666666665, details={'actual_k': 3, 'was_impossible': False}),\n",
              " Prediction(uid='A365PBEOWM7EI7', iid='B001DVZXC0', r_ui=3.0, est=4.291366722826364, details={'was_impossible': True, 'reason': 'Not enough neighbors.'}),\n",
              " Prediction(uid='ANRS196NKFVUU', iid='B000VX6XL6', r_ui=5.0, est=5, details={'actual_k': 2, 'was_impossible': False}),\n",
              " Prediction(uid='AHS6PX6H22WW1', iid='B00511PS3C', r_ui=4.0, est=4.0, details={'actual_k': 1, 'was_impossible': False}),\n",
              " Prediction(uid='A1KKE6VX8VPWZK', iid='B005E8MVV4', r_ui=5.0, est=4.291366722826364, details={'was_impossible': True, 'reason': 'Not enough neighbors.'}),\n",
              " Prediction(uid='A36K2N527TXXJN', iid='B00HZVPD72', r_ui=5.0, est=5, details={'actual_k': 2, 'was_impossible': False}),\n",
              " Prediction(uid='A1R377IPZOKLMM', iid='B0096W1OCG', r_ui=5.0, est=5, details={'actual_k': 2, 'was_impossible': False}),\n",
              " Prediction(uid='A3D5B2CBFNJB0K', iid='B004T9RR6I', r_ui=5.0, est=4.540938762112725, details={'actual_k': 4, 'was_impossible': False}),\n",
              " Prediction(uid='A1ROUMJOGO4QMB', iid='B00629NHW6', r_ui=5.0, est=4.291366722826364, details={'was_impossible': True, 'reason': 'Not enough neighbors.'}),\n",
              " Prediction(uid='A1EH2S92FHWZRP', iid='B004JMZPJQ', r_ui=5.0, est=5, details={'actual_k': 2, 'was_impossible': False}),\n",
              " Prediction(uid='A12DQZKRKTNF5E', iid='B00D6PTMHI', r_ui=5.0, est=4.0, details={'actual_k': 1, 'was_impossible': False}),\n",
              " Prediction(uid='A2OTQMC69J8MUI', iid='B004BLIQEG', r_ui=5.0, est=4.291366722826364, details={'was_impossible': True, 'reason': 'User and/or item is unknown.'}),\n",
              " Prediction(uid='A2Y1WNETD9AYHO', iid='B002HHLOWC', r_ui=2.0, est=4.291366722826364, details={'was_impossible': True, 'reason': 'Not enough neighbors.'}),\n",
              " Prediction(uid='ARBKYIVNYWK3C', iid='B00F93IOR4', r_ui=5.0, est=4.0, details={'actual_k': 2, 'was_impossible': False}),\n",
              " Prediction(uid='A7EU2BWLLCJY2', iid='B0058FAYPI', r_ui=5.0, est=5, details={'actual_k': 1, 'was_impossible': False}),\n",
              " Prediction(uid='AYGEKID3G7DPW', iid='B006QB1RPY', r_ui=5.0, est=4.291366722826364, details={'was_impossible': True, 'reason': 'Not enough neighbors.'}),\n",
              " Prediction(uid='A1UQBFCERIP7VJ', iid='B0053R0WWG', r_ui=5.0, est=4.666326527418219, details={'actual_k': 6, 'was_impossible': False}),\n",
              " Prediction(uid='A226VGZWOEBPGL', iid='B000O8WE66', r_ui=5.0, est=4.50920245398773, details={'actual_k': 4, 'was_impossible': False}),\n",
              " Prediction(uid='A1Z16630QMH8Q6', iid='B008X9Z3UC', r_ui=5.0, est=5, details={'actual_k': 2, 'was_impossible': False}),\n",
              " Prediction(uid='A2GKMXRLI7KLFP', iid='B002Y2NI4M', r_ui=5.0, est=4.291366722826364, details={'was_impossible': True, 'reason': 'Not enough neighbors.'}),\n",
              " Prediction(uid='AR74YY08IP2WE', iid='B007IJ7UHC', r_ui=4.0, est=4.291366722826364, details={'was_impossible': True, 'reason': 'Not enough neighbors.'}),\n",
              " Prediction(uid='A1T1YSCDW0PD25', iid='B00005NIMR', r_ui=5.0, est=4.291366722826364, details={'was_impossible': True, 'reason': 'Not enough neighbors.'}),\n",
              " Prediction(uid='A3QJU4FEN8PQSZ', iid='B005FVNHBI', r_ui=3.0, est=4.0, details={'actual_k': 2, 'was_impossible': False}),\n",
              " Prediction(uid='A2PSD2R9A1CXG7', iid='B00EOYSH94', r_ui=4.0, est=4.291366722826364, details={'was_impossible': True, 'reason': 'Not enough neighbors.'}),\n",
              " Prediction(uid='A3V6Z4RCDGRC44', iid='B0007CZ70Y', r_ui=5.0, est=4.291366722826364, details={'was_impossible': True, 'reason': 'User and/or item is unknown.'}),\n",
              " Prediction(uid='A2AX2UGB167J31', iid='B002K9GCU6', r_ui=5.0, est=4.291366722826364, details={'was_impossible': True, 'reason': 'Not enough neighbors.'}),\n",
              " Prediction(uid='A3L9E0YI7C5G0W', iid='B0016RNX2I', r_ui=4.0, est=4.291366722826364, details={'was_impossible': True, 'reason': 'Not enough neighbors.'}),\n",
              " Prediction(uid='A16RI68PS6T5CA', iid='B00CI3BIWQ', r_ui=5.0, est=4.291366722826364, details={'was_impossible': True, 'reason': 'Not enough neighbors.'}),\n",
              " Prediction(uid='A1QVFHPY8418HC', iid='B00884WH74', r_ui=5.0, est=4.001548734774417, details={'actual_k': 4, 'was_impossible': False}),\n",
              " Prediction(uid='AE88D7OM7YU99', iid='B00HR7FWUC', r_ui=5.0, est=5, details={'actual_k': 2, 'was_impossible': False}),\n",
              " Prediction(uid='A2Y3WWPUKIJ59I', iid='B00066IJPQ', r_ui=1.0, est=4.291366722826364, details={'was_impossible': True, 'reason': 'Not enough neighbors.'}),\n",
              " Prediction(uid='A5JLAU2ARJ0BO', iid='B000TXEE14', r_ui=3.0, est=4.0, details={'actual_k': 5, 'was_impossible': False}),\n",
              " Prediction(uid='A2NOW4U7W3F7RI', iid='B00CMQTVK0', r_ui=5.0, est=5, details={'actual_k': 1, 'was_impossible': False}),\n",
              " Prediction(uid='A1Z16630QMH8Q6', iid='B0034CL2ZI', r_ui=5.0, est=5, details={'actual_k': 4, 'was_impossible': False}),\n",
              " Prediction(uid='A3Q4TYJVAM4IRM', iid='B001DJ9GOS', r_ui=5.0, est=5, details={'actual_k': 1, 'was_impossible': False}),\n",
              " Prediction(uid='A3LQUEB84IR3VO', iid='B001TH7GUU', r_ui=5.0, est=4.291366722826364, details={'was_impossible': True, 'reason': 'Not enough neighbors.'}),\n",
              " Prediction(uid='AZMY6E8B52L2T', iid='B00G537M7K', r_ui=5.0, est=5, details={'actual_k': 3, 'was_impossible': False}),\n",
              " Prediction(uid='A3FEGTOLCWXSV4', iid='B004GK0GKO', r_ui=3.0, est=5, details={'actual_k': 3, 'was_impossible': False}),\n",
              " Prediction(uid='A2PMR2PIGWKCQ9', iid='B00D695GS8', r_ui=4.0, est=4.291366722826364, details={'was_impossible': True, 'reason': 'Not enough neighbors.'}),\n",
              " Prediction(uid='A2X8KN82L07RSK', iid='B003BYRGJU', r_ui=4.0, est=4.291366722826364, details={'was_impossible': True, 'reason': 'User and/or item is unknown.'}),\n",
              " Prediction(uid='A39K52QDP4C3ZS', iid='B002Z2QDNE', r_ui=5.0, est=4.291366722826364, details={'was_impossible': True, 'reason': 'Not enough neighbors.'}),\n",
              " Prediction(uid='A2NYOY6H42SORF', iid='B004LWYE4Q', r_ui=5.0, est=4.291366722826364, details={'was_impossible': True, 'reason': 'Not enough neighbors.'}),\n",
              " Prediction(uid='AZ515FFZ7I2P7', iid='B00FF8ZRR8', r_ui=4.0, est=2.0, details={'actual_k': 1, 'was_impossible': False}),\n",
              " Prediction(uid='ANFJYYQ0P35CW', iid='B0056Z0SJM', r_ui=5.0, est=4.291366722826364, details={'was_impossible': True, 'reason': 'Not enough neighbors.'}),\n",
              " Prediction(uid='A1YEPFLLH42OU1', iid='B002V88HFE', r_ui=5.0, est=5, details={'actual_k': 1, 'was_impossible': False}),\n",
              " Prediction(uid='A3NCIN6TNL0MGA', iid='B0006OCEFY', r_ui=5.0, est=5, details={'actual_k': 1, 'was_impossible': False}),\n",
              " Prediction(uid='A1ATVMMJZP3Q4X', iid='B003ZUIHY8', r_ui=5.0, est=4.291366722826364, details={'was_impossible': True, 'reason': 'Not enough neighbors.'}),\n",
              " Prediction(uid='AEFTIUQHSVUFX', iid='B002SZEOLG', r_ui=3.0, est=1, details={'actual_k': 1, 'was_impossible': False}),\n",
              " Prediction(uid='AM3XNQU9TZBD8', iid='B004WIUDGM', r_ui=4.0, est=4.0, details={'actual_k': 4, 'was_impossible': False}),\n",
              " Prediction(uid='APOGXH3A74CM3', iid='B007XDFO9O', r_ui=5.0, est=4.291366722826364, details={'was_impossible': True, 'reason': 'Not enough neighbors.'}),\n",
              " Prediction(uid='A3TCMJ6GKZJFBQ', iid='B0009S5HQA', r_ui=5.0, est=4.291366722826364, details={'was_impossible': True, 'reason': 'Not enough neighbors.'}),\n",
              " Prediction(uid='ARTA78TP6H73D', iid='B00BEPFDJI', r_ui=4.0, est=4.291366722826364, details={'was_impossible': True, 'reason': 'User and/or item is unknown.'}),\n",
              " Prediction(uid='A3R19YKNL641X3', iid='B001CHHVCU', r_ui=3.0, est=4.666326527418219, details={'actual_k': 6, 'was_impossible': False}),\n",
              " Prediction(uid='A1L64KDYO5BOJA', iid='B0007QKMQY', r_ui=5.0, est=4.291366722826364, details={'was_impossible': True, 'reason': 'Not enough neighbors.'}),\n",
              " Prediction(uid='A27ADCSD15F3GL', iid='B00871SR68', r_ui=3.0, est=4.5, details={'actual_k': 2, 'was_impossible': False}),\n",
              " Prediction(uid='A3AYSYSLHU26U9', iid='B0002QLQ96', r_ui=3.0, est=4.291366722826364, details={'was_impossible': True, 'reason': 'User and/or item is unknown.'}),\n",
              " Prediction(uid='AHQRU3MRORIWQ', iid='B0088CJT4U', r_ui=5.0, est=4.008853310004048, details={'actual_k': 9, 'was_impossible': False}),\n",
              " Prediction(uid='A1MFPAM9TTRTXN', iid='B0052TIRQI', r_ui=5.0, est=4.291366722826364, details={'was_impossible': True, 'reason': 'Not enough neighbors.'}),\n",
              " Prediction(uid='A13BX9O5UDBILC', iid='B000RZDBM2', r_ui=4.0, est=4.5, details={'actual_k': 2, 'was_impossible': False}),\n",
              " Prediction(uid='A3S3R88HA0HZG3', iid='B00AQRUW4Q', r_ui=5.0, est=5, details={'actual_k': 5, 'was_impossible': False}),\n",
              " Prediction(uid='A1B4MIXYVIKMU2', iid='B002OB4BK8', r_ui=5.0, est=4.291366722826364, details={'was_impossible': True, 'reason': 'Not enough neighbors.'}),\n",
              " Prediction(uid='AVFJ327UXPXLF', iid='B003Y73Q5M', r_ui=4.0, est=4.291366722826364, details={'was_impossible': True, 'reason': 'Not enough neighbors.'}),\n",
              " Prediction(uid='ADLVFFE4VBT8', iid='B005EJLFXS', r_ui=3.0, est=3.8340929358817357, details={'actual_k': 6, 'was_impossible': False}),\n",
              " Prediction(uid='AHROSV6WJOEGY', iid='B000EPJL1A', r_ui=2.0, est=4.291366722826364, details={'was_impossible': True, 'reason': 'Not enough neighbors.'}),\n",
              " Prediction(uid='AQ2FC1DLKVD8H', iid='B00EKAPZ8S', r_ui=5.0, est=5, details={'actual_k': 1, 'was_impossible': False}),\n",
              " Prediction(uid='A3094EPI56GKZ6', iid='B003GSLFVG', r_ui=4.0, est=4.291366722826364, details={'was_impossible': True, 'reason': 'Not enough neighbors.'}),\n",
              " Prediction(uid='AUCIFMWP3DU8R', iid='B005A0B3FG', r_ui=5.0, est=4.291366722826364, details={'was_impossible': True, 'reason': 'Not enough neighbors.'}),\n",
              " Prediction(uid='A4IL0CLL27Q33', iid='B00DTPYQBM', r_ui=5.0, est=4.291366722826364, details={'was_impossible': True, 'reason': 'Not enough neighbors.'}),\n",
              " Prediction(uid='A2NPN06SYI5VL3', iid='B001GTT0VO', r_ui=5.0, est=4.291366722826364, details={'was_impossible': True, 'reason': 'Not enough neighbors.'}),\n",
              " Prediction(uid='A2DG63DN704LOI', iid='B00829THK0', r_ui=5.0, est=4.599542498468687, details={'actual_k': 10, 'was_impossible': False}),\n",
              " Prediction(uid='A6FIAB28IS79', iid='B000EEQ83K', r_ui=5.0, est=4.291366722826364, details={'was_impossible': True, 'reason': 'Not enough neighbors.'}),\n",
              " Prediction(uid='A2ARDVMUGDFED6', iid='B005HGBEZ2', r_ui=4.0, est=4.291366722826364, details={'was_impossible': True, 'reason': 'Not enough neighbors.'}),\n",
              " Prediction(uid='A1X3ESYZ79H59E', iid='B0060DVXZC', r_ui=5.0, est=4.291366722826364, details={'was_impossible': True, 'reason': 'Not enough neighbors.'}),\n",
              " Prediction(uid='ALHC64J88LVWO', iid='B00C2P61FO', r_ui=5.0, est=4.291366722826364, details={'was_impossible': True, 'reason': 'Not enough neighbors.'}),\n",
              " Prediction(uid='A213J54E63SYOP', iid='B0045IIZKU', r_ui=3.0, est=4.291366722826364, details={'was_impossible': True, 'reason': 'Not enough neighbors.'}),\n",
              " Prediction(uid='A33XMCG1UFDSY2', iid='B0015F1L7A', r_ui=4.0, est=4.291366722826364, details={'was_impossible': True, 'reason': 'Not enough neighbors.'}),\n",
              " Prediction(uid='A33HIV8RXRDM88', iid='B002VPDM2A', r_ui=5.0, est=4.291366722826364, details={'was_impossible': True, 'reason': 'Not enough neighbors.'}),\n",
              " Prediction(uid='A3QUDXLOJTKEP9', iid='B00AO1L1RG', r_ui=5.0, est=5, details={'actual_k': 1, 'was_impossible': False}),\n",
              " Prediction(uid='A3GVXKCTFN3YDN', iid='B001IZYV3S', r_ui=4.0, est=4.291366722826364, details={'was_impossible': True, 'reason': 'User and/or item is unknown.'}),\n",
              " Prediction(uid='A21I62TCDL4754', iid='B003HKRVAW', r_ui=4.0, est=4.291366722826364, details={'was_impossible': True, 'reason': 'Not enough neighbors.'}),\n",
              " Prediction(uid='A3O1FVLUD9X1XC', iid='B0057FRTPW', r_ui=4.0, est=4.291366722826364, details={'was_impossible': True, 'reason': 'Not enough neighbors.'}),\n",
              " Prediction(uid='AWPODHOB4GFWL', iid='B00834SJNA', r_ui=5.0, est=4.8, details={'actual_k': 5, 'was_impossible': False}),\n",
              " Prediction(uid='A2AY4YUOX2N1BQ', iid='B00DTZYHX4', r_ui=5.0, est=4.6, details={'actual_k': 5, 'was_impossible': False}),\n",
              " Prediction(uid='A23ZNGL704AW7O', iid='B004CLYJ1Y', r_ui=5.0, est=5, details={'actual_k': 1, 'was_impossible': False}),\n",
              " Prediction(uid='A36K2N527TXXJN', iid='B009YQ8BTI', r_ui=5.0, est=4.337815240183885, details={'actual_k': 3, 'was_impossible': False}),\n",
              " Prediction(uid='A3R33KMESG0XGQ', iid='B00IORDBPC', r_ui=3.0, est=4.333333333333333, details={'actual_k': 3, 'was_impossible': False}),\n",
              " Prediction(uid='A15J9K7O10A3M6', iid='B004SBBD8U', r_ui=2.0, est=4.291366722826364, details={'was_impossible': True, 'reason': 'Not enough neighbors.'}),\n",
              " Prediction(uid='A1KKE6VX8VPWZK', iid='B000U62N1S', r_ui=1.0, est=4.291366722826364, details={'was_impossible': True, 'reason': 'Not enough neighbors.'}),\n",
              " Prediction(uid='A1UQUDT2Q0YENM', iid='B003RRYAXQ', r_ui=2.0, est=2.0, details={'actual_k': 1, 'was_impossible': False}),\n",
              " Prediction(uid='AWH2AY17ZU7W2', iid='B007GR44PM', r_ui=2.0, est=4.291366722826364, details={'was_impossible': True, 'reason': 'Not enough neighbors.'}),\n",
              " Prediction(uid='A2HMF8ZR67BNZS', iid='B0017H4G0A', r_ui=4.0, est=4.291366722826364, details={'was_impossible': True, 'reason': 'Not enough neighbors.'}),\n",
              " Prediction(uid='A1U5IJHJK84S54', iid='B004M187ZI', r_ui=4.0, est=4.291366722826364, details={'was_impossible': True, 'reason': 'Not enough neighbors.'}),\n",
              " Prediction(uid='A23NSKTMSPPBTR', iid='B005UA65YA', r_ui=4.0, est=4.291366722826364, details={'was_impossible': True, 'reason': 'Not enough neighbors.'}),\n",
              " Prediction(uid='A2Y1WNETD9AYHO', iid='B000OFWJO6', r_ui=5.0, est=4.291366722826364, details={'was_impossible': True, 'reason': 'Not enough neighbors.'}),\n",
              " Prediction(uid='A1JWSDDIH5Z7DV', iid='B000V4PZCI', r_ui=5.0, est=4.291366722826364, details={'was_impossible': True, 'reason': 'User and/or item is unknown.'}),\n",
              " Prediction(uid='ADLVFFE4VBT8', iid='B002LARRDK', r_ui=5.0, est=4.335714308072466, details={'actual_k': 6, 'was_impossible': False}),\n",
              " Prediction(uid='A23GFTVIETX7DS', iid='B001MSF1FI', r_ui=5.0, est=4.291366722826364, details={'was_impossible': True, 'reason': 'Not enough neighbors.'}),\n",
              " Prediction(uid='A291XTI6NO7DEG', iid='B00007LTBA', r_ui=5.0, est=4.291366722826364, details={'was_impossible': True, 'reason': 'Not enough neighbors.'}),\n",
              " Prediction(uid='AVFJ327UXPXLF', iid='B002MCZJ78', r_ui=4.0, est=5, details={'actual_k': 1, 'was_impossible': False}),\n",
              " Prediction(uid='A2I6GN7OHB9JKF', iid='B0072XQI2W', r_ui=5.0, est=4.291366722826364, details={'was_impossible': True, 'reason': 'Not enough neighbors.'}),\n",
              " Prediction(uid='A29KJ32G75L7G9', iid='B0074BW614', r_ui=5.0, est=4.5, details={'actual_k': 2, 'was_impossible': False}),\n",
              " Prediction(uid='A200DY76VXVGP9', iid='B003LVZO8S', r_ui=5.0, est=4.291366722826364, details={'was_impossible': True, 'reason': 'Not enough neighbors.'}),\n",
              " Prediction(uid='A3EXWV8FNSSFL6', iid='B00H7F9IVI', r_ui=5.0, est=4.291366722826364, details={'was_impossible': True, 'reason': 'Not enough neighbors.'}),\n",
              " Prediction(uid='A31N0XY2UTB25C', iid='B003UDCPEI', r_ui=5.0, est=4.291366722826364, details={'was_impossible': True, 'reason': 'Not enough neighbors.'}),\n",
              " Prediction(uid='A3S0EHEIR52HP1', iid='B004W2JKWG', r_ui=5.0, est=4.291366722826364, details={'was_impossible': True, 'reason': 'Not enough neighbors.'}),\n",
              " Prediction(uid='A2V5M5EJPOD2IU', iid='B0000A0VET', r_ui=4.0, est=4.291366722826364, details={'was_impossible': True, 'reason': 'Not enough neighbors.'}),\n",
              " Prediction(uid='A186697K4XKXQL', iid='B00I2P53NY', r_ui=5.0, est=4.291366722826364, details={'was_impossible': True, 'reason': 'Not enough neighbors.'}),\n",
              " Prediction(uid='A2EW01G2LNJN06', iid='B003ELOSIW', r_ui=5.0, est=4.291366722826364, details={'was_impossible': True, 'reason': 'Not enough neighbors.'}),\n",
              " Prediction(uid='A2WLNSZ9U0T1S3', iid='B00J3HMY1E', r_ui=4.0, est=3.0, details={'actual_k': 1, 'was_impossible': False}),\n",
              " Prediction(uid='AFICF7DKHTQ87', iid='B001W0XZYA', r_ui=3.0, est=4.291366722826364, details={'was_impossible': True, 'reason': 'Not enough neighbors.'}),\n",
              " Prediction(uid='AT6CZDCP4TRGA', iid='B005DSPLDA', r_ui=4.0, est=4.291366722826364, details={'was_impossible': True, 'reason': 'Not enough neighbors.'}),\n",
              " Prediction(uid='A3F3B1JPACN215', iid='B00267S7XW', r_ui=4.0, est=4.291366722826364, details={'was_impossible': True, 'reason': 'Not enough neighbors.'}),\n",
              " Prediction(uid='A1WF4QNIE2Z3I7', iid='B00429N18S', r_ui=5.0, est=5, details={'actual_k': 1, 'was_impossible': False}),\n",
              " Prediction(uid='A2RW587355CMVA', iid='B00DW9U3B2', r_ui=5.0, est=4.291366722826364, details={'was_impossible': True, 'reason': 'Not enough neighbors.'}),\n",
              " Prediction(uid='A2A4X545ERLS7H', iid='B005H3I38Q', r_ui=5.0, est=4.291366722826364, details={'was_impossible': True, 'reason': 'Not enough neighbors.'}),\n",
              " Prediction(uid='A2XRMQA6PJ5ZJ8', iid='B000LRMS66', r_ui=5.0, est=4.8, details={'actual_k': 5, 'was_impossible': False}),\n",
              " Prediction(uid='A226VGZWOEBPGL', iid='B00834SJSK', r_ui=5.0, est=4.0, details={'actual_k': 3, 'was_impossible': False}),\n",
              " Prediction(uid='A1NQFT941TOTT7', iid='B000UY3NR8', r_ui=4.0, est=4.291366722826364, details={'was_impossible': True, 'reason': 'Not enough neighbors.'}),\n",
              " Prediction(uid='A2YRX8J4WM5BRX', iid='B000HI9O5W', r_ui=5.0, est=4.291366722826364, details={'was_impossible': True, 'reason': 'Not enough neighbors.'}),\n",
              " Prediction(uid='A2BLFCOPSMBOZ9', iid='B00IAKLM54', r_ui=1.0, est=4.333333333333333, details={'actual_k': 3, 'was_impossible': False}),\n",
              " Prediction(uid='A1K4G5YJDJQI6Q', iid='B0049MPQA4', r_ui=4.0, est=4.291366722826364, details={'was_impossible': True, 'reason': 'User and/or item is unknown.'}),\n",
              " Prediction(uid='AROQO2VDODT7', iid='B002NEGTT2', r_ui=5.0, est=4.291366722826364, details={'was_impossible': True, 'reason': 'Not enough neighbors.'}),\n",
              " Prediction(uid='A3L6L5O89JTX2T', iid='B001DVZXC0', r_ui=3.0, est=5, details={'actual_k': 1, 'was_impossible': False}),\n",
              " Prediction(uid='A3CFU12GS5CZCN', iid='B009NB8WR0', r_ui=5.0, est=4.291366722826364, details={'was_impossible': True, 'reason': 'Not enough neighbors.'}),\n",
              " Prediction(uid='A1Z16630QMH8Q6', iid='B000BSN4UY', r_ui=5.0, est=4.291366722826364, details={'was_impossible': True, 'reason': 'Not enough neighbors.'}),\n",
              " Prediction(uid='A2NPN06SYI5VL3', iid='B002VX0GJY', r_ui=4.0, est=4.291366722826364, details={'was_impossible': True, 'reason': 'Not enough neighbors.'}),\n",
              " Prediction(uid='A23ONMGKEWDG4M', iid='B00GC1ZMYA', r_ui=3.0, est=4.291366722826364, details={'was_impossible': True, 'reason': 'Not enough neighbors.'}),\n",
              " Prediction(uid='A18A5VSD0IPN14', iid='B0019EHU8G', r_ui=5.0, est=4.291366722826364, details={'was_impossible': True, 'reason': 'Not enough neighbors.'}),\n",
              " Prediction(uid='AWNJAY0M5UI70', iid='B003VAGXZC', r_ui=5.0, est=5, details={'actual_k': 1, 'was_impossible': False}),\n",
              " Prediction(uid='A2HXE29CU1I24Y', iid='B0000AKVHF', r_ui=5.0, est=4.291366722826364, details={'was_impossible': True, 'reason': 'Not enough neighbors.'}),\n",
              " Prediction(uid='A3NGOG8Z78AZSD', iid='B004MSQZUU', r_ui=3.0, est=3.0, details={'actual_k': 1, 'was_impossible': False}),\n",
              " Prediction(uid='A27B1U3OWCU14J', iid='B000NZVR3Q', r_ui=4.0, est=4.291366722826364, details={'was_impossible': True, 'reason': 'User and/or item is unknown.'}),\n",
              " Prediction(uid='A3EFSLEMHNPP6A', iid='B00007LTBA', r_ui=5.0, est=4.291366722826364, details={'was_impossible': True, 'reason': 'Not enough neighbors.'}),\n",
              " Prediction(uid='A1WUQF5HWBAQJU', iid='B00GTGETFG', r_ui=4.0, est=4.291366722826364, details={'was_impossible': True, 'reason': 'Not enough neighbors.'}),\n",
              " Prediction(uid='AZNUHQSHZHSUE', iid='B004QK7HI8', r_ui=5.0, est=5, details={'actual_k': 1, 'was_impossible': False}),\n",
              " Prediction(uid='A2PSD2R9A1CXG7', iid='B00006I53X', r_ui=5.0, est=4.291366722826364, details={'was_impossible': True, 'reason': 'Not enough neighbors.'}),\n",
              " Prediction(uid='A2OBDNQ5ZYU1L8', iid='B004OPV1JG', r_ui=3.0, est=4.291366722826364, details={'was_impossible': True, 'reason': 'Not enough neighbors.'}),\n",
              " Prediction(uid='A2NSMJVQY0RV9S', iid='B002BH3Z8E', r_ui=4.0, est=4.291366722826364, details={'was_impossible': True, 'reason': 'Not enough neighbors.'}),\n",
              " Prediction(uid='A2QI2JHSIQ3SN3', iid='B004W2JKWG', r_ui=4.0, est=4.291366722826364, details={'was_impossible': True, 'reason': 'Not enough neighbors.'}),\n",
              " Prediction(uid='A3VZH0PWLQ9BB1', iid='B00DR0PDNE', r_ui=5.0, est=4.645434608664713, details={'actual_k': 3, 'was_impossible': False}),\n",
              " Prediction(uid='A3EWJX7W1X7E79', iid='B003CJTQJC', r_ui=5.0, est=4.291366722826364, details={'was_impossible': True, 'reason': 'Not enough neighbors.'}),\n",
              " Prediction(uid='A2NOW4U7W3F7RI', iid='B000FJ89UO', r_ui=5.0, est=5, details={'actual_k': 1, 'was_impossible': False}),\n",
              " Prediction(uid='A31HE83MU98GBV', iid='B00IWYO42G', r_ui=4.0, est=4.291366722826364, details={'was_impossible': True, 'reason': 'Not enough neighbors.'}),\n",
              " Prediction(uid='A2JAEZ0FMAMJVW', iid='B004QK7HI8', r_ui=5.0, est=4.291366722826364, details={'was_impossible': True, 'reason': 'Not enough neighbors.'}),\n",
              " Prediction(uid='A2IT7S59GSASN7', iid='B0014KOB6Y', r_ui=5.0, est=4.291366722826364, details={'was_impossible': True, 'reason': 'Not enough neighbors.'}),\n",
              " Prediction(uid='A1CPRP3VFJRS1R', iid='B004HKIB6E', r_ui=5.0, est=4.291366722826364, details={'was_impossible': True, 'reason': 'Not enough neighbors.'}),\n",
              " Prediction(uid='A1IDAKX7OM3QIE', iid='B002NEG0VO', r_ui=4.0, est=4.291366722826364, details={'was_impossible': True, 'reason': 'Not enough neighbors.'}),\n",
              " Prediction(uid='A6VXZ1EEPRTLV', iid='B00JGGUZRC', r_ui=5.0, est=3.6666666666666665, details={'actual_k': 3, 'was_impossible': False}),\n",
              " Prediction(uid='A2BCDZO1XQLDH', iid='B000EOSHGQ', r_ui=5.0, est=4.291366722826364, details={'was_impossible': True, 'reason': 'Not enough neighbors.'}),\n",
              " Prediction(uid='A1KY5G5FP31F2F', iid='B00DBX371C', r_ui=5.0, est=4.291366722826364, details={'was_impossible': True, 'reason': 'Not enough neighbors.'}),\n",
              " Prediction(uid='A362FM6FYA1SYS', iid='B004V4IWHY', r_ui=5.0, est=4.291366722826364, details={'was_impossible': True, 'reason': 'Not enough neighbors.'}),\n",
              " Prediction(uid='A3S3R88HA0HZG3', iid='B001CHHVCU', r_ui=4.0, est=5, details={'actual_k': 2, 'was_impossible': False}),\n",
              " Prediction(uid='A1D9V11QUHXENQ', iid='B005SEZR0G', r_ui=4.0, est=5, details={'actual_k': 1, 'was_impossible': False}),\n",
              " Prediction(uid='AHS6PX6H22WW1', iid='B00DQZOD8Q', r_ui=4.0, est=4.0, details={'actual_k': 1, 'was_impossible': False}),\n",
              " Prediction(uid='A27M75LRSJ788H', iid='B007M506WS', r_ui=5.0, est=4.291366722826364, details={'was_impossible': True, 'reason': 'User and/or item is unknown.'}),\n",
              " Prediction(uid='A2HBOG4LVIY15L', iid='B001QUA6RA', r_ui=5.0, est=4.291366722826364, details={'was_impossible': True, 'reason': 'Not enough neighbors.'}),\n",
              " Prediction(uid='A2KYRPDKVBI2R4', iid='B003X26PMO', r_ui=4.0, est=4.291366722826364, details={'was_impossible': True, 'reason': 'Not enough neighbors.'}),\n",
              " Prediction(uid='A11IXJ8M1JO296', iid='B0096W1OCG', r_ui=5.0, est=4.291366722826364, details={'was_impossible': True, 'reason': 'Not enough neighbors.'}),\n",
              " Prediction(uid='A2LW5AL0KQ9P1M', iid='B00DQZO3JK', r_ui=3.0, est=4.5, details={'actual_k': 2, 'was_impossible': False}),\n",
              " Prediction(uid='A21S26XYPGXJZX', iid='B00AQRUW4Q', r_ui=4.0, est=5, details={'actual_k': 1, 'was_impossible': False}),\n",
              " Prediction(uid='A1EH2S92FHWZRP', iid='B003CFB1AS', r_ui=2.0, est=5, details={'actual_k': 1, 'was_impossible': False}),\n",
              " Prediction(uid='A31N0XY2UTB25C', iid='B005H3Q57M', r_ui=5.0, est=4.291366722826364, details={'was_impossible': True, 'reason': 'Not enough neighbors.'}),\n",
              " Prediction(uid='ASJLXOX1VD4DF', iid='B0054YF0C0', r_ui=1.0, est=3.7242115406030374, details={'actual_k': 4, 'was_impossible': False}),\n",
              " Prediction(uid='A1ZCSSCAGBCD49', iid='B003GAMO6Y', r_ui=3.0, est=4.0, details={'actual_k': 1, 'was_impossible': False}),\n",
              " Prediction(uid='A1VUN4JU731CBH', iid='B000HI9O5W', r_ui=3.0, est=4.291366722826364, details={'was_impossible': True, 'reason': 'Not enough neighbors.'}),\n",
              " Prediction(uid='A1NGFGBX2VCQS8', iid='B0097CZHAU', r_ui=2.0, est=4.372358386152996, details={'actual_k': 8, 'was_impossible': False}),\n",
              " Prediction(uid='A3PGVJF37JSHFO', iid='B0039BPG4C', r_ui=5.0, est=4.291366722826364, details={'was_impossible': True, 'reason': 'Not enough neighbors.'}),\n",
              " Prediction(uid='A7Z2J9V37ABCO', iid='B00EXPNFQO', r_ui=5.0, est=4.291366722826364, details={'was_impossible': True, 'reason': 'Not enough neighbors.'}),\n",
              " Prediction(uid='A3FOSLM5G1BO63', iid='B009NHWVIA', r_ui=5.0, est=3.5586318636000196, details={'actual_k': 9, 'was_impossible': False}),\n",
              " Prediction(uid='A30XZK10EZN9V4', iid='B003Y322RO', r_ui=5.0, est=4.291366722826364, details={'was_impossible': True, 'reason': 'User and/or item is unknown.'}),\n",
              " Prediction(uid='AZMY6E8B52L2T', iid='B00CBCUS1G', r_ui=5.0, est=5, details={'actual_k': 4, 'was_impossible': False}),\n",
              " Prediction(uid='A328S9RN3U5M68', iid='B00FW6T36Y', r_ui=5.0, est=5, details={'actual_k': 2, 'was_impossible': False}),\n",
              " Prediction(uid='A28RSMADFCBJDT', iid='B000M2TAN4', r_ui=3.0, est=4.291366722826364, details={'was_impossible': True, 'reason': 'Not enough neighbors.'}),\n",
              " Prediction(uid='A5CDMTW6JKV5G', iid='B000NWIOM6', r_ui=2.0, est=4.291366722826364, details={'was_impossible': True, 'reason': 'Not enough neighbors.'}),\n",
              " Prediction(uid='A231WM2Z2JL0U3', iid='B00004RC2D', r_ui=4.0, est=4.291366722826364, details={'was_impossible': True, 'reason': 'Not enough neighbors.'}),\n",
              " Prediction(uid='A3S5WYWYKSAI9C', iid='B00ADG5FLK', r_ui=4.0, est=4.0, details={'actual_k': 2, 'was_impossible': False}),\n",
              " Prediction(uid='ATFBVUXDIRXT6', iid='B004T9RR7C', r_ui=4.0, est=5, details={'actual_k': 1, 'was_impossible': False}),\n",
              " Prediction(uid='A3FOSLM5G1BO63', iid='B009WZRBPQ', r_ui=4.0, est=4.291366722826364, details={'was_impossible': True, 'reason': 'Not enough neighbors.'}),\n",
              " Prediction(uid='A1ZM846Y7AUYD', iid='B0002ZLYYY', r_ui=4.0, est=4.291366722826364, details={'was_impossible': True, 'reason': 'Not enough neighbors.'}),\n",
              " Prediction(uid='A33HIV8RXRDM88', iid='B005FVNHBI', r_ui=5.0, est=3.9939926270013792, details={'actual_k': 5, 'was_impossible': False}),\n",
              " Prediction(uid='A1ZU55TM45Y2R8', iid='B003LVZO92', r_ui=5.0, est=4.291366722826364, details={'was_impossible': True, 'reason': 'Not enough neighbors.'}),\n",
              " Prediction(uid='AAW7X3GRD8GY9', iid='B002MU1ZRS', r_ui=5.0, est=4.291366722826364, details={'was_impossible': True, 'reason': 'Not enough neighbors.'}),\n",
              " Prediction(uid='A19XPAWSWDRI3B', iid='B000P5AJXI', r_ui=4.0, est=5, details={'actual_k': 1, 'was_impossible': False}),\n",
              " Prediction(uid='A2NSMJVQY0RV9S', iid='B00009R6WY', r_ui=5.0, est=4.291366722826364, details={'was_impossible': True, 'reason': 'User and/or item is unknown.'}),\n",
              " Prediction(uid='AO2EURP2Y4JZM', iid='B00HFRWWAM', r_ui=4.0, est=4.6, details={'actual_k': 5, 'was_impossible': False}),\n",
              " Prediction(uid='A18FLOC8YQY0P8', iid='B009D79VH4', r_ui=4.0, est=5, details={'actual_k': 1, 'was_impossible': False}),\n",
              " Prediction(uid='AVTJEWTCJ3PBE', iid='B0014Z29OU', r_ui=5.0, est=5, details={'actual_k': 1, 'was_impossible': False}),\n",
              " Prediction(uid='A35HUT8MQMT21L', iid='B001SJVU6K', r_ui=1.0, est=4.0, details={'actual_k': 1, 'was_impossible': False}),\n",
              " Prediction(uid='AVPNQUVZWMDSX', iid='B00FJWKYP0', r_ui=3.0, est=4.291366722826364, details={'was_impossible': True, 'reason': 'Not enough neighbors.'}),\n",
              " Prediction(uid='A3EXWV8FNSSFL6', iid='B007MDQIH2', r_ui=5.0, est=5, details={'actual_k': 1, 'was_impossible': False}),\n",
              " Prediction(uid='A2LCE1D0TW2XY0', iid='B00006I53S', r_ui=4.0, est=2.0, details={'actual_k': 1, 'was_impossible': False}),\n",
              " Prediction(uid='A14X244VGHWPSX', iid='B00BAOX6C4', r_ui=4.0, est=4.291366722826364, details={'was_impossible': True, 'reason': 'Not enough neighbors.'}),\n",
              " Prediction(uid='A2858RV2VLI14X', iid='B004QBUL1C', r_ui=4.0, est=4.291366722826364, details={'was_impossible': True, 'reason': 'Not enough neighbors.'}),\n",
              " Prediction(uid='A2JAEZ0FMAMJVW', iid='B00DCM91WQ', r_ui=5.0, est=4.291366722826364, details={'was_impossible': True, 'reason': 'Not enough neighbors.'}),\n",
              " Prediction(uid='A1DQHS7MOVYYYA', iid='B00CALLZK6', r_ui=4.0, est=4.291366722826364, details={'was_impossible': True, 'reason': 'Not enough neighbors.'}),\n",
              " Prediction(uid='A1ZCSSCAGBCD49', iid='B002R5AM7C', r_ui=4.0, est=4.066114194556772, details={'actual_k': 15, 'was_impossible': False}),\n",
              " Prediction(uid='A3T4OHEAHOJ700', iid='B00CL8F98W', r_ui=2.0, est=4.5, details={'actual_k': 2, 'was_impossible': False}),\n",
              " Prediction(uid='A30KPB2ILF6K6J', iid='B00DTPYQBM', r_ui=4.0, est=5, details={'actual_k': 1, 'was_impossible': False}),\n",
              " Prediction(uid='A3R4794K2RVU1S', iid='B002QGDWLK', r_ui=5.0, est=5, details={'actual_k': 1, 'was_impossible': False}),\n",
              " Prediction(uid='AELK0E5DK7LIZ', iid='B001AZP8EW', r_ui=4.0, est=4.291366722826364, details={'was_impossible': True, 'reason': 'Not enough neighbors.'}),\n",
              " Prediction(uid='A3V0YR50F1XSKP', iid='B0039825LM', r_ui=5.0, est=4.291366722826364, details={'was_impossible': True, 'reason': 'Not enough neighbors.'}),\n",
              " Prediction(uid='A19HKRB4LU5YR', iid='B00IVPU6AA', r_ui=5.0, est=4.0, details={'actual_k': 1, 'was_impossible': False}),\n",
              " Prediction(uid='A3OYO7B6SS7QLH', iid='B000CKVOOY', r_ui=4.0, est=4.291366722826364, details={'was_impossible': True, 'reason': 'Not enough neighbors.'}),\n",
              " Prediction(uid='A1A5KUIIIHFF4U', iid='B0026SKZO0', r_ui=1.0, est=4.291366722826364, details={'was_impossible': True, 'reason': 'Not enough neighbors.'}),\n",
              " Prediction(uid='A2TN0U8173HM7A', iid='B0035B4LJM', r_ui=5.0, est=4.291366722826364, details={'was_impossible': True, 'reason': 'User and/or item is unknown.'}),\n",
              " Prediction(uid='A2V0I904FH7ABY', iid='B003LRVNUU', r_ui=3.0, est=5, details={'actual_k': 1, 'was_impossible': False}),\n",
              " Prediction(uid='A2DF62DP20RIXF', iid='B00D8T886S', r_ui=4.0, est=4.0, details={'actual_k': 1, 'was_impossible': False}),\n",
              " Prediction(uid='A2J96FILPQA01', iid='B005CPGHAA', r_ui=5.0, est=4.291366722826364, details={'was_impossible': True, 'reason': 'Not enough neighbors.'}),\n",
              " Prediction(uid='APGQTZZ4ZFPHO', iid='B00007E7JU', r_ui=5.0, est=5, details={'actual_k': 2, 'was_impossible': False}),\n",
              " Prediction(uid='A2XIOXRRYX0KZY', iid='B00FRMAOIO', r_ui=4.0, est=3.5, details={'actual_k': 2, 'was_impossible': False}),\n",
              " Prediction(uid='A14X244VGHWPSX', iid='B009YQ8BTI', r_ui=5.0, est=4.291366722826364, details={'was_impossible': True, 'reason': 'Not enough neighbors.'}),\n",
              " Prediction(uid='AIJQU979J6UFY', iid='B00CB2F65O', r_ui=5.0, est=4.0, details={'actual_k': 2, 'was_impossible': False}),\n",
              " Prediction(uid='A357B3PUHSVQA', iid='B005A0B7CA', r_ui=2.0, est=4.291366722826364, details={'was_impossible': True, 'reason': 'Not enough neighbors.'}),\n",
              " Prediction(uid='A328S9RN3U5M68', iid='B00B8KWMKW', r_ui=5.0, est=4.291366722826364, details={'was_impossible': True, 'reason': 'Not enough neighbors.'}),\n",
              " Prediction(uid='A2SNE4QQGVP13U', iid='B0039825LM', r_ui=4.0, est=4.0, details={'actual_k': 1, 'was_impossible': False}),\n",
              " Prediction(uid='A1KY5G5FP31F2F', iid='B009SYZ8OC', r_ui=5.0, est=5, details={'actual_k': 2, 'was_impossible': False}),\n",
              " Prediction(uid='A3MQ15651KGVLJ', iid='B004CLYE8C', r_ui=5.0, est=4.853791981510081, details={'actual_k': 7, 'was_impossible': False}),\n",
              " Prediction(uid='A34BZM6S9L7QI4', iid='B00DQZNWNI', r_ui=3.0, est=4.144145696824249, details={'actual_k': 7, 'was_impossible': False}),\n",
              " Prediction(uid='A1QQA7Y92L4F9R', iid='B003NE5JCE', r_ui=3.0, est=4.291366722826364, details={'was_impossible': True, 'reason': 'Not enough neighbors.'}),\n",
              " Prediction(uid='A3IJL9A50KVVZ1', iid='B002NEGTTW', r_ui=5.0, est=5, details={'actual_k': 1, 'was_impossible': False}),\n",
              " Prediction(uid='ASJLXOX1VD4DF', iid='B009M3UT16', r_ui=5.0, est=1, details={'actual_k': 1, 'was_impossible': False}),\n",
              " Prediction(uid='AY3D7DG5L5WCK', iid='B00G4FCKB2', r_ui=5.0, est=5, details={'actual_k': 3, 'was_impossible': False}),\n",
              " Prediction(uid='A680RUE1FDO8B', iid='B000TXEE14', r_ui=5.0, est=4.333333333333333, details={'actual_k': 3, 'was_impossible': False}),\n",
              " Prediction(uid='A33HIV8RXRDM88', iid='B004BDOGL6', r_ui=5.0, est=5, details={'actual_k': 1, 'was_impossible': False}),\n",
              " Prediction(uid='A3V8P0O224OBDB', iid='B00406YHLI', r_ui=5.0, est=1, details={'actual_k': 1, 'was_impossible': False}),\n",
              " Prediction(uid='AT6CZDCP4TRGA', iid='B003B3P2CY', r_ui=4.0, est=4.291366722826364, details={'was_impossible': True, 'reason': 'Not enough neighbors.'}),\n",
              " Prediction(uid='AYOTEJ617O60K', iid='B004TIIBMS', r_ui=5.0, est=4.291366722826364, details={'was_impossible': True, 'reason': 'Not enough neighbors.'}),\n",
              " Prediction(uid='AIBRTGBN07D6A', iid='B003YH9EZ8', r_ui=5.0, est=4.291366722826364, details={'was_impossible': True, 'reason': 'Not enough neighbors.'}),\n",
              " Prediction(uid='A2NJQF2UI60VGT', iid='B0055QYJIS', r_ui=5.0, est=5, details={'actual_k': 1, 'was_impossible': False}),\n",
              " Prediction(uid='A2D0CO1OA6DSWY', iid='B001K9BFB8', r_ui=5.0, est=4.291366722826364, details={'was_impossible': True, 'reason': 'Not enough neighbors.'}),\n",
              " Prediction(uid='A1ZCSSCAGBCD49', iid='B00BQ5RY1G', r_ui=4.0, est=4.545836543402008, details={'actual_k': 2, 'was_impossible': False}),\n",
              " Prediction(uid='A4D5B7Q8A7PA6', iid='B00DYVK304', r_ui=5.0, est=5, details={'actual_k': 1, 'was_impossible': False}),\n",
              " Prediction(uid='A31N0XY2UTB25C', iid='B00FJRS5BA', r_ui=5.0, est=5, details={'actual_k': 1, 'was_impossible': False}),\n",
              " Prediction(uid='A215IN14OKAE2T', iid='B0074BW614', r_ui=3.0, est=4.291366722826364, details={'was_impossible': True, 'reason': 'Not enough neighbors.'}),\n",
              " Prediction(uid='A1P0JSFW184ZXJ', iid='B002LITI8E', r_ui=5.0, est=4.291366722826364, details={'was_impossible': True, 'reason': 'Not enough neighbors.'}),\n",
              " Prediction(uid='A1MJMYLRTZ76ZX', iid='B001BXS4LW', r_ui=2.0, est=4.291366722826364, details={'was_impossible': True, 'reason': 'Not enough neighbors.'}),\n",
              " Prediction(uid='A2XAKGRUHIE2ZA', iid='B003ZUIHY8', r_ui=5.0, est=4.291366722826364, details={'was_impossible': True, 'reason': 'Not enough neighbors.'}),\n",
              " Prediction(uid='A3J8A5L5AF5TX9', iid='B0002WPSBC', r_ui=5.0, est=4.291366722826364, details={'was_impossible': True, 'reason': 'Not enough neighbors.'}),\n",
              " Prediction(uid='A1UQBFCERIP7VJ', iid='B00829THK0', r_ui=4.0, est=4.442934782608695, details={'actual_k': 9, 'was_impossible': False}),\n",
              " Prediction(uid='A1OMXVXXP07F05', iid='B005VTGB0S', r_ui=1.0, est=4.291366722826364, details={'was_impossible': True, 'reason': 'Not enough neighbors.'}),\n",
              " Prediction(uid='AGGAQLXPVGM5D', iid='B002VPE21A', r_ui=4.0, est=5, details={'actual_k': 1, 'was_impossible': False}),\n",
              " Prediction(uid='AY4EXFOO43C3S', iid='B008TCUXLW', r_ui=3.0, est=4.291366722826364, details={'was_impossible': True, 'reason': 'Not enough neighbors.'}),\n",
              " Prediction(uid='A3TCMJ6GKZJFBQ', iid='B008O2HVIK', r_ui=5.0, est=4.291366722826364, details={'was_impossible': True, 'reason': 'Not enough neighbors.'}),\n",
              " Prediction(uid='A3QU3O79AGNWCY', iid='B000FKQ8LA', r_ui=5.0, est=5, details={'actual_k': 2, 'was_impossible': False}),\n",
              " Prediction(uid='A1ODOGXEYECQQ8', iid='B0041L3JS4', r_ui=4.0, est=5, details={'actual_k': 1, 'was_impossible': False}),\n",
              " Prediction(uid='AVSMRPI23DQI2', iid='B0002GDIII', r_ui=5.0, est=4.291366722826364, details={'was_impossible': True, 'reason': 'Not enough neighbors.'}),\n",
              " Prediction(uid='A3J029KBNG5MNP', iid='B00E964YGC', r_ui=5.0, est=4.291366722826364, details={'was_impossible': True, 'reason': 'Not enough neighbors.'}),\n",
              " Prediction(uid='AS2II0671KT2C', iid='B0035B4LJM', r_ui=5.0, est=4.291366722826364, details={'was_impossible': True, 'reason': 'User and/or item is unknown.'}),\n",
              " Prediction(uid='A2X06FP2PQ6EK0', iid='B0007R4LI8', r_ui=2.0, est=4.291366722826364, details={'was_impossible': True, 'reason': 'User and/or item is unknown.'}),\n",
              " Prediction(uid='AULFLNWJP1QXY', iid='B004CLYEAK', r_ui=4.0, est=4.291366722826364, details={'was_impossible': True, 'reason': 'Not enough neighbors.'}),\n",
              " Prediction(uid='A1AWL9JASMG904', iid='B000BSJFJS', r_ui=5.0, est=4.291366722826364, details={'was_impossible': True, 'reason': 'Not enough neighbors.'}),\n",
              " Prediction(uid='A3D822N1K2IAQD', iid='B005X4Q12E', r_ui=3.0, est=4.0, details={'actual_k': 2, 'was_impossible': False}),\n",
              " Prediction(uid='A3MQ15651KGVLJ', iid='B00EEBS9O0', r_ui=5.0, est=5, details={'actual_k': 1, 'was_impossible': False}),\n",
              " Prediction(uid='A1CMWB7AWQUQH4', iid='B004QK7HI8', r_ui=3.0, est=4.291366722826364, details={'was_impossible': True, 'reason': 'Not enough neighbors.'}),\n",
              " Prediction(uid='A1W415JP5WEAJK', iid='B0092KRAVQ', r_ui=5.0, est=5, details={'actual_k': 2, 'was_impossible': False}),\n",
              " Prediction(uid='AYNAH993VDECT', iid='B0093HAWZY', r_ui=5.0, est=4.5, details={'actual_k': 2, 'was_impossible': False}),\n",
              " Prediction(uid='A2DIQTZPF26T1L', iid='B00EOAS4UA', r_ui=1.0, est=4.291366722826364, details={'was_impossible': True, 'reason': 'Not enough neighbors.'}),\n",
              " Prediction(uid='A1N5FSCYN4796F', iid='B002V88HFE', r_ui=4.0, est=3.0, details={'actual_k': 2, 'was_impossible': False}),\n",
              " Prediction(uid='AVFJ327UXPXLF', iid='B005A0B3MO', r_ui=5.0, est=5, details={'actual_k': 1, 'was_impossible': False}),\n",
              " Prediction(uid='A54S9CIUV5VNB', iid='B000RZQZM0', r_ui=4.0, est=4.291366722826364, details={'was_impossible': True, 'reason': 'Not enough neighbors.'}),\n",
              " Prediction(uid='A3S3R88HA0HZG3', iid='B004ZP74UA', r_ui=5.0, est=5, details={'actual_k': 1, 'was_impossible': False}),\n",
              " Prediction(uid='A2NPN06SYI5VL3', iid='B002TA7VO2', r_ui=5.0, est=4.291366722826364, details={'was_impossible': True, 'reason': 'Not enough neighbors.'}),\n",
              " Prediction(uid='A3HSDV9Y0TV5Z2', iid='B002K7EJDK', r_ui=5.0, est=4.291366722826364, details={'was_impossible': True, 'reason': 'Not enough neighbors.'}),\n",
              " Prediction(uid='A3R19YKNL641X3', iid='B00L26YDA4', r_ui=4.0, est=5, details={'actual_k': 2, 'was_impossible': False}),\n",
              " Prediction(uid='A3LZA698SQPCXE', iid='B006Y3IDYC', r_ui=3.0, est=4.291366722826364, details={'was_impossible': True, 'reason': 'Not enough neighbors.'}),\n",
              " Prediction(uid='A3S3R88HA0HZG3', iid='B00BQ5RY1G', r_ui=5.0, est=5, details={'actual_k': 2, 'was_impossible': False}),\n",
              " Prediction(uid='A2XIOXRRYX0KZY', iid='B004BDORE2', r_ui=4.0, est=4.0, details={'actual_k': 1, 'was_impossible': False}),\n",
              " Prediction(uid='A3GFQHHVMEAIO', iid='B000IJV4BC', r_ui=4.0, est=4.291366722826364, details={'was_impossible': True, 'reason': 'Not enough neighbors.'}),\n",
              " Prediction(uid='A1DQHS7MOVYYYA', iid='B002EVP85K', r_ui=5.0, est=4.291366722826364, details={'was_impossible': True, 'reason': 'User and/or item is unknown.'}),\n",
              " Prediction(uid='A2V0I904FH7ABY', iid='B00452V66G', r_ui=5.0, est=4.499265779267279, details={'actual_k': 4, 'was_impossible': False}),\n",
              " Prediction(uid='A2XHOLOLKGV1FE', iid='B001D8S9E2', r_ui=1.0, est=4.291366722826364, details={'was_impossible': True, 'reason': 'Not enough neighbors.'}),\n",
              " Prediction(uid='AT28RL25Q2OLK', iid='B0009BX0AM', r_ui=5.0, est=4.291366722826364, details={'was_impossible': True, 'reason': 'Not enough neighbors.'}),\n",
              " Prediction(uid='A3EPJSPH03AS29', iid='B005FRI50K', r_ui=5.0, est=4.291366722826364, details={'was_impossible': True, 'reason': 'Not enough neighbors.'}),\n",
              " Prediction(uid='A1YVO5V1SO18DZ', iid='B00HWMPRKM', r_ui=5.0, est=4.5, details={'actual_k': 2, 'was_impossible': False}),\n",
              " Prediction(uid='A1W4F91DH3XPB2', iid='B005OB1TU0', r_ui=4.0, est=4.291366722826364, details={'was_impossible': True, 'reason': 'Not enough neighbors.'}),\n",
              " Prediction(uid='A1VQBEW0G4IH1J', iid='B00486TLQ6', r_ui=4.0, est=5, details={'actual_k': 2, 'was_impossible': False}),\n",
              " Prediction(uid='A3LQUEB84IR3VO', iid='B004NY9UV4', r_ui=5.0, est=5, details={'actual_k': 1, 'was_impossible': False}),\n",
              " Prediction(uid='A38Z6QG6988WS7', iid='B006U3O566', r_ui=5.0, est=5, details={'actual_k': 1, 'was_impossible': False}),\n",
              " Prediction(uid='A1YEPFLLH42OU1', iid='B00368CDH6', r_ui=5.0, est=4.291366722826364, details={'was_impossible': True, 'reason': 'User and/or item is unknown.'}),\n",
              " Prediction(uid='ADLVFFE4VBT8', iid='B008AF383S', r_ui=5.0, est=4.291366722826364, details={'was_impossible': True, 'reason': 'Not enough neighbors.'}),\n",
              " Prediction(uid='A2XCCN239AR1XK', iid='B007KFLV9W', r_ui=5.0, est=4.291366722826364, details={'was_impossible': True, 'reason': 'Not enough neighbors.'}),\n",
              " Prediction(uid='AENULRBQ2IE5I', iid='B000I68BD4', r_ui=5.0, est=5, details={'actual_k': 1, 'was_impossible': False}),\n",
              " Prediction(uid='AGEWOMQ90BV8R', iid='B00009ZWC8', r_ui=5.0, est=5, details={'actual_k': 1, 'was_impossible': False}),\n",
              " Prediction(uid='A3R4794K2RVU1S', iid='B000NLLXVQ', r_ui=5.0, est=4.291366722826364, details={'was_impossible': True, 'reason': 'User and/or item is unknown.'}),\n",
              " Prediction(uid='A2V5M5EJPOD2IU', iid='B007V9SNNY', r_ui=5.0, est=4.291366722826364, details={'was_impossible': True, 'reason': 'Not enough neighbors.'}),\n",
              " Prediction(uid='ARXU3FESTWMJJ', iid='B003CYKYU2', r_ui=3.0, est=4.291366722826364, details={'was_impossible': True, 'reason': 'Not enough neighbors.'}),\n",
              " Prediction(uid='A3IK2VCQ007CJ', iid='B00429N18S', r_ui=5.0, est=4.291366722826364, details={'was_impossible': True, 'reason': 'Not enough neighbors.'}),\n",
              " Prediction(uid='A1MFVAHTT2BHM0', iid='B002I3OZB2', r_ui=5.0, est=4.291366722826364, details={'was_impossible': True, 'reason': 'Not enough neighbors.'}),\n",
              " Prediction(uid='A30ADSBTWCORYC', iid='B000VX6XL6', r_ui=5.0, est=5, details={'actual_k': 1, 'was_impossible': False}),\n",
              " Prediction(uid='A4IL0CLL27Q33', iid='B00EMHVVNM', r_ui=5.0, est=4.291366722826364, details={'was_impossible': True, 'reason': 'Not enough neighbors.'}),\n",
              " Prediction(uid='A3UXW18DP4WSD6', iid='B000I20AJ6', r_ui=5.0, est=5, details={'actual_k': 1, 'was_impossible': False}),\n",
              " Prediction(uid='A1N5FSCYN4796F', iid='B0092T864W', r_ui=4.0, est=3.0, details={'actual_k': 1, 'was_impossible': False}),\n",
              " Prediction(uid='A3EZEP0FX5BC1P', iid='B0052SCTLI', r_ui=4.0, est=4.0, details={'actual_k': 1, 'was_impossible': False}),\n",
              " Prediction(uid='A2V0I904FH7ABY', iid='B001TZWNF0', r_ui=5.0, est=4.291366722826364, details={'was_impossible': True, 'reason': 'Not enough neighbors.'}),\n",
              " Prediction(uid='A84FLVDK2R5JF', iid='B005KFONIU', r_ui=5.0, est=4.0, details={'actual_k': 4, 'was_impossible': False}),\n",
              " Prediction(uid='A2WLNSZ9U0T1S3', iid='B001NJ0WCS', r_ui=5.0, est=4.333333333333333, details={'actual_k': 3, 'was_impossible': False}),\n",
              " Prediction(uid='AGXV8E7XK9J6H', iid='B0000AKVHF', r_ui=5.0, est=4.291366722826364, details={'was_impossible': True, 'reason': 'Not enough neighbors.'}),\n",
              " Prediction(uid='A38RMU1Y5TDP9', iid='B0035FZJJ4', r_ui=4.0, est=4.291366722826364, details={'was_impossible': True, 'reason': 'User and/or item is unknown.'}),\n",
              " Prediction(uid='A2I2KPNJDQ9SL0', iid='B000V0GXR8', r_ui=5.0, est=4.291366722826364, details={'was_impossible': True, 'reason': 'Not enough neighbors.'}),\n",
              " Prediction(uid='A2503LT8PZIHAD', iid='B000V1MLBE', r_ui=4.0, est=4.002042920122631, details={'actual_k': 3, 'was_impossible': False}),\n",
              " Prediction(uid='A2V0I904FH7ABY', iid='B002TLTE6Y', r_ui=5.0, est=4.291366722826364, details={'was_impossible': True, 'reason': 'Not enough neighbors.'}),\n",
              " Prediction(uid='A36K2N527TXXJN', iid='B005IZ65G0', r_ui=4.0, est=4.291366722826364, details={'was_impossible': True, 'reason': 'User and/or item is unknown.'}),\n",
              " Prediction(uid='A26CPEEWB2WKRE', iid='B009X2OS72', r_ui=5.0, est=2.0, details={'actual_k': 1, 'was_impossible': False}),\n",
              " Prediction(uid='A2XRMQA6PJ5ZJ8', iid='B001O92JFK', r_ui=4.0, est=4.291366722826364, details={'was_impossible': True, 'reason': 'Not enough neighbors.'}),\n",
              " Prediction(uid='A1B8EJQU73YGL9', iid='B0059AK8HQ', r_ui=4.0, est=4.291366722826364, details={'was_impossible': True, 'reason': 'Not enough neighbors.'}),\n",
              " Prediction(uid='A3IOQ7NVVLAUEE', iid='B008RGD114', r_ui=5.0, est=4.291366722826364, details={'was_impossible': True, 'reason': 'User and/or item is unknown.'}),\n",
              " Prediction(uid='A2J0IBS4PFRO2C', iid='B000A5TAT2', r_ui=4.0, est=4.291366722826364, details={'was_impossible': True, 'reason': 'Not enough neighbors.'}),\n",
              " Prediction(uid='A3DOPYDOS49I3T', iid='B004TLH6H6', r_ui=5.0, est=4.291366722826364, details={'was_impossible': True, 'reason': 'Not enough neighbors.'}),\n",
              " Prediction(uid='A1BC62X6HZJGZR', iid='B0023Y9EQC', r_ui=4.0, est=4.291366722826364, details={'was_impossible': True, 'reason': 'Not enough neighbors.'}),\n",
              " Prediction(uid='A294BKN913UOGP', iid='B001G1ZPV6', r_ui=5.0, est=4.291366722826364, details={'was_impossible': True, 'reason': 'Not enough neighbors.'}),\n",
              " Prediction(uid='A19RGDJPNZ7NZ', iid='B00APQM1S8', r_ui=4.0, est=4.291366722826364, details={'was_impossible': True, 'reason': 'Not enough neighbors.'}),\n",
              " Prediction(uid='AFICF7DKHTQ87', iid='B00HGE3C5I', r_ui=3.0, est=3.0, details={'actual_k': 1, 'was_impossible': False}),\n",
              " Prediction(uid='A194Y47BF3CUTJ', iid='B00004WCGF', r_ui=5.0, est=4.291366722826364, details={'was_impossible': True, 'reason': 'Not enough neighbors.'}),\n",
              " Prediction(uid='AJX9A4Q19UTJU', iid='B007JCNOHI', r_ui=4.0, est=4.0, details={'actual_k': 1, 'was_impossible': False}),\n",
              " Prediction(uid='A680RUE1FDO8B', iid='B006WHPQUO', r_ui=5.0, est=4.291366722826364, details={'was_impossible': True, 'reason': 'Not enough neighbors.'}),\n",
              " Prediction(uid='AYB4ELCS5AM8P', iid='B00GMTN96U', r_ui=5.0, est=5, details={'actual_k': 6, 'was_impossible': False}),\n",
              " Prediction(uid='A23GFTVIETX7DS', iid='B000FVGM38', r_ui=5.0, est=3.6, details={'actual_k': 5, 'was_impossible': False}),\n",
              " Prediction(uid='A3AVJCB1ZD6ZY5', iid='B00BQ4F9ZA', r_ui=5.0, est=5, details={'actual_k': 2, 'was_impossible': False}),\n",
              " Prediction(uid='AT8V3JOZD3KWK', iid='B00768SBAU', r_ui=5.0, est=4.291366722826364, details={'was_impossible': True, 'reason': 'User and/or item is unknown.'}),\n",
              " Prediction(uid='A2PMR2PIGWKCQ9', iid='B008OEHPKM', r_ui=5.0, est=5, details={'actual_k': 1, 'was_impossible': False}),\n",
              " Prediction(uid='A21KNRUAA5RK5E', iid='B003GAMO7I', r_ui=4.0, est=4.291366722826364, details={'was_impossible': True, 'reason': 'Not enough neighbors.'}),\n",
              " Prediction(uid='A2WB7LZ595CR50', iid='B003X26LYG', r_ui=4.0, est=2.5, details={'actual_k': 2, 'was_impossible': False}),\n",
              " Prediction(uid='A2XCCN239AR1XK', iid='B00829THK0', r_ui=4.0, est=4.5995945234943365, details={'actual_k': 5, 'was_impossible': False}),\n",
              " Prediction(uid='A3SVYWA9O1KUQV', iid='B00425S1H8', r_ui=5.0, est=4.291366722826364, details={'was_impossible': True, 'reason': 'Not enough neighbors.'}),\n",
              " Prediction(uid='A2VIYTWXANL343', iid='B001T6K7G6', r_ui=5.0, est=4.291366722826364, details={'was_impossible': True, 'reason': 'User and/or item is unknown.'}),\n",
              " Prediction(uid='A1EVV74UQYVKRY', iid='B004G6002M', r_ui=5.0, est=5, details={'actual_k': 6, 'was_impossible': False}),\n",
              " Prediction(uid='A3UQSOJW51UU9T', iid='B0027FGW3K', r_ui=2.0, est=4.291366722826364, details={'was_impossible': True, 'reason': 'Not enough neighbors.'}),\n",
              " Prediction(uid='A1QJ10LEINDRWW', iid='B000H4CLXS', r_ui=5.0, est=4.291366722826364, details={'was_impossible': True, 'reason': 'Not enough neighbors.'}),\n",
              " Prediction(uid='A2XIOXRRYX0KZY', iid='B00G4FCHH4', r_ui=4.0, est=4.0, details={'actual_k': 2, 'was_impossible': False}),\n",
              " Prediction(uid='A1F1A0QQP2XVH5', iid='B00EL8NJ82', r_ui=5.0, est=4.291366722826364, details={'was_impossible': True, 'reason': 'Not enough neighbors.'}),\n",
              " Prediction(uid='A3F3B6HY9RJI04', iid='B002VR6A9K', r_ui=4.0, est=5, details={'actual_k': 1, 'was_impossible': False}),\n",
              " Prediction(uid='A15J71JLC29KPW', iid='B003FMVPFY', r_ui=4.0, est=4.291366722826364, details={'was_impossible': True, 'reason': 'Not enough neighbors.'}),\n",
              " Prediction(uid='A1Y85GQ09Y95JL', iid='B000CKVOOY', r_ui=5.0, est=5, details={'actual_k': 1, 'was_impossible': False}),\n",
              " Prediction(uid='AXU8RH1DEV21H', iid='B005FYNSPK', r_ui=5.0, est=5, details={'actual_k': 2, 'was_impossible': False}),\n",
              " Prediction(uid='A3R19YKNL641X3', iid='B00119T6NQ', r_ui=5.0, est=4.5, details={'actual_k': 2, 'was_impossible': False}),\n",
              " Prediction(uid='AVPNQUVZWMDSX', iid='B0054YF0C0', r_ui=2.0, est=4.0, details={'actual_k': 2, 'was_impossible': False}),\n",
              " Prediction(uid='A2QRXQPHDMFCQV', iid='B0098QUW1E', r_ui=4.0, est=4.291366722826364, details={'was_impossible': True, 'reason': 'Not enough neighbors.'}),\n",
              " Prediction(uid='A7KBAXO177NND', iid='B00139W0XM', r_ui=5.0, est=4.291366722826364, details={'was_impossible': True, 'reason': 'Not enough neighbors.'}),\n",
              " Prediction(uid='A2J96FILPQA01', iid='B0063K4NN6', r_ui=5.0, est=4.291366722826364, details={'was_impossible': True, 'reason': 'Not enough neighbors.'}),\n",
              " Prediction(uid='A1522TN5FVJL0Y', iid='B00005OQMO', r_ui=5.0, est=4.291366722826364, details={'was_impossible': True, 'reason': 'Not enough neighbors.'}),\n",
              " Prediction(uid='A2RU4U1JZ3DMP5', iid='B00372561Q', r_ui=4.0, est=4.291366722826364, details={'was_impossible': True, 'reason': 'Not enough neighbors.'}),\n",
              " Prediction(uid='A3P4T1DKRWTL36', iid='B00BW6KCTU', r_ui=5.0, est=4.291366722826364, details={'was_impossible': True, 'reason': 'Not enough neighbors.'}),\n",
              " Prediction(uid='APBDZ88BBTN4F', iid='B004TS1IFK', r_ui=4.0, est=4.291366722826364, details={'was_impossible': True, 'reason': 'Not enough neighbors.'}),\n",
              " Prediction(uid='A2T3S3VTW65VO5', iid='B0034JLTNG', r_ui=4.0, est=4.291366722826364, details={'was_impossible': True, 'reason': 'Not enough neighbors.'}),\n",
              " Prediction(uid='A33HIV8RXRDM88', iid='B0015VW3BM', r_ui=4.0, est=4.5, details={'actual_k': 2, 'was_impossible': False}),\n",
              " Prediction(uid='AMS2CPERWN7JV', iid='B002TLSOFQ', r_ui=5.0, est=5, details={'actual_k': 2, 'was_impossible': False}),\n",
              " Prediction(uid='A51OFQVC6O5YL', iid='B0093H4VSS', r_ui=1.0, est=4.291366722826364, details={'was_impossible': True, 'reason': 'Not enough neighbors.'}),\n",
              " Prediction(uid='A2R6RA8FRBS608', iid='B00081A2KY', r_ui=5.0, est=4.5, details={'actual_k': 2, 'was_impossible': False}),\n",
              " Prediction(uid='A1W4F91DH3XPB2', iid='B006K551WQ', r_ui=4.0, est=4.291366722826364, details={'was_impossible': True, 'reason': 'Not enough neighbors.'}),\n",
              " Prediction(uid='A2PK64OVZA1U8Z', iid='B00BD7UVO4', r_ui=5.0, est=4.291366722826364, details={'was_impossible': True, 'reason': 'Not enough neighbors.'}),\n",
              " Prediction(uid='A3V7D0LH8L7BG0', iid='B00F3F0EIU', r_ui=5.0, est=5, details={'actual_k': 6, 'was_impossible': False}),\n",
              " Prediction(uid='A2WLNSZ9U0T1S3', iid='B00F9VROO0', r_ui=5.0, est=1.5, details={'actual_k': 2, 'was_impossible': False}),\n",
              " Prediction(uid='A1DTCJV6KOMJOA', iid='B007RB164E', r_ui=3.0, est=4.291366722826364, details={'was_impossible': True, 'reason': 'Not enough neighbors.'}),\n",
              " Prediction(uid='A3F3B6HY9RJI04', iid='B004TLH6H6', r_ui=5.0, est=4.291366722826364, details={'was_impossible': True, 'reason': 'Not enough neighbors.'}),\n",
              " Prediction(uid='A3D0UM4ZD2CMAW', iid='B004Z0S6RU', r_ui=5.0, est=4.291366722826364, details={'was_impossible': True, 'reason': 'Not enough neighbors.'}),\n",
              " Prediction(uid='A2SH6A32BE6NEV', iid='B005NGOPSY', r_ui=3.0, est=4.0, details={'actual_k': 1, 'was_impossible': False}),\n",
              " Prediction(uid='A3PCEB9ND82AGE', iid='B004W2T2TM', r_ui=5.0, est=4.291366722826364, details={'was_impossible': True, 'reason': 'Not enough neighbors.'}),\n",
              " Prediction(uid='A2BLFCOPSMBOZ9', iid='B0026L7B94', r_ui=1.0, est=4.666666666666667, details={'actual_k': 3, 'was_impossible': False}),\n",
              " Prediction(uid='A1UQUDT2Q0YENM', iid='B0088PUEPK', r_ui=5.0, est=4.291366722826364, details={'was_impossible': True, 'reason': 'Not enough neighbors.'}),\n",
              " Prediction(uid='AUITG1DJ3QUGK', iid='B0054L8N7M', r_ui=3.0, est=4.291366722826364, details={'was_impossible': True, 'reason': 'Not enough neighbors.'}),\n",
              " Prediction(uid='A3G007LQX6KGOD', iid='B00D6PTMHI', r_ui=3.0, est=4.291366722826364, details={'was_impossible': True, 'reason': 'Not enough neighbors.'}),\n",
              " Prediction(uid='A3TBMAWIIHKHFN', iid='B0018M7ZES', r_ui=5.0, est=4.291366722826364, details={'was_impossible': True, 'reason': 'Not enough neighbors.'}),\n",
              " Prediction(uid='A14MZJTZAQS6CV', iid='B001TH7GUU', r_ui=4.0, est=5, details={'actual_k': 1, 'was_impossible': False}),\n",
              " Prediction(uid='A11I1I9QLMAM1A', iid='B00JZC972Q', r_ui=5.0, est=5, details={'actual_k': 1, 'was_impossible': False}),\n",
              " Prediction(uid='ABUE0ALHKWKHC', iid='B002I3OZB2', r_ui=4.0, est=4.291366722826364, details={'was_impossible': True, 'reason': 'Not enough neighbors.'}),\n",
              " Prediction(uid='AR1T36GLLAFFX', iid='B00452V1ZW', r_ui=4.0, est=4.291366722826364, details={'was_impossible': True, 'reason': 'User and/or item is unknown.'}),\n",
              " Prediction(uid='ADKZOXAOV8EXD', iid='B001CCLBSA', r_ui=3.0, est=1, details={'actual_k': 1, 'was_impossible': False}),\n",
              " Prediction(uid='ASJLXOX1VD4DF', iid='B00J0XR10A', r_ui=3.0, est=4.666666666666667, details={'actual_k': 3, 'was_impossible': False}),\n",
              " Prediction(uid='A2YEZ8Z3BW2SKG', iid='B007FPIQ0E', r_ui=5.0, est=5, details={'actual_k': 1, 'was_impossible': False}),\n",
              " Prediction(uid='A2LW5AL0KQ9P1M', iid='B003EYVEZE', r_ui=4.0, est=4.291366722826364, details={'was_impossible': True, 'reason': 'Not enough neighbors.'}),\n",
              " Prediction(uid='A2VCXIAWCPQ13P', iid='B000JFJZGG', r_ui=3.0, est=4.291366722826364, details={'was_impossible': True, 'reason': 'Not enough neighbors.'}),\n",
              " Prediction(uid='ALDAF4VVLFRHP', iid='B004CLYEH8', r_ui=5.0, est=4.142857142857143, details={'actual_k': 7, 'was_impossible': False}),\n",
              " Prediction(uid='A1Z4GII5CHCDG7', iid='B005NX7HY6', r_ui=5.0, est=4.291366722826364, details={'was_impossible': True, 'reason': 'Not enough neighbors.'}),\n",
              " Prediction(uid='A1VQHH85U7PX0', iid='B007PJ4PKK', r_ui=5.0, est=4.291366722826364, details={'was_impossible': True, 'reason': 'Not enough neighbors.'}),\n",
              " Prediction(uid='AYOMAHLWRQHUG', iid='B00D9TBDDM', r_ui=4.0, est=4.291366722826364, details={'was_impossible': True, 'reason': 'Not enough neighbors.'}),\n",
              " Prediction(uid='A2XHOLOLKGV1FE', iid='B003SWDA4A', r_ui=5.0, est=4.291366722826364, details={'was_impossible': True, 'reason': 'Not enough neighbors.'}),\n",
              " Prediction(uid='A2FXBWR4T4OFQ', iid='B009C98NPY', r_ui=5.0, est=4.291366722826364, details={'was_impossible': True, 'reason': 'Not enough neighbors.'}),\n",
              " Prediction(uid='A361M14PU2GUEG', iid='B005ONMDYE', r_ui=5.0, est=4.291366722826364, details={'was_impossible': True, 'reason': 'Not enough neighbors.'}),\n",
              " Prediction(uid='A3F9CMU8KNAY1M', iid='B001MVKZOC', r_ui=2.0, est=4.291366722826364, details={'was_impossible': True, 'reason': 'Not enough neighbors.'}),\n",
              " Prediction(uid='A1GBU479WXR7UG', iid='B003SQEAY0', r_ui=4.0, est=4.291366722826364, details={'was_impossible': True, 'reason': 'Not enough neighbors.'}),\n",
              " Prediction(uid='A1UNJ46NSB352E', iid='B00BXF7I9M', r_ui=5.0, est=4.291366722826364, details={'was_impossible': True, 'reason': 'Not enough neighbors.'}),\n",
              " Prediction(uid='A3HPCRD9RX351S', iid='B0044YU60M', r_ui=5.0, est=4.291366722826364, details={'was_impossible': True, 'reason': 'Not enough neighbors.'}),\n",
              " Prediction(uid='AM3XNQU9TZBD8', iid='B00HRKE1SI', r_ui=5.0, est=5, details={'actual_k': 1, 'was_impossible': False}),\n",
              " Prediction(uid='A18GJ9MYYO6GCQ', iid='B003J2V8AC', r_ui=5.0, est=4.291366722826364, details={'was_impossible': True, 'reason': 'User and/or item is unknown.'}),\n",
              " Prediction(uid='A2X8KN82L07RSK', iid='B001BAWX80', r_ui=4.0, est=4.291366722826364, details={'was_impossible': True, 'reason': 'Not enough neighbors.'}),\n",
              " Prediction(uid='A2BIJMB2BITQUM', iid='B0013FRNKG', r_ui=5.0, est=4.0, details={'actual_k': 1, 'was_impossible': False}),\n",
              " Prediction(uid='A1ZBEIL78MLR9Z', iid='B009F7EQPY', r_ui=5.0, est=4.291366722826364, details={'was_impossible': True, 'reason': 'Not enough neighbors.'}),\n",
              " Prediction(uid='AX7317G153T8W', iid='B00BOHNYU6', r_ui=5.0, est=4.333333333333333, details={'actual_k': 6, 'was_impossible': False}),\n",
              " Prediction(uid='A250AXLRBVYKB4', iid='B0037LQY7M', r_ui=5.0, est=4.291366722826364, details={'was_impossible': True, 'reason': 'Not enough neighbors.'}),\n",
              " Prediction(uid='ADLVFFE4VBT8', iid='B004T9RR6I', r_ui=2.0, est=4.0585067866431785, details={'actual_k': 13, 'was_impossible': False}),\n",
              " Prediction(uid='A34C9AFFZOI45T', iid='B003ZX8B3W', r_ui=5.0, est=5, details={'actual_k': 1, 'was_impossible': False}),\n",
              " Prediction(uid='AXP8GO5Q3AXSA', iid='B00AWRPIWQ', r_ui=5.0, est=4.0, details={'actual_k': 1, 'was_impossible': False}),\n",
              " Prediction(uid='A1BJOHHLG0D965', iid='B00654PTT2', r_ui=3.0, est=4.291366722826364, details={'was_impossible': True, 'reason': 'Not enough neighbors.'}),\n",
              " Prediction(uid='A25C2M3QF9G7OQ', iid='B00GLG2D4I', r_ui=5.0, est=4.291366722826364, details={'was_impossible': True, 'reason': 'User and/or item is unknown.'}),\n",
              " Prediction(uid='A38NELQT98S4H8', iid='B009C3M7H0', r_ui=5.0, est=4.291366722826364, details={'was_impossible': True, 'reason': 'Not enough neighbors.'}),\n",
              " Prediction(uid='A3NG7X4APIV649', iid='B004CLYEFK', r_ui=5.0, est=3.0027879479682738, details={'actual_k': 3, 'was_impossible': False}),\n",
              " Prediction(uid='AUITG1DJ3QUGK', iid='B005DKZTMG', r_ui=2.0, est=4.291366722826364, details={'was_impossible': True, 'reason': 'Not enough neighbors.'}),\n",
              " Prediction(uid='A36K2N527TXXJN', iid='B000VX6XL6', r_ui=5.0, est=5, details={'actual_k': 4, 'was_impossible': False}),\n",
              " Prediction(uid='A1YVO5V1SO18DZ', iid='B005NHR6KM', r_ui=4.0, est=5, details={'actual_k': 1, 'was_impossible': False}),\n",
              " Prediction(uid='A1ZU55TM45Y2R8', iid='B0079UAT0A', r_ui=4.0, est=4.163574650966397, details={'actual_k': 12, 'was_impossible': False}),\n",
              " Prediction(uid='A2MOJANFPX353G', iid='B0093HMKVI', r_ui=5.0, est=4.291366722826364, details={'was_impossible': True, 'reason': 'Not enough neighbors.'}),\n",
              " Prediction(uid='A3077MQTAKOVFZ', iid='B008D1JRIO', r_ui=1.0, est=4.0, details={'actual_k': 1, 'was_impossible': False}),\n",
              " Prediction(uid='AEL6CQNQXONBX', iid='B0038KLD50', r_ui=5.0, est=4.291366722826364, details={'was_impossible': True, 'reason': 'Not enough neighbors.'}),\n",
              " Prediction(uid='A64LEAZ2QF8L2', iid='B000FBK3QK', r_ui=5.0, est=5, details={'actual_k': 1, 'was_impossible': False}),\n",
              " Prediction(uid='AW3LX47IHPFRL', iid='1400501466', r_ui=5.0, est=4.291366722826364, details={'was_impossible': True, 'reason': 'Not enough neighbors.'}),\n",
              " Prediction(uid='A7Z2J9V37ABCO', iid='B008ABOJKS', r_ui=3.0, est=4.291366722826364, details={'was_impossible': True, 'reason': 'Not enough neighbors.'}),\n",
              " Prediction(uid='A6VPK7X53QNAQ', iid='B001EQ4C8U', r_ui=4.0, est=5, details={'actual_k': 1, 'was_impossible': False}),\n",
              " Prediction(uid='A1E55W6ES0FY17', iid='B002IJ95ZM', r_ui=5.0, est=1, details={'actual_k': 1, 'was_impossible': False}),\n",
              " Prediction(uid='AR74YY08IP2WE', iid='B006W3ZWXE', r_ui=4.0, est=4.291366722826364, details={'was_impossible': True, 'reason': 'Not enough neighbors.'}),\n",
              " Prediction(uid='A15CL28ALB7MTZ', iid='B002FL507A', r_ui=4.0, est=5, details={'actual_k': 2, 'was_impossible': False}),\n",
              " Prediction(uid='A3CW0ZLUO5X2B1', iid='B005VTIMEQ', r_ui=2.0, est=4.0, details={'actual_k': 1, 'was_impossible': False}),\n",
              " Prediction(uid='A3S5WYWYKSAI9C', iid='B005NYPC1U', r_ui=5.0, est=4.291366722826364, details={'was_impossible': True, 'reason': 'Not enough neighbors.'}),\n",
              " Prediction(uid='A1PL7QILVQV3IF', iid='B004T9RR6I', r_ui=4.0, est=3.9848450049412847, details={'actual_k': 2, 'was_impossible': False}),\n",
              " Prediction(uid='A20L63B48RPSOH', iid='B006GDTTM0', r_ui=3.0, est=4.0, details={'actual_k': 1, 'was_impossible': False}),\n",
              " Prediction(uid='A3A15L96IYUO6V', iid='B00HF3X5RU', r_ui=1.0, est=4.291366722826364, details={'was_impossible': True, 'reason': 'Not enough neighbors.'}),\n",
              " Prediction(uid='A1JZFGZEZVWQPY', iid='B00AR95FOU', r_ui=4.0, est=4.291366722826364, details={'was_impossible': True, 'reason': 'Not enough neighbors.'}),\n",
              " Prediction(uid='A1F1A0QQP2XVH5', iid='B002LLK5CO', r_ui=3.0, est=4.333333333333333, details={'actual_k': 3, 'was_impossible': False}),\n",
              " Prediction(uid='A3KZEGBTPH6MMF', iid='B00DR6DQZA', r_ui=5.0, est=4.291366722826364, details={'was_impossible': True, 'reason': 'Not enough neighbors.'}),\n",
              " Prediction(uid='AMUP8DYE7EAN2', iid='B00EH5UGR6', r_ui=4.0, est=4.291366722826364, details={'was_impossible': True, 'reason': 'Not enough neighbors.'}),\n",
              " Prediction(uid='A3R19YKNL641X3', iid='B006ZBWV0K', r_ui=4.0, est=4.291366722826364, details={'was_impossible': True, 'reason': 'Not enough neighbors.'}),\n",
              " Prediction(uid='ABMF4UC4Z00NT', iid='B003ES5ZR8', r_ui=5.0, est=4.0, details={'actual_k': 2, 'was_impossible': False}),\n",
              " Prediction(uid='A2LLSFQO8O8XNW', iid='B009C3M7H0', r_ui=5.0, est=4.291366722826364, details={'was_impossible': True, 'reason': 'Not enough neighbors.'}),\n",
              " Prediction(uid='A35HOUWHAYZZN6', iid='B0085YTCYS', r_ui=1.0, est=5, details={'actual_k': 1, 'was_impossible': False}),\n",
              " Prediction(uid='A3LDLV1GWQJLEQ', iid='B00AVST3HC', r_ui=5.0, est=4.291366722826364, details={'was_impossible': True, 'reason': 'Not enough neighbors.'}),\n",
              " Prediction(uid='A1ZCSSCAGBCD49', iid='B00HNJWWGG', r_ui=4.0, est=4.291366722826364, details={'was_impossible': True, 'reason': 'Not enough neighbors.'}),\n",
              " Prediction(uid='AL42PIIG5DXYD', iid='B000067RT6', r_ui=4.0, est=4.0, details={'actual_k': 1, 'was_impossible': False}),\n",
              " Prediction(uid='A3R33KMESG0XGQ', iid='B00BD7UXXS', r_ui=4.0, est=4.291366722826364, details={'was_impossible': True, 'reason': 'Not enough neighbors.'}),\n",
              " Prediction(uid='AC1YLEFC9AN5X', iid='B008O2HW8O', r_ui=4.0, est=4.291366722826364, details={'was_impossible': True, 'reason': 'Not enough neighbors.'}),\n",
              " Prediction(uid='A23NSKTMSPPBTR', iid='B000068O3C', r_ui=5.0, est=4.291366722826364, details={'was_impossible': True, 'reason': 'Not enough neighbors.'}),\n",
              " Prediction(uid='AIFLY2HF8NS8U', iid='B0014KOB6Y', r_ui=5.0, est=4.0, details={'actual_k': 1, 'was_impossible': False}),\n",
              " Prediction(uid='A5KMMY627T3W', iid='B00009R6UI', r_ui=3.0, est=4.291366722826364, details={'was_impossible': True, 'reason': 'Not enough neighbors.'}),\n",
              " Prediction(uid='A3T4OHEAHOJ700', iid='B00DQZO0R0', r_ui=4.0, est=4.0, details={'actual_k': 2, 'was_impossible': False}),\n",
              " Prediction(uid='AENULRBQ2IE5I', iid='B002ZIMEMW', r_ui=5.0, est=4.0, details={'actual_k': 2, 'was_impossible': False}),\n",
              " Prediction(uid='A17HMM1M7T9PJ1', iid='B0012IJYZ6', r_ui=5.0, est=4.291366722826364, details={'was_impossible': True, 'reason': 'Not enough neighbors.'}),\n",
              " Prediction(uid='A35IX2GE0VC0JP', iid='B00EVIBMR2', r_ui=3.0, est=4.291366722826364, details={'was_impossible': True, 'reason': 'Not enough neighbors.'}),\n",
              " Prediction(uid='A2NJQF2UI60VGT', iid='B002RL875A', r_ui=5.0, est=4.291366722826364, details={'was_impossible': True, 'reason': 'Not enough neighbors.'}),\n",
              " Prediction(uid='A2LEIANN1UZTHP', iid='B004YB60KA', r_ui=4.0, est=4.291366722826364, details={'was_impossible': True, 'reason': 'Not enough neighbors.'}),\n",
              " Prediction(uid='A1EXGL6L0QQ0M5', iid='B002SQK2F2', r_ui=3.0, est=4.143608098326826, details={'actual_k': 8, 'was_impossible': False}),\n",
              " Prediction(uid='A31N0XY2UTB25C', iid='B000N99BBC', r_ui=5.0, est=5, details={'actual_k': 7, 'was_impossible': False}),\n",
              " Prediction(uid='ACSX5AIZE3MJ9', iid='B00IWYO75K', r_ui=5.0, est=4.291366722826364, details={'was_impossible': True, 'reason': 'Not enough neighbors.'}),\n",
              " Prediction(uid='A316XO4RWX21YN', iid='B008R7EXCE', r_ui=5.0, est=4.0, details={'actual_k': 1, 'was_impossible': False}),\n",
              " Prediction(uid='A4IL0CLL27Q33', iid='B004XW2NEW', r_ui=5.0, est=4.291366722826364, details={'was_impossible': True, 'reason': 'Not enough neighbors.'}),\n",
              " Prediction(uid='A21VM9WVF8EOSJ', iid='B0007N55NM', r_ui=1.0, est=4.291366722826364, details={'was_impossible': True, 'reason': 'Not enough neighbors.'}),\n",
              " Prediction(uid='A1ZCSSCAGBCD49', iid='B00829THK0', r_ui=5.0, est=4.252448679497772, details={'actual_k': 8, 'was_impossible': False}),\n",
              " Prediction(uid='A24P4E3RJ6AX94', iid='B000067RT6', r_ui=5.0, est=5, details={'actual_k': 2, 'was_impossible': False}),\n",
              " Prediction(uid='A18S2VGUH9SCV5', iid='B00EVVGAC6', r_ui=2.0, est=5, details={'actual_k': 1, 'was_impossible': False}),\n",
              " Prediction(uid='AWNJAY0M5UI70', iid='B004TLIVB6', r_ui=5.0, est=4.291366722826364, details={'was_impossible': True, 'reason': 'Not enough neighbors.'}),\n",
              " Prediction(uid='A19HKRB4LU5YR', iid='B004MSQZUU', r_ui=3.0, est=4.0, details={'actual_k': 1, 'was_impossible': False}),\n",
              " Prediction(uid='A1AKW788238PWQ', iid='B0041Q38NU', r_ui=5.0, est=3.0, details={'actual_k': 1, 'was_impossible': False}),\n",
              " Prediction(uid='A2UEB48LAWFUCW', iid='B00DIOALPE', r_ui=2.0, est=4.199020199003206, details={'actual_k': 5, 'was_impossible': False}),\n",
              " Prediction(uid='AEWYUPCNDV7HY', iid='B001DJ64D4', r_ui=5.0, est=4.333333333333333, details={'actual_k': 3, 'was_impossible': False}),\n",
              " Prediction(uid='A1AWL9JASMG904', iid='B007X3VECU', r_ui=3.0, est=4.291366722826364, details={'was_impossible': True, 'reason': 'Not enough neighbors.'}),\n",
              " Prediction(uid='A1ZXMMQPYC3Z9I', iid='B002WC8862', r_ui=5.0, est=4.291366722826364, details={'was_impossible': True, 'reason': 'User and/or item is unknown.'}),\n",
              " Prediction(uid='AWPODHOB4GFWL', iid='B00J4O1YBW', r_ui=4.0, est=4.291366722826364, details={'was_impossible': True, 'reason': 'Not enough neighbors.'}),\n",
              " Prediction(uid='ACQYIC13JXAOI', iid='B003ZYDQVI', r_ui=4.0, est=4.0, details={'actual_k': 1, 'was_impossible': False}),\n",
              " Prediction(uid='A3J029KBNG5MNP', iid='B00CGY4JBY', r_ui=1.0, est=4.0, details={'actual_k': 1, 'was_impossible': False}),\n",
              " Prediction(uid='A33HIV8RXRDM88', iid='B004KPLNO8', r_ui=4.0, est=4.75, details={'actual_k': 4, 'was_impossible': False}),\n",
              " Prediction(uid='A1F7YU6O5RU432', iid='B004SBDQGM', r_ui=4.0, est=4.291366722826364, details={'was_impossible': True, 'reason': 'Not enough neighbors.'}),\n",
              " Prediction(uid='AUUV3XDYB16X5', iid='B00E3W15P0', r_ui=5.0, est=4.291366722826364, details={'was_impossible': True, 'reason': 'Not enough neighbors.'}),\n",
              " Prediction(uid='AR74YY08IP2WE', iid='B0088CJT4U', r_ui=5.0, est=3.999132485415283, details={'actual_k': 8, 'was_impossible': False}),\n",
              " Prediction(uid='A3NCIN6TNL0MGA', iid='B000629GES', r_ui=5.0, est=4.291366722826364, details={'was_impossible': True, 'reason': 'Not enough neighbors.'}),\n",
              " Prediction(uid='A4WEZJOIZIV4U', iid='B004SGJCCO', r_ui=4.0, est=5, details={'actual_k': 2, 'was_impossible': False}),\n",
              " Prediction(uid='A25UZ7MA72SMKM', iid='B003MVZ60I', r_ui=2.0, est=4.5, details={'actual_k': 2, 'was_impossible': False}),\n",
              " Prediction(uid='A35Q0RBM3YNQNF', iid='B00139E1QQ', r_ui=4.0, est=4.291366722826364, details={'was_impossible': True, 'reason': 'Not enough neighbors.'}),\n",
              " Prediction(uid='A1X3ESYZ79H59E', iid='B00825BZUY', r_ui=5.0, est=4.666666666666667, details={'actual_k': 3, 'was_impossible': False}),\n",
              " Prediction(uid='A3EZFFPVS34AMO', iid='B006DY3C5W', r_ui=4.0, est=4.291366722826364, details={'was_impossible': True, 'reason': 'Not enough neighbors.'}),\n",
              " Prediction(uid='A3VZH0PWLQ9BB1', iid='B00176TEGM', r_ui=5.0, est=4.5, details={'actual_k': 2, 'was_impossible': False}),\n",
              " Prediction(uid='A1LA4K5JF78BER', iid='B0000510ZO', r_ui=5.0, est=4.291366722826364, details={'was_impossible': True, 'reason': 'Not enough neighbors.'}),\n",
              " Prediction(uid='A1CPRP3VFJRS1R', iid='B003VANOI6', r_ui=5.0, est=4.291366722826364, details={'was_impossible': True, 'reason': 'Not enough neighbors.'}),\n",
              " Prediction(uid='A3EPJSPH03AS29', iid='B00465G49G', r_ui=5.0, est=4.291366722826364, details={'was_impossible': True, 'reason': 'Not enough neighbors.'}),\n",
              " Prediction(uid='A3PD8JD9L4WEII', iid='B004CLYE8C', r_ui=4.0, est=4.5, details={'actual_k': 2, 'was_impossible': False}),\n",
              " Prediction(uid='A3Q4TYJVAM4IRM', iid='B0078K17WK', r_ui=4.0, est=4.291366722826364, details={'was_impossible': True, 'reason': 'Not enough neighbors.'}),\n",
              " Prediction(uid='A10ZBR6O8S8OCY', iid='B003FMUP46', r_ui=5.0, est=4.291366722826364, details={'was_impossible': True, 'reason': 'User and/or item is unknown.'}),\n",
              " Prediction(uid='A3T4OHEAHOJ700', iid='B004TLH6H6', r_ui=5.0, est=4.291366722826364, details={'was_impossible': True, 'reason': 'Not enough neighbors.'}),\n",
              " Prediction(uid='A3IJL9A50KVVZ1', iid='B007SM7O2U', r_ui=5.0, est=5, details={'actual_k': 1, 'was_impossible': False}),\n",
              " Prediction(uid='AUUV3XDYB16X5', iid='B007P71IM0', r_ui=5.0, est=4.291366722826364, details={'was_impossible': True, 'reason': 'Not enough neighbors.'}),\n",
              " Prediction(uid='A3MQAQT8C6D1I7', iid='B00HK5B3PO', r_ui=5.0, est=4.291366722826364, details={'was_impossible': True, 'reason': 'Not enough neighbors.'}),\n",
              " Prediction(uid='A2QRXQPHDMFCQV', iid='B008O2HWTI', r_ui=5.0, est=4.0, details={'actual_k': 2, 'was_impossible': False}),\n",
              " Prediction(uid='A1BBYSMT9YCODI', iid='B00D3F7D7M', r_ui=4.0, est=4.291366722826364, details={'was_impossible': True, 'reason': 'Not enough neighbors.'}),\n",
              " Prediction(uid='A21S26XYPGXJZX', iid='B004ZMV2GA', r_ui=5.0, est=4.291366722826364, details={'was_impossible': True, 'reason': 'Not enough neighbors.'}),\n",
              " Prediction(uid='A1ZPY91VE3IDN1', iid='B0046HAO40', r_ui=5.0, est=4.5, details={'actual_k': 2, 'was_impossible': False}),\n",
              " Prediction(uid='ACSX5AIZE3MJ9', iid='B00752R4S2', r_ui=2.0, est=4.291366722826364, details={'was_impossible': True, 'reason': 'Not enough neighbors.'}),\n",
              " Prediction(uid='A17W0GMB0YY83M', iid='B002VKVZ1A', r_ui=5.0, est=5, details={'actual_k': 1, 'was_impossible': False}),\n",
              " Prediction(uid='ANEDXRFDZDL18', iid='B007X3VECU', r_ui=3.0, est=4.291366722826364, details={'was_impossible': True, 'reason': 'Not enough neighbors.'}),\n",
              " Prediction(uid='A26KXNN6H1IL0I', iid='B003L1ZYZ6', r_ui=5.0, est=5, details={'actual_k': 1, 'was_impossible': False}),\n",
              " Prediction(uid='A2PZXXPGLXXKZU', iid='B00E055H5O', r_ui=4.0, est=4.291366722826364, details={'was_impossible': True, 'reason': 'Not enough neighbors.'}),\n",
              " Prediction(uid='ASRA2UZ3JV87B', iid='B001TUYTZM', r_ui=4.0, est=4.291366722826364, details={'was_impossible': True, 'reason': 'Not enough neighbors.'}),\n",
              " Prediction(uid='AGOH8N902URMW', iid='B00CEZBKTO', r_ui=5.0, est=4.291366722826364, details={'was_impossible': True, 'reason': 'Not enough neighbors.'}),\n",
              " Prediction(uid='AN9CP6J4JF91X', iid='B00007EDZG', r_ui=5.0, est=4.291366722826364, details={'was_impossible': True, 'reason': 'Not enough neighbors.'}),\n",
              " Prediction(uid='A2D0CO1OA6DSWY', iid='B001CCAISE', r_ui=5.0, est=4.291366722826364, details={'was_impossible': True, 'reason': 'Not enough neighbors.'}),\n",
              " Prediction(uid='A2WB7LZ595CR50', iid='B002JCSCYS', r_ui=5.0, est=3.0, details={'actual_k': 1, 'was_impossible': False}),\n",
              " Prediction(uid='A2J0IBS4PFRO2C', iid='B00AANQLRI', r_ui=5.0, est=4.291366722826364, details={'was_impossible': True, 'reason': 'Not enough neighbors.'}),\n",
              " Prediction(uid='A23GFTVIETX7DS', iid='B005CLPP84', r_ui=5.0, est=5, details={'actual_k': 3, 'was_impossible': False}),\n",
              " Prediction(uid='A1FR68QH6Z4YZM', iid='B0007U00X0', r_ui=5.0, est=3.0, details={'actual_k': 2, 'was_impossible': False}),\n",
              " Prediction(uid='ACQYIC13JXAOI', iid='B005LAIFE2', r_ui=5.0, est=2.0, details={'actual_k': 1, 'was_impossible': False}),\n",
              " Prediction(uid='AKSQNMIKOU01H', iid='B0036AWR8E', r_ui=5.0, est=4.291366722826364, details={'was_impossible': True, 'reason': 'Not enough neighbors.'}),\n",
              " Prediction(uid='A1AQ8JT2A3UWMY', iid='B005J7YA3W', r_ui=5.0, est=4.291366722826364, details={'was_impossible': True, 'reason': 'Not enough neighbors.'}),\n",
              " Prediction(uid='A2AC6GQ24S45GA', iid='B004CLYEDC', r_ui=5.0, est=4.0, details={'actual_k': 5, 'was_impossible': False}),\n",
              " Prediction(uid='A3HRDRQ5VAFPQS', iid='B0039NLS3I', r_ui=3.0, est=4.291366722826364, details={'was_impossible': True, 'reason': 'Not enough neighbors.'}),\n",
              " Prediction(uid='AIJQU979J6UFY', iid='B000BMBT5M', r_ui=4.0, est=4.291366722826364, details={'was_impossible': True, 'reason': 'Not enough neighbors.'}),\n",
              " Prediction(uid='A2UWPPU5GZLMQZ', iid='B000VRBLMS', r_ui=4.0, est=4.291366722826364, details={'was_impossible': True, 'reason': 'Not enough neighbors.'}),\n",
              " Prediction(uid='A3QJU4FEN8PQSZ', iid='B009T0NLYO', r_ui=2.0, est=4.291366722826364, details={'was_impossible': True, 'reason': 'Not enough neighbors.'}),\n",
              " Prediction(uid='A1FR68QH6Z4YZM', iid='B00AGOSQI8', r_ui=2.0, est=4.291366722826364, details={'was_impossible': True, 'reason': 'Not enough neighbors.'}),\n",
              " Prediction(uid='A20VG5W98SX99L', iid='B002UT42UI', r_ui=5.0, est=4.666666666666667, details={'actual_k': 3, 'was_impossible': False}),\n",
              " Prediction(uid='A11IXJ8M1JO296', iid='B004MMEHH4', r_ui=5.0, est=4.291366722826364, details={'was_impossible': True, 'reason': 'Not enough neighbors.'}),\n",
              " Prediction(uid='A2NOW4U7W3F7RI', iid='B009UNZ5WQ', r_ui=5.0, est=5, details={'actual_k': 4, 'was_impossible': False}),\n",
              " Prediction(uid='AX7317G153T8W', iid='B0011UK2HE', r_ui=4.0, est=5, details={'actual_k': 1, 'was_impossible': False}),\n",
              " Prediction(uid='A3077MQTAKOVFZ', iid='B000ZJZ7OA', r_ui=5.0, est=4.291366722826364, details={'was_impossible': True, 'reason': 'User and/or item is unknown.'}),\n",
              " Prediction(uid='A1ZCSSCAGBCD49', iid='B001CHHVCU', r_ui=3.0, est=3.8, details={'actual_k': 5, 'was_impossible': False}),\n",
              " Prediction(uid='A2Y29IRSI08F0I', iid='B0097BEFYA', r_ui=5.0, est=5, details={'actual_k': 1, 'was_impossible': False}),\n",
              " Prediction(uid='A26LD9FQHTM8ZH', iid='B002W6Z80C', r_ui=4.0, est=4.291366722826364, details={'was_impossible': True, 'reason': 'Not enough neighbors.'}),\n",
              " Prediction(uid='A1PVJICI412IN4', iid='B001QUA6R0', r_ui=5.0, est=4.291366722826364, details={'was_impossible': True, 'reason': 'Not enough neighbors.'}),\n",
              " Prediction(uid='A24QFMD1RXLJMB', iid='B004FHO5Y6', r_ui=5.0, est=4.291366722826364, details={'was_impossible': True, 'reason': 'Not enough neighbors.'}),\n",
              " Prediction(uid='A3QNQQKJTL76H0', iid='B0015DYMVO', r_ui=5.0, est=4.333333333333333, details={'actual_k': 6, 'was_impossible': False}),\n",
              " Prediction(uid='A1522TN5FVJL0Y', iid='B00004Z5M1', r_ui=5.0, est=4.291366722826364, details={'was_impossible': True, 'reason': 'Not enough neighbors.'}),\n",
              " Prediction(uid='A3D2VIUT2HWP0Z', iid='B00DJ69GSO', r_ui=5.0, est=4.291366722826364, details={'was_impossible': True, 'reason': 'Not enough neighbors.'}),\n",
              " Prediction(uid='A2ZRMCRLDSUX6R', iid='B0032HM6JG', r_ui=4.0, est=4.291366722826364, details={'was_impossible': True, 'reason': 'User and/or item is unknown.'}),\n",
              " Prediction(uid='A2NVQZ4Y7Y0J1R', iid='B00CL8F98W', r_ui=3.0, est=4.291366722826364, details={'was_impossible': True, 'reason': 'Not enough neighbors.'}),\n",
              " Prediction(uid='A22S7D0LP8GRDH', iid='B001U02JZ8', r_ui=5.0, est=4.291366722826364, details={'was_impossible': True, 'reason': 'Not enough neighbors.'}),\n",
              " Prediction(uid='A215WH6RUDUCMP', iid='B008X9Z7N0', r_ui=4.0, est=4.4034581472748835, details={'actual_k': 5, 'was_impossible': False}),\n",
              " Prediction(uid='A2EW01G2LNJN06', iid='B0047T79M2', r_ui=5.0, est=4.291366722826364, details={'was_impossible': True, 'reason': 'Not enough neighbors.'}),\n",
              " Prediction(uid='A26BDXG9KVH7SU', iid='B008MWBY6W', r_ui=5.0, est=2.0, details={'actual_k': 1, 'was_impossible': False}),\n",
              " Prediction(uid='AGEWOMQ90BV8R', iid='B005HMKKH4', r_ui=5.0, est=4.0, details={'actual_k': 1, 'was_impossible': False}),\n",
              " Prediction(uid='A1BBYSMT9YCODI', iid='B00A9NE84C', r_ui=4.0, est=4.291366722826364, details={'was_impossible': True, 'reason': 'Not enough neighbors.'}),\n",
              " Prediction(uid='A2I5LVVQ7WXEH6', iid='B00902SFC4', r_ui=5.0, est=4.291366722826364, details={'was_impossible': True, 'reason': 'Not enough neighbors.'}),\n",
              " Prediction(uid='A1QOK9LU90ACF7', iid='B000FIVDIA', r_ui=5.0, est=4.291366722826364, details={'was_impossible': True, 'reason': 'Not enough neighbors.'}),\n",
              " Prediction(uid='A2WB7LZ595CR50', iid='B006WVR9GY', r_ui=4.0, est=3.5, details={'actual_k': 2, 'was_impossible': False}),\n",
              " Prediction(uid='A105S56ODHGJEK', iid='B007QJ3HKI', r_ui=4.0, est=4.291366722826364, details={'was_impossible': True, 'reason': 'Not enough neighbors.'}),\n",
              " Prediction(uid='A3BKNXX8QFIXIV', iid='B004CLYEDC', r_ui=5.0, est=4.799509498759598, details={'actual_k': 5, 'was_impossible': False}),\n",
              " Prediction(uid='A24HWYHR28JJ7A', iid='B0039BPG1A', r_ui=5.0, est=4.75, details={'actual_k': 4, 'was_impossible': False}),\n",
              " Prediction(uid='A23ZXHFLC6TBLD', iid='B000JNQSIQ', r_ui=5.0, est=5, details={'actual_k': 1, 'was_impossible': False}),\n",
              " Prediction(uid='A19HKRB4LU5YR', iid='B00DVS98XS', r_ui=4.0, est=4.291366722826364, details={'was_impossible': True, 'reason': 'Not enough neighbors.'}),\n",
              " Prediction(uid='A2WB7LZ595CR50', iid='B00829TIEK', r_ui=5.0, est=4.0, details={'actual_k': 10, 'was_impossible': False}),\n",
              " Prediction(uid='A3QRW0UJPKIAX7', iid='B0019M6GP6', r_ui=2.0, est=5, details={'actual_k': 1, 'was_impossible': False}),\n",
              " Prediction(uid='A1BBYSMT9YCODI', iid='B00DHPCVQG', r_ui=4.0, est=4.291366722826364, details={'was_impossible': True, 'reason': 'Not enough neighbors.'}),\n",
              " Prediction(uid='A3P1508PZ0UADD', iid='B007IV7KRU', r_ui=5.0, est=4.291366722826364, details={'was_impossible': True, 'reason': 'Not enough neighbors.'}),\n",
              " Prediction(uid='A1EH2S92FHWZRP', iid='B000Q8UAWY', r_ui=4.0, est=4.0, details={'actual_k': 2, 'was_impossible': False}),\n",
              " Prediction(uid='A3M7R4PD0FEPUB', iid='B0030MITDK', r_ui=5.0, est=4.291366722826364, details={'was_impossible': True, 'reason': 'Not enough neighbors.'}),\n",
              " Prediction(uid='A32O5FZH994CNY', iid='B00EAXRVLY', r_ui=5.0, est=4.333333333333333, details={'actual_k': 3, 'was_impossible': False}),\n",
              " Prediction(uid='AZMY6E8B52L2T', iid='B003NREDC8', r_ui=4.0, est=4.291366722826364, details={'was_impossible': True, 'reason': 'Not enough neighbors.'}),\n",
              " Prediction(uid='A1MEISNED4NP7U', iid='B004KCI80I', r_ui=4.0, est=5, details={'actual_k': 1, 'was_impossible': False}),\n",
              " Prediction(uid='A3TP31S61PPE3G', iid='B004GUT1QO', r_ui=5.0, est=3.6680286134150872, details={'actual_k': 3, 'was_impossible': False}),\n",
              " ...]"
            ]
          },
          "metadata": {},
          "execution_count": 129
        }
      ]
    },
    {
      "cell_type": "markdown",
      "metadata": {
        "id": "ni9LoeUVTsns"
      },
      "source": [
        "**Observations:**\n",
        "\n",
        "Changing the model to an item-item similarity system has provided little difference in the performance metrics. The RMSE is marginally higher, and F-1 score is marginally better."
      ]
    },
    {
      "cell_type": "markdown",
      "metadata": {
        "id": "jFbcDQmxTsns"
      },
      "source": [
        "Let's now **predict a rating for a user with `userId = A3LDPF5FMB782Z` and `prod_Id = 1400501466`** as shown below. Here the user has already interacted or watched the product with productId \"1400501466\"."
      ]
    },
    {
      "cell_type": "code",
      "execution_count": null,
      "metadata": {
        "id": "JsF-aaWYTsns",
        "colab": {
          "base_uri": "https://localhost:8080/"
        },
        "outputId": "872241fa-f9f3-477e-81cc-1656357ef745"
      },
      "outputs": [
        {
          "output_type": "execute_result",
          "data": {
            "text/plain": [
              "Prediction(uid='A3LDPF5FMB782Z', iid='1400501466', r_ui=None, est=4.291366722826364, details={'was_impossible': True, 'reason': 'Not enough neighbors.'})"
            ]
          },
          "metadata": {},
          "execution_count": 101
        }
      ],
      "source": [
        "# Predicting rating for a sample user with an interacted product\n",
        "algo_knn_item.predict('A3LDPF5FMB782Z', '1400501466')"
      ]
    },
    {
      "cell_type": "markdown",
      "metadata": {
        "id": "2h0OyDMFTsns"
      },
      "source": [
        "**Observations:**\n",
        "\n",
        "Similarly to our user-user model, this model is not able to find enough neighbors to create a prediciton for this data point, and has returned the global rating mean."
      ]
    },
    {
      "cell_type": "markdown",
      "metadata": {
        "id": "BqKGZoAtTsns"
      },
      "source": [
        "Below we are **predicting rating for the `userId = A34BZM6S9L7QI4` and `prod_id = 1400501466`**."
      ]
    },
    {
      "cell_type": "code",
      "execution_count": null,
      "metadata": {
        "id": "5yILOxXRTsns",
        "colab": {
          "base_uri": "https://localhost:8080/"
        },
        "outputId": "08d3994b-7dae-4ff0-db79-acfb14a4bc3c"
      },
      "outputs": [
        {
          "output_type": "execute_result",
          "data": {
            "text/plain": [
              "Prediction(uid='A34BZM6S9L7QI4', iid='1400501466', r_ui=None, est=4.291366722826364, details={'was_impossible': True, 'reason': 'Not enough neighbors.'})"
            ]
          },
          "metadata": {},
          "execution_count": 105
        }
      ],
      "source": [
        "# Predicting rating for a sample user with a non interacted product\n",
        "algo_knn_item.predict('A34BZM6S9L7QI4', '1400501466')"
      ]
    },
    {
      "cell_type": "markdown",
      "metadata": {
        "id": "sDKaAveJTsns"
      },
      "source": [
        "**Observations:**\n",
        "\n",
        "Once again, the model does not have enough neighbors to make a prediction."
      ]
    },
    {
      "cell_type": "markdown",
      "metadata": {
        "id": "meSvpNLj_EjD"
      },
      "source": [
        "### **Hyperparameter tuning the item-item similarity-based model**\n",
        "- Use the following values for the param_grid and tune the model.\n",
        "  - 'k': [10, 20, 30]\n",
        "  - 'min_k': [3, 6, 9]\n",
        "  - 'sim_options': {'name': ['msd', 'cosine']\n",
        "  - 'user_based': [False]\n",
        "- Use GridSearchCV() to tune the model using the 'rmse' measure\n",
        "- Print the best score and best parameters"
      ]
    },
    {
      "cell_type": "code",
      "execution_count": null,
      "metadata": {
        "id": "f5bcZ3HgTsnt",
        "colab": {
          "base_uri": "https://localhost:8080/"
        },
        "outputId": "e8de38d5-4819-40cd-d6b2-0a3dfc198e99"
      },
      "outputs": [
        {
          "output_type": "stream",
          "name": "stdout",
          "text": [
            "0.9759755326064775\n",
            "{'k': 30, 'min_k': 9, 'sim_options': {'name': 'msd', 'user_based': False}}\n"
          ]
        }
      ],
      "source": [
        "# Setting up parameter grid to tune the hyperparameters\n",
        "param_grid  ={'k': [10, 20, 30], 'min_k': [3, 6, 9],\n",
        "              'sim_options': {'name': ['msd', 'cosine'],\n",
        "                              'user_based': [False]}\n",
        "              }\n",
        "# Performing 3-fold cross-validation to tune the hyperparameters\n",
        "gs = GridSearchCV(KNNBasic, param_grid, measures=['rmse', 'mae'], cv=3, n_jobs=-1)\n",
        "\n",
        "# Fitting the data\n",
        "gs.fit(data)\n",
        "\n",
        "# Best RMSE score\n",
        "print(gs.best_score['rmse'])\n",
        "\n",
        "# Combination of parameters that gave the best RMSE score\n",
        "print(gs.best_params['rmse'])"
      ]
    },
    {
      "cell_type": "markdown",
      "metadata": {
        "id": "1psOlx6zTsnt"
      },
      "source": [
        "Once the **grid search** is complete, we can get the **optimal values for each of those hyperparameters as shown above.**"
      ]
    },
    {
      "cell_type": "markdown",
      "metadata": {
        "id": "JrSTaQemTsnt"
      },
      "source": [
        "Now let's build the **final model** by using **tuned values of the hyperparameters** which we received by using grid search cross-validation."
      ]
    },
    {
      "cell_type": "markdown",
      "metadata": {
        "id": "kOS9Dwnd_LN6"
      },
      "source": [
        "### **Use the best parameters from GridSearchCV to build the optimized item-item similarity-based model. Compare the performance of the optimized model with the baseline model.**"
      ]
    },
    {
      "cell_type": "code",
      "execution_count": null,
      "metadata": {
        "id": "dSeiM1qeTsnt",
        "colab": {
          "base_uri": "https://localhost:8080/"
        },
        "outputId": "ef2caa81-1d62-448b-8ec2-0f9c1e636f0d"
      },
      "outputs": [
        {
          "output_type": "stream",
          "name": "stdout",
          "text": [
            "Computing the cosine similarity matrix...\n",
            "Done computing similarity matrix.\n",
            "RMSE: 0.9894\n",
            "Precision:  0.829\n",
            "Recall:  0.471\n",
            "F_1 score:  0.601\n"
          ]
        }
      ],
      "source": [
        "# Using the optimal similarity measure for item-item based collaborative filtering\n",
        "sim_options = {'name': 'cosine', 'user_based': False}\n",
        "\n",
        "# Creating an instance of KNNBasic with optimal hyperparameter values\n",
        "sim_item_item_optimized = KNNBasic(sim_options = sim_options, min_k = 9, k = 30)\n",
        "\n",
        "# Training the algorithm on the trainset\n",
        "sim_item_item_optimized.fit(trainset)\n",
        "\n",
        "# Let us compute precision@k and recall@k, f1_score and RMSE\n",
        "precision_recall_at_k(model = sim_item_item_optimized, k = 10)\n"
      ]
    },
    {
      "cell_type": "markdown",
      "metadata": {
        "id": "ZCXKnMI8Tsnt"
      },
      "source": [
        "**Observations:**\n",
        "\n",
        "The tuned model is again performing slightly better, with a drop in RMSE from 1.0697 to .9894. The F-1 score has however dropped slightly, again indicating that the end user will not see any improved recommendations."
      ]
    },
    {
      "cell_type": "markdown",
      "metadata": {
        "id": "Sbcj_H94Tsnt"
      },
      "source": [
        "### **Steps:**\n",
        "- **Predict rating for the user with `userId=\"A3LDPF5FMB782Z\"`, and `prod_id= \"1400501466\"` using the optimized model**\n",
        "- **Predict rating for `userId=\"A34BZM6S9L7QI4\"` who has not interacted with `prod_id =\"1400501466\"`, by using the optimized model**\n",
        "- **Compare the output with the output from the baseline model**"
      ]
    },
    {
      "cell_type": "code",
      "execution_count": null,
      "metadata": {
        "id": "gIBRRvdoTsnt",
        "colab": {
          "base_uri": "https://localhost:8080/"
        },
        "outputId": "1157f5b3-5495-4717-e0de-af4441c15794"
      },
      "outputs": [
        {
          "output_type": "execute_result",
          "data": {
            "text/plain": [
              "Prediction(uid='A3LDPF5FMB782Z', iid='1400501466', r_ui=None, est=4.291366722826364, details={'was_impossible': True, 'reason': 'Not enough neighbors.'})"
            ]
          },
          "metadata": {},
          "execution_count": 118
        }
      ],
      "source": [
        "# Use sim_item_item_optimized model to recommend for userId \"A3LDPF5FMB782Z\" and productId \"1400501466\"\n",
        "sim_item_item_optimized.predict('A3LDPF5FMB782Z', '1400501466')"
      ]
    },
    {
      "cell_type": "code",
      "execution_count": null,
      "metadata": {
        "id": "fR3hAf7QIgd-",
        "colab": {
          "base_uri": "https://localhost:8080/"
        },
        "outputId": "fb65c1e5-d762-42fc-dd04-0d727281300f"
      },
      "outputs": [
        {
          "output_type": "execute_result",
          "data": {
            "text/plain": [
              "Prediction(uid='A34BZM6S9L7QI4', iid='1400501466', r_ui=None, est=4.291366722826364, details={'was_impossible': True, 'reason': 'Not enough neighbors.'})"
            ]
          },
          "metadata": {},
          "execution_count": 120
        }
      ],
      "source": [
        "# Use sim_item_item_optimized model to recommend for userId \"A34BZM6S9L7QI4\" and productId \"1400501466\"\n",
        "sim_item_item_optimized.predict('A34BZM6S9L7QI4', '1400501466')"
      ]
    },
    {
      "cell_type": "markdown",
      "metadata": {
        "id": "96r3J8uUIgd_"
      },
      "source": [
        "**Observations:**\n",
        "\n",
        "Just as before, the model has not been able to locate enough neighbors to these datapoints to create a prediction"
      ]
    },
    {
      "cell_type": "markdown",
      "metadata": {
        "id": "MDlNB7tnTsnu"
      },
      "source": [
        "### **Identifying similar items to a given item (nearest neighbors)**"
      ]
    },
    {
      "cell_type": "markdown",
      "metadata": {
        "id": "RLdDiFA6Tsnu"
      },
      "source": [
        "We can also find out **similar items** to a given item or its nearest neighbors based on this **KNNBasic algorithm**. Below we are finding the 5 most similar items to the item with internal id 0 based on the `msd` distance metric."
      ]
    },
    {
      "cell_type": "code",
      "execution_count": null,
      "metadata": {
        "id": "ZRJS4oDFTsnu",
        "colab": {
          "base_uri": "https://localhost:8080/"
        },
        "outputId": "d6be4662-3ce8-476d-cd12-d91d7e980020"
      },
      "outputs": [
        {
          "output_type": "execute_result",
          "data": {
            "text/plain": [
              "[117, 151, 258, 288, 477]"
            ]
          },
          "metadata": {},
          "execution_count": 130
        }
      ],
      "source": [
        "# finding similar items to item 0\n",
        "sim_item_item_optimized.get_neighbors(0, k=5)"
      ]
    },
    {
      "cell_type": "markdown",
      "metadata": {
        "id": "f4L0VgNVIgeA"
      },
      "source": [
        "**Predicting top 5 products for userId = \"A1A5KUIIIHFF4U\" with similarity based recommendation system.**\n",
        "\n",
        "**Hint:** Use the get_recommendations() function."
      ]
    },
    {
      "cell_type": "code",
      "execution_count": null,
      "metadata": {
        "id": "rzoEbuZFTsnu"
      },
      "outputs": [],
      "source": [
        "# Making top 5 recommendations for user_id A1A5KUIIIHFF4U with similarity-based recommendation engine.\n",
        "A1A5KUIIIHFF4U_recommendations = get_recommendations(data = df_final, user_id = 'A1A5KUIIIHFF4U', top_n = 5, algo = sim_item_item_optimized)"
      ]
    },
    {
      "cell_type": "code",
      "execution_count": null,
      "metadata": {
        "id": "_kXVTiysTsnv"
      },
      "outputs": [],
      "source": [
        "# Building the dataframe for above recommendations with columns \"prod_id\" and \"predicted_ratings\"\n",
        "A1A5KUIIIHFF4U_recommendations_df = pd.DataFrame(data = A1A5KUIIIHFF4U_recommendations, columns = ['prod_id', 'rating'])"
      ]
    },
    {
      "cell_type": "code",
      "source": [
        "A1A5KUIIIHFF4U_recommendations_df.head()"
      ],
      "metadata": {
        "colab": {
          "base_uri": "https://localhost:8080/",
          "height": 206
        },
        "id": "WxiEjK072yc3",
        "outputId": "4726acd5-132e-4157-b727-8b6bf1d28742"
      },
      "execution_count": null,
      "outputs": [
        {
          "output_type": "execute_result",
          "data": {
            "text/plain": [
              "      prod_id    rating\n",
              "0  1400532655  4.291367\n",
              "1  1400599997  4.291367\n",
              "2  9983891212  4.291367\n",
              "3  B00000DM9W  4.291367\n",
              "4  B00000J1V5  4.291367"
            ],
            "text/html": [
              "\n",
              "  <div id=\"df-ed6bb3ef-718f-4ca0-8548-10b840e12449\" class=\"colab-df-container\">\n",
              "    <div>\n",
              "<style scoped>\n",
              "    .dataframe tbody tr th:only-of-type {\n",
              "        vertical-align: middle;\n",
              "    }\n",
              "\n",
              "    .dataframe tbody tr th {\n",
              "        vertical-align: top;\n",
              "    }\n",
              "\n",
              "    .dataframe thead th {\n",
              "        text-align: right;\n",
              "    }\n",
              "</style>\n",
              "<table border=\"1\" class=\"dataframe\">\n",
              "  <thead>\n",
              "    <tr style=\"text-align: right;\">\n",
              "      <th></th>\n",
              "      <th>prod_id</th>\n",
              "      <th>rating</th>\n",
              "    </tr>\n",
              "  </thead>\n",
              "  <tbody>\n",
              "    <tr>\n",
              "      <th>0</th>\n",
              "      <td>1400532655</td>\n",
              "      <td>4.291367</td>\n",
              "    </tr>\n",
              "    <tr>\n",
              "      <th>1</th>\n",
              "      <td>1400599997</td>\n",
              "      <td>4.291367</td>\n",
              "    </tr>\n",
              "    <tr>\n",
              "      <th>2</th>\n",
              "      <td>9983891212</td>\n",
              "      <td>4.291367</td>\n",
              "    </tr>\n",
              "    <tr>\n",
              "      <th>3</th>\n",
              "      <td>B00000DM9W</td>\n",
              "      <td>4.291367</td>\n",
              "    </tr>\n",
              "    <tr>\n",
              "      <th>4</th>\n",
              "      <td>B00000J1V5</td>\n",
              "      <td>4.291367</td>\n",
              "    </tr>\n",
              "  </tbody>\n",
              "</table>\n",
              "</div>\n",
              "    <div class=\"colab-df-buttons\">\n",
              "\n",
              "  <div class=\"colab-df-container\">\n",
              "    <button class=\"colab-df-convert\" onclick=\"convertToInteractive('df-ed6bb3ef-718f-4ca0-8548-10b840e12449')\"\n",
              "            title=\"Convert this dataframe to an interactive table.\"\n",
              "            style=\"display:none;\">\n",
              "\n",
              "  <svg xmlns=\"http://www.w3.org/2000/svg\" height=\"24px\" viewBox=\"0 -960 960 960\">\n",
              "    <path d=\"M120-120v-720h720v720H120Zm60-500h600v-160H180v160Zm220 220h160v-160H400v160Zm0 220h160v-160H400v160ZM180-400h160v-160H180v160Zm440 0h160v-160H620v160ZM180-180h160v-160H180v160Zm440 0h160v-160H620v160Z\"/>\n",
              "  </svg>\n",
              "    </button>\n",
              "\n",
              "  <style>\n",
              "    .colab-df-container {\n",
              "      display:flex;\n",
              "      gap: 12px;\n",
              "    }\n",
              "\n",
              "    .colab-df-convert {\n",
              "      background-color: #E8F0FE;\n",
              "      border: none;\n",
              "      border-radius: 50%;\n",
              "      cursor: pointer;\n",
              "      display: none;\n",
              "      fill: #1967D2;\n",
              "      height: 32px;\n",
              "      padding: 0 0 0 0;\n",
              "      width: 32px;\n",
              "    }\n",
              "\n",
              "    .colab-df-convert:hover {\n",
              "      background-color: #E2EBFA;\n",
              "      box-shadow: 0px 1px 2px rgba(60, 64, 67, 0.3), 0px 1px 3px 1px rgba(60, 64, 67, 0.15);\n",
              "      fill: #174EA6;\n",
              "    }\n",
              "\n",
              "    .colab-df-buttons div {\n",
              "      margin-bottom: 4px;\n",
              "    }\n",
              "\n",
              "    [theme=dark] .colab-df-convert {\n",
              "      background-color: #3B4455;\n",
              "      fill: #D2E3FC;\n",
              "    }\n",
              "\n",
              "    [theme=dark] .colab-df-convert:hover {\n",
              "      background-color: #434B5C;\n",
              "      box-shadow: 0px 1px 3px 1px rgba(0, 0, 0, 0.15);\n",
              "      filter: drop-shadow(0px 1px 2px rgba(0, 0, 0, 0.3));\n",
              "      fill: #FFFFFF;\n",
              "    }\n",
              "  </style>\n",
              "\n",
              "    <script>\n",
              "      const buttonEl =\n",
              "        document.querySelector('#df-ed6bb3ef-718f-4ca0-8548-10b840e12449 button.colab-df-convert');\n",
              "      buttonEl.style.display =\n",
              "        google.colab.kernel.accessAllowed ? 'block' : 'none';\n",
              "\n",
              "      async function convertToInteractive(key) {\n",
              "        const element = document.querySelector('#df-ed6bb3ef-718f-4ca0-8548-10b840e12449');\n",
              "        const dataTable =\n",
              "          await google.colab.kernel.invokeFunction('convertToInteractive',\n",
              "                                                    [key], {});\n",
              "        if (!dataTable) return;\n",
              "\n",
              "        const docLinkHtml = 'Like what you see? Visit the ' +\n",
              "          '<a target=\"_blank\" href=https://colab.research.google.com/notebooks/data_table.ipynb>data table notebook</a>'\n",
              "          + ' to learn more about interactive tables.';\n",
              "        element.innerHTML = '';\n",
              "        dataTable['output_type'] = 'display_data';\n",
              "        await google.colab.output.renderOutput(dataTable, element);\n",
              "        const docLink = document.createElement('div');\n",
              "        docLink.innerHTML = docLinkHtml;\n",
              "        element.appendChild(docLink);\n",
              "      }\n",
              "    </script>\n",
              "  </div>\n",
              "\n",
              "\n",
              "<div id=\"df-52238199-9fd9-4161-9658-93c68b1d014e\">\n",
              "  <button class=\"colab-df-quickchart\" onclick=\"quickchart('df-52238199-9fd9-4161-9658-93c68b1d014e')\"\n",
              "            title=\"Suggest charts\"\n",
              "            style=\"display:none;\">\n",
              "\n",
              "<svg xmlns=\"http://www.w3.org/2000/svg\" height=\"24px\"viewBox=\"0 0 24 24\"\n",
              "     width=\"24px\">\n",
              "    <g>\n",
              "        <path d=\"M19 3H5c-1.1 0-2 .9-2 2v14c0 1.1.9 2 2 2h14c1.1 0 2-.9 2-2V5c0-1.1-.9-2-2-2zM9 17H7v-7h2v7zm4 0h-2V7h2v10zm4 0h-2v-4h2v4z\"/>\n",
              "    </g>\n",
              "</svg>\n",
              "  </button>\n",
              "\n",
              "<style>\n",
              "  .colab-df-quickchart {\n",
              "      --bg-color: #E8F0FE;\n",
              "      --fill-color: #1967D2;\n",
              "      --hover-bg-color: #E2EBFA;\n",
              "      --hover-fill-color: #174EA6;\n",
              "      --disabled-fill-color: #AAA;\n",
              "      --disabled-bg-color: #DDD;\n",
              "  }\n",
              "\n",
              "  [theme=dark] .colab-df-quickchart {\n",
              "      --bg-color: #3B4455;\n",
              "      --fill-color: #D2E3FC;\n",
              "      --hover-bg-color: #434B5C;\n",
              "      --hover-fill-color: #FFFFFF;\n",
              "      --disabled-bg-color: #3B4455;\n",
              "      --disabled-fill-color: #666;\n",
              "  }\n",
              "\n",
              "  .colab-df-quickchart {\n",
              "    background-color: var(--bg-color);\n",
              "    border: none;\n",
              "    border-radius: 50%;\n",
              "    cursor: pointer;\n",
              "    display: none;\n",
              "    fill: var(--fill-color);\n",
              "    height: 32px;\n",
              "    padding: 0;\n",
              "    width: 32px;\n",
              "  }\n",
              "\n",
              "  .colab-df-quickchart:hover {\n",
              "    background-color: var(--hover-bg-color);\n",
              "    box-shadow: 0 1px 2px rgba(60, 64, 67, 0.3), 0 1px 3px 1px rgba(60, 64, 67, 0.15);\n",
              "    fill: var(--button-hover-fill-color);\n",
              "  }\n",
              "\n",
              "  .colab-df-quickchart-complete:disabled,\n",
              "  .colab-df-quickchart-complete:disabled:hover {\n",
              "    background-color: var(--disabled-bg-color);\n",
              "    fill: var(--disabled-fill-color);\n",
              "    box-shadow: none;\n",
              "  }\n",
              "\n",
              "  .colab-df-spinner {\n",
              "    border: 2px solid var(--fill-color);\n",
              "    border-color: transparent;\n",
              "    border-bottom-color: var(--fill-color);\n",
              "    animation:\n",
              "      spin 1s steps(1) infinite;\n",
              "  }\n",
              "\n",
              "  @keyframes spin {\n",
              "    0% {\n",
              "      border-color: transparent;\n",
              "      border-bottom-color: var(--fill-color);\n",
              "      border-left-color: var(--fill-color);\n",
              "    }\n",
              "    20% {\n",
              "      border-color: transparent;\n",
              "      border-left-color: var(--fill-color);\n",
              "      border-top-color: var(--fill-color);\n",
              "    }\n",
              "    30% {\n",
              "      border-color: transparent;\n",
              "      border-left-color: var(--fill-color);\n",
              "      border-top-color: var(--fill-color);\n",
              "      border-right-color: var(--fill-color);\n",
              "    }\n",
              "    40% {\n",
              "      border-color: transparent;\n",
              "      border-right-color: var(--fill-color);\n",
              "      border-top-color: var(--fill-color);\n",
              "    }\n",
              "    60% {\n",
              "      border-color: transparent;\n",
              "      border-right-color: var(--fill-color);\n",
              "    }\n",
              "    80% {\n",
              "      border-color: transparent;\n",
              "      border-right-color: var(--fill-color);\n",
              "      border-bottom-color: var(--fill-color);\n",
              "    }\n",
              "    90% {\n",
              "      border-color: transparent;\n",
              "      border-bottom-color: var(--fill-color);\n",
              "    }\n",
              "  }\n",
              "</style>\n",
              "\n",
              "  <script>\n",
              "    async function quickchart(key) {\n",
              "      const quickchartButtonEl =\n",
              "        document.querySelector('#' + key + ' button');\n",
              "      quickchartButtonEl.disabled = true;  // To prevent multiple clicks.\n",
              "      quickchartButtonEl.classList.add('colab-df-spinner');\n",
              "      try {\n",
              "        const charts = await google.colab.kernel.invokeFunction(\n",
              "            'suggestCharts', [key], {});\n",
              "      } catch (error) {\n",
              "        console.error('Error during call to suggestCharts:', error);\n",
              "      }\n",
              "      quickchartButtonEl.classList.remove('colab-df-spinner');\n",
              "      quickchartButtonEl.classList.add('colab-df-quickchart-complete');\n",
              "    }\n",
              "    (() => {\n",
              "      let quickchartButtonEl =\n",
              "        document.querySelector('#df-52238199-9fd9-4161-9658-93c68b1d014e button');\n",
              "      quickchartButtonEl.style.display =\n",
              "        google.colab.kernel.accessAllowed ? 'block' : 'none';\n",
              "    })();\n",
              "  </script>\n",
              "</div>\n",
              "\n",
              "    </div>\n",
              "  </div>\n"
            ],
            "application/vnd.google.colaboratory.intrinsic+json": {
              "type": "dataframe",
              "variable_name": "A1A5KUIIIHFF4U_recommendations_df",
              "summary": "{\n  \"name\": \"A1A5KUIIIHFF4U_recommendations_df\",\n  \"rows\": 5,\n  \"fields\": [\n    {\n      \"column\": \"prod_id\",\n      \"properties\": {\n        \"dtype\": \"string\",\n        \"num_unique_values\": 5,\n        \"samples\": [\n          \"1400599997\",\n          \"B00000J1V5\",\n          \"9983891212\"\n        ],\n        \"semantic_type\": \"\",\n        \"description\": \"\"\n      }\n    },\n    {\n      \"column\": \"rating\",\n      \"properties\": {\n        \"dtype\": \"number\",\n        \"std\": 0.0,\n        \"min\": 4.291366722826364,\n        \"max\": 4.291366722826364,\n        \"num_unique_values\": 1,\n        \"samples\": [\n          4.291366722826364\n        ],\n        \"semantic_type\": \"\",\n        \"description\": \"\"\n      }\n    }\n  ]\n}"
            }
          },
          "metadata": {},
          "execution_count": 141
        }
      ]
    },
    {
      "cell_type": "markdown",
      "metadata": {
        "id": "DHzmYvs0Tsnv"
      },
      "source": [
        "Now as we have seen **similarity-based collaborative filtering algorithms**, let us now get into **model-based collaborative filtering algorithms**."
      ]
    },
    {
      "cell_type": "markdown",
      "metadata": {
        "id": "rKgJpSA9vOOL"
      },
      "source": [
        "### **Model 3: Model-Based Collaborative Filtering - Matrix Factorization**"
      ]
    },
    {
      "cell_type": "markdown",
      "metadata": {
        "id": "YF6ZGyqhCAob"
      },
      "source": [
        "Model-based Collaborative Filtering is a **personalized recommendation system**, the recommendations are based on the past behavior of the user and it is not dependent on any additional information. We use **latent features** to find recommendations for each user."
      ]
    },
    {
      "cell_type": "markdown",
      "metadata": {
        "id": "n4Otha8ovOOL"
      },
      "source": [
        "### Singular Value Decomposition (SVD)"
      ]
    },
    {
      "cell_type": "markdown",
      "metadata": {
        "id": "3sGl3QkLvOOL"
      },
      "source": [
        "SVD is used to **compute the latent features** from the **user-item matrix**. But SVD does not work when we **miss values** in the **user-item matrix**."
      ]
    },
    {
      "cell_type": "code",
      "execution_count": null,
      "metadata": {
        "id": "07-2PT5Ssjqm",
        "colab": {
          "base_uri": "https://localhost:8080/"
        },
        "outputId": "bd947da1-2ec9-4a3e-8466-9da754f6fe85"
      },
      "outputs": [
        {
          "output_type": "stream",
          "name": "stdout",
          "text": [
            "RMSE: 0.9296\n",
            "Precision:  0.876\n",
            "Recall:  0.488\n",
            "F_1 score:  0.627\n"
          ]
        }
      ],
      "source": [
        "# Using SVD matrix factorization. Use random_state = 1\n",
        "algo_svd = SVD(random_state=1)\n",
        "\n",
        "# Training the algorithm on the trainset\n",
        "algo_svd.fit(trainset)\n",
        "\n",
        "# Use the function precision_recall_at_k to compute precision@k, recall@k, F1-Score, and RMSE\n",
        "precision_recall_at_k(model = algo_svd)"
      ]
    },
    {
      "cell_type": "markdown",
      "metadata": {
        "id": "BQ6fTuCDnVNL"
      },
      "source": [
        "**Observations:**\n",
        "\n",
        "The RMSE for our baseline SVD model is already pretty strong, at .9296, which is the strongest starting points for any of our models thus far."
      ]
    },
    {
      "cell_type": "markdown",
      "metadata": {
        "id": "ODI7dTUQIgeW"
      },
      "source": [
        "**Let's now predict the rating for a user with `userId = \"A3LDPF5FMB782Z\"` and `prod_id = \"1400501466`.**"
      ]
    },
    {
      "cell_type": "code",
      "execution_count": null,
      "metadata": {
        "id": "yWIhfdxXsjqm",
        "colab": {
          "base_uri": "https://localhost:8080/"
        },
        "outputId": "166ca1ec-e560-4f4b-88e8-75d8f1ed52a2"
      },
      "outputs": [
        {
          "output_type": "execute_result",
          "data": {
            "text/plain": [
              "Prediction(uid='A3LDPF5FMB782Z', iid='1400501466', r_ui=None, est=4.134651034794736, details={'was_impossible': False})"
            ]
          },
          "metadata": {},
          "execution_count": 144
        }
      ],
      "source": [
        "# Making prediction\n",
        "algo_svd.predict('A3LDPF5FMB782Z', '1400501466')"
      ]
    },
    {
      "cell_type": "markdown",
      "metadata": {
        "id": "oIjzqDY5nVNM"
      },
      "source": [
        "**Observations:**\n",
        "\n",
        "The model was able to provide a prediction for this user/product datapoint of 4.13."
      ]
    },
    {
      "cell_type": "markdown",
      "metadata": {
        "id": "I1aYxVeMnVNM"
      },
      "source": [
        "**Below we are predicting rating for the `userId = \"A34BZM6S9L7QI4\"` and `productId = \"1400501466\"`.**"
      ]
    },
    {
      "cell_type": "code",
      "execution_count": null,
      "metadata": {
        "id": "APm-uMSvcAMf",
        "colab": {
          "base_uri": "https://localhost:8080/"
        },
        "outputId": "60db46bf-993a-4dca-9edf-10a6843ebcdd"
      },
      "outputs": [
        {
          "output_type": "execute_result",
          "data": {
            "text/plain": [
              "Prediction(uid='A34BZM6S9L7QI4', iid='1400501466', r_ui=None, est=4.251243941476115, details={'was_impossible': False})"
            ]
          },
          "metadata": {},
          "execution_count": 145
        }
      ],
      "source": [
        "# Making prediction\n",
        "algo_svd.predict('A34BZM6S9L7QI4', '1400501466')"
      ]
    },
    {
      "cell_type": "markdown",
      "metadata": {
        "id": "NEL6dy3wnVNM"
      },
      "source": [
        "**Observations:**\n",
        "\n",
        "The model was able to provide a prediction for this user/product datapoint of 4.25."
      ]
    },
    {
      "cell_type": "markdown",
      "metadata": {
        "id": "x13Eb9Owvpcw"
      },
      "source": [
        "### **Improving Matrix Factorization based recommendation system by tuning its hyperparameters**"
      ]
    },
    {
      "cell_type": "markdown",
      "metadata": {
        "id": "iQcDPhhcnVNN"
      },
      "source": [
        "Below we will be tuning only three hyperparameters:\n",
        "- **n_epochs**: The number of iterations of the SGD algorithm.\n",
        "- **lr_all**: The learning rate for all parameters.\n",
        "- **reg_all**: The regularization term for all parameters."
      ]
    },
    {
      "cell_type": "code",
      "execution_count": null,
      "metadata": {
        "id": "4bM81V_hvtwv",
        "colab": {
          "base_uri": "https://localhost:8080/"
        },
        "outputId": "78c5b878-0f64-4ef9-d846-e7c661c61d82"
      },
      "outputs": [
        {
          "output_type": "stream",
          "name": "stdout",
          "text": [
            "0.8991676458264246\n",
            "{'n_epochs': 20, 'lr_all': 0.01, 'reg_all': 0.4}\n"
          ]
        }
      ],
      "source": [
        "# Set the parameter space to tune\n",
        "param_grid = {'n_epochs': [10, 20, 30], 'lr_all': [0.001, 0.005, 0.01],\n",
        "                 'reg_all': [0.2, 0.4, 0.6]}\n",
        "\n",
        "# Performing 3-fold gridsearch cross-validation\n",
        "gs = GridSearchCV(SVD, param_grid, measures=['rmse', 'mae'], cv=3, n_jobs=-1)\n",
        "\n",
        "# Fitting data\n",
        "gs.fit(data)\n",
        "\n",
        "# Best RMSE score\n",
        "print(gs.best_score['rmse'])\n",
        "\n",
        "# Combination of parameters that gave the best RMSE score\n",
        "print(gs.best_params['rmse'])"
      ]
    },
    {
      "cell_type": "markdown",
      "metadata": {
        "id": "KzY78HsrnVNO"
      },
      "source": [
        "Now, we will **the build final model** by using **tuned values** of the hyperparameters, which we received using grid search cross-validation above."
      ]
    },
    {
      "cell_type": "code",
      "execution_count": null,
      "metadata": {
        "id": "TA_7xe-nnhuu",
        "colab": {
          "base_uri": "https://localhost:8080/"
        },
        "outputId": "0b6e45b1-c8c2-4f55-d5d3-9e6327b2888a"
      },
      "outputs": [
        {
          "output_type": "stream",
          "name": "stdout",
          "text": [
            "RMSE: 0.9216\n",
            "Precision:  0.883\n",
            "Recall:  0.49\n",
            "F_1 score:  0.63\n"
          ]
        }
      ],
      "source": [
        "# Build the optimized SVD model using optimal hyperparameter search. Use random_state=1\n",
        "algo_svd_optimized = SVD(n_epochs = 20, lr_all = 0.01, reg_all = 0.4, random_state=1)\n",
        "\n",
        "# Train the algorithm on the trainset\n",
        "algo_svd_optimized.fit(trainset)\n",
        "\n",
        "# Use the function precision_recall_at_k to compute precision@k, recall@k, F1-Score, and RMSE\n",
        "precision_recall_at_k(model = algo_svd_optimized)"
      ]
    },
    {
      "cell_type": "markdown",
      "metadata": {
        "id": "9HJvPsjITsny"
      },
      "source": [
        "**Observations:**\n",
        "\n",
        "There has been marginal improvement over the previous untuned SVD model. RMSE has gone down from .9296 to .9216 and F-1 score has increased 0.3%."
      ]
    },
    {
      "cell_type": "markdown",
      "metadata": {
        "id": "T4isr7a-IgeY"
      },
      "source": [
        "### **Steps:**\n",
        "- **Predict rating for the user with `userId=\"A3LDPF5FMB782Z\"`, and `prod_id= \"1400501466\"` using the optimized model**\n",
        "- **Predict rating for `userId=\"A34BZM6S9L7QI4\"` who has not interacted with `prod_id =\"1400501466\"`, by using the optimized model**\n",
        "- **Compare the output with the output from the baseline model**"
      ]
    },
    {
      "cell_type": "code",
      "execution_count": null,
      "metadata": {
        "id": "BDkoPIDaIgea",
        "colab": {
          "base_uri": "https://localhost:8080/"
        },
        "outputId": "d8eb75d7-3871-4177-d3a6-308231b5735b"
      },
      "outputs": [
        {
          "output_type": "execute_result",
          "data": {
            "text/plain": [
              "Prediction(uid='A3LDPF5FMB782Z', iid='1400501466', r_ui=None, est=3.8924079109817824, details={'was_impossible': False})"
            ]
          },
          "metadata": {},
          "execution_count": 148
        }
      ],
      "source": [
        "# Use svd_algo_optimized model to recommend for userId \"A3LDPF5FMB782Z\" and productId \"1400501466\"\n",
        "algo_svd_optimized.predict('A3LDPF5FMB782Z','1400501466')"
      ]
    },
    {
      "cell_type": "code",
      "execution_count": null,
      "metadata": {
        "id": "fKjBlWYsIgea",
        "colab": {
          "base_uri": "https://localhost:8080/"
        },
        "outputId": "93271810-a8c0-4d02-9d41-062e4ccda616"
      },
      "outputs": [
        {
          "output_type": "execute_result",
          "data": {
            "text/plain": [
              "Prediction(uid='A34BZM6S9L7QI4', iid='1400501466', r_ui=None, est=4.000229299274616, details={'was_impossible': False})"
            ]
          },
          "metadata": {},
          "execution_count": 149
        }
      ],
      "source": [
        "# Use svd_algo_optimized model to recommend for userId \"A34BZM6S9L7QI4\" and productId \"1400501466\"\n",
        "algo_svd_optimized.predict('A34BZM6S9L7QI4', '1400501466')"
      ]
    },
    {
      "cell_type": "markdown",
      "source": [
        "**Observations:**\n",
        "\n",
        "The optimized model was able to give predictions of 3.89 and 4.00 for the different user/product pairs. These ratings are approximately .25 points lower than the previous predictions. This change is interesting given the small change in performance metrics but may indicate a more accurate model."
      ],
      "metadata": {
        "id": "iWee_Hhd8mCq"
      }
    },
    {
      "cell_type": "markdown",
      "metadata": {
        "id": "nnwPwgjB8DwS"
      },
      "source": [
        "### **Conclusion and Recommendations**"
      ]
    },
    {
      "cell_type": "markdown",
      "metadata": {
        "id": "xuqnifw9NF2p"
      },
      "source": [
        "\n",
        "\n",
        "*   This dateset of user-item reviews while large in volume prooved somewhat difficult to work with and produce insightful recommendations from.\n",
        "*   The KNNBasic algorithm had a difficult time finding any nearest neighbors for the particular user-item combinations we were looking to predict.\n",
        "*   Employing Singular Value Decomposition allowed us to extract some hidden features from the dataset which seemed to allow us to create some predictions for the user-item pairs we were investigating.\n",
        "*   Because SVD was sucessful and creating more meaningful predictions from the dataset, this might indicate that having additional informaiton about our customer base may be helpful in creating more meaningful predictions.\n",
        "*   Amazon may want to look into ways to collect additional information about their customers and/or work with their data engineers to get that data into hands of data scientists, so that we may employ additional alogrithms, such as clustering techniques, to group customers by similar attributes that would help inform rating predictions.\n",
        "\n"
      ]
    }
  ],
  "metadata": {
    "colab": {
      "provenance": []
    },
    "kernelspec": {
      "display_name": "Python 3 (ipykernel)",
      "language": "python",
      "name": "python3"
    },
    "language_info": {
      "codemirror_mode": {
        "name": "ipython",
        "version": 3
      },
      "file_extension": ".py",
      "mimetype": "text/x-python",
      "name": "python",
      "nbconvert_exporter": "python",
      "pygments_lexer": "ipython3",
      "version": "3.9.7"
    }
  },
  "nbformat": 4,
  "nbformat_minor": 0
}